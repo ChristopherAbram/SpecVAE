{
 "cells": [
  {
   "cell_type": "code",
   "execution_count": null,
   "metadata": {},
   "outputs": [],
   "source": [
    "import numpy as np\n",
    "import torch\n",
    "from sklearn.decomposition import PCA\n",
    "from sklearn.manifold import TSNE\n",
    "from umap import UMAP\n",
    "import seaborn as sns\n",
    "import matplotlib.pyplot as plt\n",
    "%matplotlib inline\n",
    "sns.set(style='white', context='notebook', rc={'figure.figsize':(24,20)})\n",
    "\n",
    "import torchvision as tv\n",
    "from specvae.dataset import MoNA\n",
    "import specvae.vae as vae, specvae.utils as utils\n",
    "import specvae.dataset as dt\n",
    "\n",
    "import plotly.express as px\n",
    "import pandas as pd"
   ]
  },
  {
   "cell_type": "code",
   "execution_count": null,
   "metadata": {},
   "outputs": [],
   "source": [
    "use_cuda = False\n",
    "cpu_device = torch.device('cpu')\n",
    "if torch.cuda.is_available() and use_cuda:\n",
    "    device = torch.device('cuda:0')\n",
    "    print('GPU device count:', torch.cuda.device_count())\n",
    "else:\n",
    "    device = torch.device('cpu')\n",
    "print('Device in use: ', device)"
   ]
  },
  {
   "cell_type": "code",
   "execution_count": null,
   "metadata": {},
   "outputs": [],
   "source": [
    "# Processing parameters:\n",
    "dataset = 'MoNA' # HMDB and MoNA\n",
    "model_name = 'alt_specvae_2000-1538-30-1538-2000 (28-06-2021_14-05-29)'"
   ]
  },
  {
   "cell_type": "code",
   "execution_count": null,
   "metadata": {},
   "outputs": [],
   "source": [
    "print(\"Load data\")\n",
    "filename = \"%s-%s.npz\" % (dataset, model_name)\n",
    "filepath = utils.get_project_path() / '.data' / 'latent' / filename\n",
    "b = np.load(filepath)\n",
    "X, mode, energy, tax, ids, classes = b['X'], b['mode'], b['energy'], b['tax'], b['ids'], b['classes']"
   ]
  },
  {
   "cell_type": "code",
   "execution_count": null,
   "metadata": {},
   "outputs": [],
   "source": [
    "X.shape"
   ]
  },
  {
   "cell_type": "code",
   "execution_count": null,
   "metadata": {},
   "outputs": [],
   "source": [
    "tax"
   ]
  },
  {
   "cell_type": "code",
   "execution_count": null,
   "metadata": {},
   "outputs": [],
   "source": [
    "# colors = np.array(list(map(lambda x: 'negative' if x==0 else 'positive', mode)))\n",
    "colors = np.array(list(map(lambda x: classes[x], tax)))\n",
    "colors"
   ]
  },
  {
   "cell_type": "code",
   "execution_count": null,
   "metadata": {},
   "outputs": [],
   "source": [
    "colors.shape"
   ]
  },
  {
   "cell_type": "code",
   "execution_count": null,
   "metadata": {},
   "outputs": [],
   "source": [
    "print(\"Load fake spectra\")\n",
    "fake1 = np.load(utils.get_project_path() / '.data' / 'latent' / 'single_peak.npz')\n",
    "X_fake1, ids_fake1 = fake1['X'], fake1['ids']\n",
    "\n",
    "fake2 = np.load(utils.get_project_path() / '.data' / 'latent' / 'two_peaks.npz')\n",
    "X_fake2, ids_fake2 = fake2['X'], fake2['ids']\n",
    "\n",
    "fake3 = np.load(utils.get_project_path() / '.data' / 'latent' / 'three_peaks.npz')\n",
    "X_fake3, ids_fake3 = fake3['X'], fake3['ids']\n",
    "\n",
    "fake4 = np.load(utils.get_project_path() / '.data' / 'latent' / 'four_peaks.npz')\n",
    "X_fake4, ids_fake4 = fake4['X'], fake4['ids']\n",
    "\n",
    "fake5 = np.load(utils.get_project_path() / '.data' / 'latent' / 'five_peaks.npz')\n",
    "X_fake5, ids_fake5 = fake5['X'], fake5['ids']\n",
    "\n",
    "fake6 = np.load(utils.get_project_path() / '.data' / 'latent' / 'six_peaks.npz')\n",
    "X_fake6, ids_fake6 = fake6['X'], fake6['ids']"
   ]
  },
  {
   "cell_type": "code",
   "execution_count": null,
   "metadata": {},
   "outputs": [],
   "source": [
    "X.shape, X_fake1.shape, X_fake2.shape, X_fake3.shape, X_fake4.shape, X_fake5.shape, X_fake6.shape"
   ]
  },
  {
   "cell_type": "code",
   "execution_count": null,
   "metadata": {},
   "outputs": [],
   "source": [
    "ids_fake2"
   ]
  },
  {
   "cell_type": "code",
   "execution_count": null,
   "metadata": {},
   "outputs": [],
   "source": [
    "print(\"Compute PCA for n_components=2\")\n",
    "red = PCA(2)\n",
    "X_c = np.vstack((X, X_fake1, X_fake2, X_fake3, X_fake4, X_fake5, X_fake6))\n",
    "# X_c = np.vstack((X_fake2))\n",
    "print(X_c.shape)\n",
    "color_c = []\n",
    "for i in range(X_c.shape[0]):\n",
    "    if i < X.shape[0]:\n",
    "        color_c.append(dataset)\n",
    "    elif i < (X.shape[0] + X_fake1.shape[0]):\n",
    "        color_c.append('1 peak')\n",
    "    elif i < (X.shape[0] + X_fake1.shape[0] + X_fake2.shape[0]):\n",
    "        color_c.append('2 peaks')\n",
    "    elif i < (X.shape[0] + X_fake1.shape[0] + X_fake2.shape[0] + X_fake3.shape[0]):\n",
    "        color_c.append('3 peaks')\n",
    "    elif i < (X.shape[0] + X_fake1.shape[0] + X_fake2.shape[0] + X_fake3.shape[0] + X_fake4.shape[0]):\n",
    "        color_c.append('4 peaks')\n",
    "    elif i < (X.shape[0] + X_fake1.shape[0] + X_fake2.shape[0] + X_fake3.shape[0] + X_fake4.shape[0] + X_fake5.shape[0]):\n",
    "        color_c.append('5 peaks')\n",
    "    else:\n",
    "        color_c.append('6 peaks')\n",
    "color_c = np.array(color_c)\n",
    "# color_c = np.array([dataset if i < X.shape[0] else 'One peak' for i in range(X_c.shape[0])])\n",
    "ids_c = np.hstack((ids, ids_fake1.astype(str), ids_fake2.astype(str), ids_fake3.astype(str), ids_fake4.astype(str), ids_fake5.astype(str), ids_fake6.astype(str)))\n",
    "# ids_c = np.hstack((ids_fake2.astype(str)))\n",
    "data = red.fit_transform(X_c)\n",
    "data.shape, color_c.shape"
   ]
  },
  {
   "cell_type": "code",
   "execution_count": null,
   "metadata": {},
   "outputs": [],
   "source": [
    "fig = px.scatter(data, x=0, y=1, color=color_c, template='plotly_white', hover_data={'ID': ids_c}, width=1200, height=1200)\n",
    "fig.show()"
   ]
  },
  {
   "cell_type": "code",
   "execution_count": null,
   "metadata": {},
   "outputs": [],
   "source": [
    "print(\"Compute PCA for n_components=3\")\n",
    "red = PCA(5)\n",
    "data = red.fit_transform(X_c)"
   ]
  },
  {
   "cell_type": "code",
   "execution_count": null,
   "metadata": {},
   "outputs": [],
   "source": [
    "fig = px.scatter_3d(data, x=0, y=1, z=2, color=color_c, template='plotly_white', hover_data={'ID': ids_c}, width=1200, height=1200)\n",
    "fig.update_traces(marker=dict(\n",
    "                    size=3,\n",
    "#                     line=dict(\n",
    "#                         width=1,\n",
    "#                         color='DarkSlateGrey'\n",
    "#                     )\n",
    "                ),\n",
    "                selector=dict(mode='markers'))\n",
    "fig.show()"
   ]
  },
  {
   "cell_type": "code",
   "execution_count": null,
   "metadata": {},
   "outputs": [],
   "source": [
    "pca_comp = 10\n",
    "print(\"Compute PCA for n_components=%d\" % pca_comp)\n",
    "red = PCA(pca_comp)\n",
    "data = red.fit_transform(X_c)\n",
    "\n",
    "print(\"PCA:\")\n",
    "print(\"\\t      explained_variance:\", red.explained_variance_)\n",
    "print(\"\\texplained_variance_ratio:\", red.explained_variance_ratio_)"
   ]
  },
  {
   "cell_type": "code",
   "execution_count": null,
   "metadata": {},
   "outputs": [],
   "source": [
    "n_components = 2\n",
    "print(\"Compute tSNE for n_components=%d\" % n_components)\n",
    "r = TSNE(n_components)\n",
    "tdata = r.fit_transform(data)\n",
    "\n",
    "print(\"TSNE:\")\n",
    "print(\"\\t      kl_divergence:\", r.kl_divergence_)"
   ]
  },
  {
   "cell_type": "code",
   "execution_count": null,
   "metadata": {},
   "outputs": [],
   "source": [
    "fig = px.scatter(tdata, x=0, y=1, color=color_c, template='plotly_white', hover_data={'ID': ids_c}, width=1200, height=1200)\n",
    "fig.show()"
   ]
  },
  {
   "cell_type": "code",
   "execution_count": null,
   "metadata": {},
   "outputs": [],
   "source": [
    "n_components = 3\n",
    "print(\"Compute tSNE for n_components=%d\" % n_components)\n",
    "r = TSNE(n_components)\n",
    "tdata = r.fit_transform(data)\n",
    "\n",
    "print(\"TSNE:\")\n",
    "print(\"\\t      kl_divergence:\", r.kl_divergence_)"
   ]
  },
  {
   "cell_type": "code",
   "execution_count": null,
   "metadata": {},
   "outputs": [],
   "source": [
    "fig = px.scatter_3d(tdata, x=0, y=1, z=2, color=color_c, template='plotly_white', hover_data={'ID': ids_c}, width=1200, height=1200)\n",
    "fig.show()"
   ]
  },
  {
   "cell_type": "code",
   "execution_count": null,
   "metadata": {},
   "outputs": [],
   "source": [
    "def draw_umap(n_neighbors=15, min_dist=0.25, n_components=2, metric='euclidean', title=''):\n",
    "    fit = UMAP(\n",
    "        n_neighbors=n_neighbors,\n",
    "        min_dist=min_dist,\n",
    "        n_components=n_components,\n",
    "        metric=metric\n",
    "    )\n",
    "    u = fit.fit_transform(data)\n",
    "    if n_components == 1:\n",
    "        fig = px.scatter(u, x=0, y=1, color=color_c, template='plotly_white', hover_data={'ID': ids_c}, title=title)\n",
    "        fig.show()\n",
    "    if n_components == 2:\n",
    "        fig = px.scatter(u, x=0, y=1, color=color_c, template='plotly_white', hover_data={'ID': ids_c}, title=title, width=1200, height=1200)\n",
    "        fig.show()\n",
    "    if n_components == 3:\n",
    "        fig = px.scatter_3d(u, x=0, y=1, z=2, color=colors, template='plotly_white', hover_data={'ionization mode': mode, 'collision energy': energy, 'InChIKey': ids}, title=title)\n",
    "        fig.show()\n",
    "    "
   ]
  },
  {
   "cell_type": "code",
   "execution_count": null,
   "metadata": {},
   "outputs": [],
   "source": [
    "for n in (10, 20, 50, 100, 200):\n",
    "    draw_umap(n_neighbors=n, title='n_neighbors = {}'.format(n))"
   ]
  },
  {
   "cell_type": "code",
   "execution_count": null,
   "metadata": {},
   "outputs": [],
   "source": [
    "for d in (0.0, 0.1, 0.25, 0.5, 0.8, 0.99):\n",
    "    draw_umap(min_dist=d, title='min_dist = {}'.format(d))"
   ]
  },
  {
   "cell_type": "markdown",
   "metadata": {},
   "source": [
    "# Plot by metric type"
   ]
  },
  {
   "cell_type": "code",
   "execution_count": null,
   "metadata": {},
   "outputs": [],
   "source": [
    "for m in (\"euclidean\", \"correlation\", \"chebyshev\", \"minkowski\"):\n",
    "    name = m if type(m) is str else m.__name__\n",
    "    draw_umap(n_components=2, n_neighbors=200, metric=m, title='metric = {}'.format(name))"
   ]
  },
  {
   "cell_type": "code",
   "execution_count": null,
   "metadata": {},
   "outputs": [],
   "source": [
    "draw_umap(n_components=3, metric='euclidean', title='metric = euclidean')"
   ]
  }
 ],
 "metadata": {
  "interpreter": {
   "hash": "96803faf9eb6966f3c363a404b953bf55b7f0c27ba1921e83c59e074a4f873a1"
  },
  "kernelspec": {
   "display_name": "Python 3",
   "language": "python",
   "name": "python3"
  },
  "language_info": {
   "codemirror_mode": {
    "name": "ipython",
    "version": 3
   },
   "file_extension": ".py",
   "mimetype": "text/x-python",
   "name": "python",
   "nbconvert_exporter": "python",
   "pygments_lexer": "ipython3",
   "version": "3.7.9"
  }
 },
 "nbformat": 4,
 "nbformat_minor": 4
}
