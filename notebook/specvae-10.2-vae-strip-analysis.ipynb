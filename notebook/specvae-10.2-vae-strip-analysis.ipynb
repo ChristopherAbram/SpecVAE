{
 "cells": [
  {
   "attachments": {},
   "cell_type": "markdown",
   "id": "2772d9e2-e79f-4bb9-88f7-f5e3a9ebc35c",
   "metadata": {
    "papermill": {
     "duration": 0.013002,
     "end_time": "2021-11-18T14:26:54.585330",
     "exception": false,
     "start_time": "2021-11-18T14:26:54.572328",
     "status": "completed"
    },
    "tags": []
   },
   "source": [
    "# Swarm analysis\n",
    "Perform exhaustive correlation analysis per each combination of factor values."
   ]
  },
  {
   "cell_type": "code",
   "execution_count": null,
   "id": "37cfb008-2166-4a15-986e-329cb11ffad4",
   "metadata": {
    "execution": {
     "iopub.execute_input": "2021-11-18T14:26:54.623327Z",
     "iopub.status.busy": "2021-11-18T14:26:54.622328Z",
     "iopub.status.idle": "2021-11-18T14:26:57.955539Z",
     "shell.execute_reply": "2021-11-18T14:26:57.954541Z"
    },
    "papermill": {
     "duration": 3.358213,
     "end_time": "2021-11-18T14:26:57.956540",
     "exception": false,
     "start_time": "2021-11-18T14:26:54.598327",
     "status": "completed"
    },
    "tags": []
   },
   "outputs": [],
   "source": [
    "import os\n",
    "import numpy as np\n",
    "from specvae.vae import BaseVAE\n",
    "import specvae.dataset as dt\n",
    "import specvae.utils as utils\n",
    "import matplotlib.pyplot as plt\n",
    "import seaborn as sns"
   ]
  },
  {
   "cell_type": "code",
   "execution_count": null,
   "id": "fd2c3549",
   "metadata": {
    "execution": {
     "iopub.execute_input": "2021-11-18T14:26:58.030093Z",
     "iopub.status.busy": "2021-11-18T14:26:58.028537Z",
     "iopub.status.idle": "2021-11-18T14:26:58.032060Z",
     "shell.execute_reply": "2021-11-18T14:26:58.033061Z"
    },
    "papermill": {
     "duration": 0.024517,
     "end_time": "2021-11-18T14:26:58.033061",
     "exception": false,
     "start_time": "2021-11-18T14:26:58.008544",
     "status": "completed"
    },
    "tags": [
     "injected-parameters"
    ]
   },
   "outputs": [],
   "source": [
    "# Parameters\n",
    "dataset = \"MoNA\"\n",
    "# model_name = \"jointvae_20-800-200-50-3-50-200-800-20_01 (11-01-2022_23-10-10)\"\n",
    "# model_name = \"betavae_capacity_20-800-200-50-3-50-200-800-20_01 (24-12-2021_01-50-12)\"\n",
    "# model_name = \"betavae_capacity_100-400-100-3-400-100_01 (24-12-2021_11-06-17)\"\n",
    "# model_dir = \"D:\\\\Workspace\\\\SpecVAE\\\\.model\\\\MoNA\\\\jointvae\\\\jointvae_20-800-200-50-3-50-200-800-20_01 (11-01-2022_23-10-10)\"\n",
    "# model_dir = \"d:\\\\Workspace\\\\SpecVAE\\\\.model\\\\MoNA\\\\betavae_capacity_nextron\\\\betavae_capacity_20-800-200-50-3-50-200-800-20_01 (24-12-2021_01-50-12)\"\n",
    "# model_dir = \"d:\\\\Workspace\\\\SpecVAE\\\\.model\\\\HMDB\\\\betavae_capacity_nextron\\\\betavae_capacity_20-1600-2-1600-20_02 (24-12-2021_18-27-38)\"\n",
    "model_dirs = [\n",
    "    # MoNA\n",
    "    ## BetaVAE\n",
    "    ### Best\n",
    "    \"d:\\\\Workspace\\\\SpecVAE\\\\.model\\\\MoNA\\\\betavae_capacity_nextron\\\\best\\\\betavae_capacity_20-800-200-50-3-50-200-800-20_01 (24-12-2021_01-50-12)\",\n",
    "    \"d:\\\\Workspace\\\\SpecVAE\\\\.model\\\\MoNA\\\\betavae_capacity_nextron\\\\best\\\\betavae_capacity_20-400-100-3-400-20_02 (24-12-2021_03-34-34)\",\n",
    "    \"d:\\\\Workspace\\\\SpecVAE\\\\.model\\\\MoNA\\\\betavae_capacity_nextron\\\\best\\\\betavae_capacity_20-1600-3-1600-20_03 (24-12-2021_00-17-31)\",\n",
    "    \"d:\\\\Workspace\\\\SpecVAE\\\\.model\\\\MoNA\\\\betavae_capacity_nextron\\\\best\\\\betavae_capacity_20-800-3-800-20_04 (24-12-2021_00-25-10)\",\n",
    "    \"d:\\\\Workspace\\\\SpecVAE\\\\.model\\\\MoNA\\\\betavae_capacity_nextron\\\\best\\\\betavae_capacity_20-100-3-90-100-20_05 (24-12-2021_03-01-19)\",\n",
    "    \"d:\\\\Workspace\\\\SpecVAE\\\\.model\\\\MoNA\\\\betavae_capacity_nextron\\\\best\\\\betavae_capacity_50-400-3-100-400-50_06 (24-12-2021_06-19-49)\",\n",
    "    ### Beta\n",
    "    \"d:\\\\Workspace\\\\SpecVAE\\\\.model\\\\MoNA\\\\betavae_capacity_nextron\\\\beta\\\\betavae_capacity_100-1600-200-50-3-50-200-1600-100_01 (24-12-2021_09-13-36)\",\n",
    "    \"d:\\\\Workspace\\\\SpecVAE\\\\.model\\\\MoNA\\\\betavae_capacity_nextron\\\\beta\\\\betavae_capacity_100-1600-200-50-3-50-200-1600-100_02 (24-12-2021_09-15-11)\",\n",
    "    \"d:\\\\Workspace\\\\SpecVAE\\\\.model\\\\MoNA\\\\betavae_capacity_nextron\\\\beta\\\\betavae_capacity_100-1600-200-50-3-50-200-1600-100_03 (24-12-2021_09-29-26)\",\n",
    "    \"d:\\\\Workspace\\\\SpecVAE\\\\.model\\\\MoNA\\\\betavae_capacity_nextron\\\\beta\\\\betavae_capacity_100-1600-200-50-3-50-200-1600-100_04 (24-12-2021_09-29-36)\",\n",
    "    \"d:\\\\Workspace\\\\SpecVAE\\\\.model\\\\MoNA\\\\betavae_capacity_nextron\\\\beta\\\\betavae_capacity_100-1600-200-50-3-50-200-1600-100_05 (24-12-2021_09-06-14)\",\n",
    "    \"d:\\\\Workspace\\\\SpecVAE\\\\.model\\\\MoNA\\\\betavae_capacity_nextron\\\\beta\\\\betavae_capacity_100-1600-200-50-3-50-200-1600-100_06 (24-12-2021_09-05-10)\",\n",
    "    ### BetaVAE Score\n",
    "    \"d:\\\\Workspace\\\\SpecVAE\\\\.model\\\\MoNA\\\\betavae_capacity_nextron\\\\betavae_score\\\\betavae_capacity_100-400-100-3-400-100_01 (24-12-2021_11-06-17)\",\n",
    "    \"d:\\\\Workspace\\\\SpecVAE\\\\.model\\\\MoNA\\\\betavae_capacity_nextron\\\\betavae_score\\\\betavae_capacity_100-800-100-3-800-100_02 (24-12-2021_10-59-29)\",\n",
    "    \"d:\\\\Workspace\\\\SpecVAE\\\\.model\\\\MoNA\\\\betavae_capacity_nextron\\\\betavae_score\\\\betavae_capacity_100-400-200-50-3-50-200-400-100_03 (24-12-2021_09-47-19)\",\n",
    "    \"d:\\\\Workspace\\\\SpecVAE\\\\.model\\\\MoNA\\\\betavae_capacity_nextron\\\\betavae_score\\\\betavae_capacity_100-1600-3-1600-100_04 (24-12-2021_08-02-44)\",\n",
    "    \"d:\\\\Workspace\\\\SpecVAE\\\\.model\\\\MoNA\\\\betavae_capacity_nextron\\\\betavae_score\\\\betavae_capacity_100-400-100-3-400-100_05 (24-12-2021_10-57-01)\",\n",
    "    \"d:\\\\Workspace\\\\SpecVAE\\\\.model\\\\MoNA\\\\betavae_capacity_nextron\\\\betavae_score\\\\betavae_capacity_100-400-100-3-100-400-100_06 (24-12-2021_08-41-33)\",\n",
    "    ### FactorVAE Score\n",
    "    \"d:\\\\Workspace\\\\SpecVAE\\\\.model\\\\MoNA\\\\betavae_capacity_nextron\\\\factorvae_score\\\\betavae_capacity_100-100-90-50-3-50-90-100-100_01 (24-12-2021_09-48-37)\",\n",
    "    \"d:\\\\Workspace\\\\SpecVAE\\\\.model\\\\MoNA\\\\betavae_capacity_nextron\\\\factorvae_score\\\\betavae_capacity_100-1600-100-3-1600-100_02 (24-12-2021_10-51-41)\",\n",
    "    \"d:\\\\Workspace\\\\SpecVAE\\\\.model\\\\MoNA\\\\betavae_capacity_nextron\\\\factorvae_score\\\\betavae_capacity_100-800-100-3-800-100_03 (24-12-2021_11-16-41)\",\n",
    "    \"d:\\\\Workspace\\\\SpecVAE\\\\.model\\\\MoNA\\\\betavae_capacity_nextron\\\\factorvae_score\\\\betavae_capacity_100-1600-3-1600-100_04 (24-12-2021_08-02-44)\",\n",
    "    \"d:\\\\Workspace\\\\SpecVAE\\\\.model\\\\MoNA\\\\betavae_capacity_nextron\\\\factorvae_score\\\\betavae_capacity_100-400-200-50-3-50-200-400-100_05 (24-12-2021_09-23-23)\",\n",
    "    \"d:\\\\Workspace\\\\SpecVAE\\\\.model\\\\MoNA\\\\betavae_capacity_nextron\\\\factorvae_score\\\\betavae_capacity_100-1600-100-3-100-1600-100_06 (24-12-2021_08-25-38)\",\n",
    "]\n"
   ]
  },
  {
   "cell_type": "markdown",
   "id": "d3148adc-d903-4bb0-af2b-8157f1aaca3d",
   "metadata": {
    "papermill": {
     "duration": 0.014998,
     "end_time": "2021-11-18T14:26:58.070059",
     "exception": false,
     "start_time": "2021-11-18T14:26:58.055061",
     "status": "completed"
    },
    "tags": []
   },
   "source": [
    "## Load model"
   ]
  },
  {
   "cell_type": "code",
   "execution_count": null,
   "id": "41b6c5a2-e635-4ab0-a585-053d04962efd",
   "metadata": {
    "execution": {
     "iopub.execute_input": "2021-11-18T14:26:58.132062Z",
     "iopub.status.busy": "2021-11-18T14:26:58.131063Z",
     "iopub.status.idle": "2021-11-18T14:26:58.139060Z",
     "shell.execute_reply": "2021-11-18T14:26:58.138061Z"
    },
    "papermill": {
     "duration": 0.056,
     "end_time": "2021-11-18T14:26:58.139060",
     "exception": false,
     "start_time": "2021-11-18T14:26:58.083060",
     "status": "completed"
    },
    "tags": []
   },
   "outputs": [],
   "source": [
    "device, cpu = utils.device(use_cuda=True)"
   ]
  },
  {
   "cell_type": "code",
   "execution_count": null,
   "id": "44627de9-9f63-456d-96a8-5f8ca70e8b32",
   "metadata": {
    "execution": {
     "iopub.execute_input": "2021-11-18T14:26:58.174061Z",
     "iopub.status.busy": "2021-11-18T14:26:58.174061Z",
     "iopub.status.idle": "2021-11-18T14:27:00.361293Z",
     "shell.execute_reply": "2021-11-18T14:27:00.360292Z"
    },
    "papermill": {
     "duration": 2.207235,
     "end_time": "2021-11-18T14:27:00.361293",
     "exception": false,
     "start_time": "2021-11-18T14:26:58.154058",
     "status": "completed"
    },
    "tags": []
   },
   "outputs": [],
   "source": [
    "# print(\"Load model: %s...\" % model_name)\n",
    "def load_model(path, device):\n",
    "    model_path = os.path.join(path, 'model.pth')\n",
    "    model = BaseVAE.load(model_path, device)\n",
    "    model.eval()\n",
    "    return model"
   ]
  },
  {
   "cell_type": "markdown",
   "id": "01c2b855-8fe7-479f-a674-7d0d779d1fe1",
   "metadata": {
    "papermill": {
     "duration": 0.014,
     "end_time": "2021-11-18T14:27:00.432298",
     "exception": false,
     "start_time": "2021-11-18T14:27:00.418298",
     "status": "completed"
    },
    "tags": []
   },
   "source": [
    "## Load and transform data"
   ]
  },
  {
   "cell_type": "code",
   "execution_count": null,
   "id": "fc35b82a-afbe-4751-b468-3bb59f2dc215",
   "metadata": {
    "execution": {
     "iopub.execute_input": "2021-11-18T14:27:00.471298Z",
     "iopub.status.busy": "2021-11-18T14:27:00.471298Z",
     "iopub.status.idle": "2021-11-18T14:27:00.474294Z",
     "shell.execute_reply": "2021-11-18T14:27:00.473326Z"
    },
    "papermill": {
     "duration": 0.02397,
     "end_time": "2021-11-18T14:27:00.474294",
     "exception": false,
     "start_time": "2021-11-18T14:27:00.450324",
     "status": "completed"
    },
    "tags": []
   },
   "outputs": [],
   "source": [
    "# labels = ['ionization_mode_id', 'collision_energy', 'total_exact_mass', 'precursor_mz', 'instrument_type_id', 'precursor_type_id', 'superclass_id', 'class_id']\n",
    "if dataset == 'MoNA':\n",
    "    labels = ['collision_energy', 'total_exact_mass', 'instrument_type_id']\n",
    "    base_path = utils.get_project_path() / '.data' / 'MoNA'\n",
    "    metadata_path = base_path / 'MoNA_meta.npy'\n",
    "elif dataset == 'HMDB':\n",
    "    labels = ['collision_energy']\n",
    "    base_path = utils.get_project_path() / '.data' / 'HMDB'\n",
    "    metadata_path = base_path / 'HMDB_meta.npy'\n",
    "\n",
    "metadata = None\n",
    "if os.path.exists(metadata_path):\n",
    "    metadata = np.load(metadata_path, allow_pickle=True).item()"
   ]
  },
  {
   "cell_type": "code",
   "execution_count": null,
   "id": "10d20fc2-89b3-4063-9122-c6b011460a2b",
   "metadata": {
    "execution": {
     "iopub.execute_input": "2021-11-18T14:27:00.516294Z",
     "iopub.status.busy": "2021-11-18T14:27:00.515294Z",
     "iopub.status.idle": "2021-11-18T14:27:00.519294Z",
     "shell.execute_reply": "2021-11-18T14:27:00.518293Z"
    },
    "papermill": {
     "duration": 0.03,
     "end_time": "2021-11-18T14:27:00.519294",
     "exception": false,
     "start_time": "2021-11-18T14:27:00.489294",
     "status": "completed"
    },
    "tags": []
   },
   "outputs": [],
   "source": [
    "def load_data(target_column):\n",
    "    # data_path = base_path / ('visualization_%s.csv' % target_column)\n",
    "    data_path = base_path / ('%s_full.csv' % dataset)\n",
    "    df = dt.Spectra.open(data_path)\n",
    "    return df\n",
    "\n",
    "def preload_data_as_tensor(df, input_columns, types, transform):\n",
    "    # columns = model.config['input_columns']\n",
    "    columns = input_columns\n",
    "    # types = model.config['types']\n",
    "    data = dt.Spectra.preload_tensor(\n",
    "        device=device, data_frame=df[columns + ['id']], transform=transform, limit=-1, types=types, do_print=False)\n",
    "    return data\n",
    "\n",
    "def evaluate_model(model, df, data):\n",
    "    X, ids = data['spectrum'], data['id'] # TODO: handle the case for concatanated input\n",
    "    Xrecon, z, latent_dist = model.forward_(X)\n",
    "    data_np = {}\n",
    "    data_np['X'] = X.data.cpu().numpy()\n",
    "    data_np['Xrecon'] = Xrecon.data.cpu().numpy()\n",
    "    data_np['z'] = z.data.cpu().numpy()\n",
    "    data_np['ids'] = ids\n",
    "    data_np['ionization_mode_id'] = df['ionization_mode_id'].to_numpy()\n",
    "    data_np['collision_energy'] = df['collision_energy'].to_numpy()\n",
    "    # data_np['images'] = df['images'].to_numpy()\n",
    "    return data_np\n"
   ]
  },
  {
   "cell_type": "markdown",
   "id": "50c5716f",
   "metadata": {
    "papermill": {
     "duration": 0.013015,
     "end_time": "2021-11-18T14:27:00.549328",
     "exception": false,
     "start_time": "2021-11-18T14:27:00.536313",
     "status": "completed"
    },
    "tags": []
   },
   "source": [
    "## Load training logs"
   ]
  },
  {
   "cell_type": "code",
   "execution_count": null,
   "id": "f64973c0",
   "metadata": {},
   "outputs": [],
   "source": [
    "from IPython.display import display"
   ]
  },
  {
   "cell_type": "code",
   "execution_count": null,
   "id": "82cc5d79",
   "metadata": {},
   "outputs": [],
   "source": [
    "df = load_data(\"MoNA\")"
   ]
  },
  {
   "cell_type": "code",
   "execution_count": null,
   "id": "0d282861",
   "metadata": {},
   "outputs": [],
   "source": [
    "collision_energy_step = 5.\n",
    "total_exact_mass_step = 5.\n",
    "total_exact_mass_b, total_exact_mass_e = 200, 400\n",
    "\n",
    "ionization_mode_id_uq = [0, 1]\n",
    "collision_energy_uq = np.arange(10, 50 + 1, collision_energy_step).tolist()\n",
    "total_exact_mass_uq = np.arange(total_exact_mass_b, total_exact_mass_e + 1, total_exact_mass_step).tolist()\n",
    "\n",
    "instrument_type_id_uq = df.groupby('instrument_type_id')['instrument_type'] \\\n",
    "    .value_counts() \\\n",
    "    .sort_values(ascending=False) \\\n",
    "    .head(5) \\\n",
    "    .index.get_level_values(0) \\\n",
    "    .tolist()\n",
    "\n",
    "precursor_type_id_uq = df.groupby('precursor_type_id')['precursor_type'] \\\n",
    "    .value_counts() \\\n",
    "    .sort_values(ascending=False) \\\n",
    "    .head(5) \\\n",
    "    .index.get_level_values(0) \\\n",
    "    .tolist()\n",
    "\n",
    "len(ionization_mode_id_uq) * len(collision_energy_uq) * len(total_exact_mass_uq) * len(instrument_type_id_uq) * len(precursor_type_id_uq)"
   ]
  },
  {
   "cell_type": "code",
   "execution_count": null,
   "id": "e44e43e8",
   "metadata": {},
   "outputs": [],
   "source": [
    "model_path = model_dirs[0]\n",
    "model = load_model(model_path, device)"
   ]
  },
  {
   "cell_type": "code",
   "execution_count": null,
   "id": "3cba3b73",
   "metadata": {},
   "outputs": [],
   "source": [
    "import scipy\n",
    "from scipy import stats\n",
    "from sklearn.metrics import r2_score, mean_squared_error, explained_variance_score\n",
    "from sklearn.linear_model import LinearRegression\n",
    "import warnings\n",
    "\n",
    "scipy.special.seterr(all='ignore')\n",
    "warnings.simplefilter(\"ignore\", Warning)\n",
    "\n",
    "# Define function to compute the metrics\n",
    "def compute(df, data_np, target_column, dim=0):\n",
    "    # Extract and prepare factors for linear regression\n",
    "    df['z'] = data_np['z'][:, dim]\n",
    "    slope, intercept, r_value, p_value, std_err = stats.linregress(df[target_column], df['z'])\n",
    "    x, y = df[target_column].to_numpy().reshape(-1, 1), df['z'].to_numpy().reshape(-1, 1)\n",
    "    # Regress the factor (x) with the latent dimension (y)\n",
    "    reg = LinearRegression().fit(x, y)\n",
    "    y_ = reg.predict(x)\n",
    "    # Compute metrics for linear regression\n",
    "    r2_value = r2_score(y, y_)\n",
    "    rmse_value = mean_squared_error(y, y_, squared=False)\n",
    "    exp_variance_value = explained_variance_score(y, y_)\n",
    "    pearson_value, pp = stats.pearsonr(df[target_column], df['z'])\n",
    "    spearman_value, sp = stats.spearmanr(df[target_column], df['z'])\n",
    "    return r2_value, rmse_value, exp_variance_value, pearson_value, pp, spearman_value, sp"
   ]
  },
  {
   "cell_type": "code",
   "execution_count": null,
   "id": "692f06e2",
   "metadata": {},
   "outputs": [],
   "source": [
    "import itertools as it\n",
    "import pandas as pd\n",
    "from tqdm import tqdm\n",
    "\n",
    "from specvae.jointvae import JointVAE\n",
    "from specvae.vae import SpecVEA\n",
    "\n",
    "results = []\n",
    "min_size = 5\n",
    "skipped = 0\n",
    "factors = list(it.product(ionization_mode_id_uq, collision_energy_uq, total_exact_mass_uq, instrument_type_id_uq, labels))\n",
    "\n",
    "for ionization_mode_id, collision_energy, total_exact_mass, instrument_type_id, target_column in tqdm(factors):\n",
    "    # Select subset of the data collection for given combination of factors\n",
    "    if target_column == 'collision_energy':\n",
    "        df_subset = df[\n",
    "            (df['ionization_mode_id'] == ionization_mode_id) & \n",
    "            (df['collision_energy'].isin(collision_energy_uq)) & \n",
    "            (df['total_exact_mass'] >= total_exact_mass) & (df['total_exact_mass'] <= total_exact_mass + total_exact_mass_step) & \n",
    "            (df['instrument_type_id'] == instrument_type_id)\n",
    "            # (df['precursor_type_id'] == precursor_type_id)\n",
    "        ].copy()\n",
    "    elif target_column == 'total_exact_mass':\n",
    "        df_subset = df[\n",
    "            (df['ionization_mode_id'] == ionization_mode_id) & \n",
    "            (df['collision_energy'] == collision_energy) & \n",
    "            (df['total_exact_mass'] >= total_exact_mass_b) & (df['total_exact_mass'] <= total_exact_mass_e) & \n",
    "            (df['instrument_type_id'] == instrument_type_id)\n",
    "            # (df['precursor_type_id'] == precursor_type_id)\n",
    "        ].copy()\n",
    "    elif target_column == 'instrument_type_id':\n",
    "        df_subset = df[\n",
    "            (df['ionization_mode_id'] == ionization_mode_id) & \n",
    "            (df['collision_energy'] == collision_energy) & \n",
    "            (df['total_exact_mass'] >= total_exact_mass) & (df['total_exact_mass'] <= total_exact_mass + total_exact_mass_step) & \n",
    "            (df['instrument_type_id'].isin(instrument_type_id_uq))\n",
    "            # (df['precursor_type_id'] == precursor_type_id)\n",
    "        ].copy()\n",
    "    # Skip computation if the size of the subset is smaller then min_size\n",
    "    df_size = len(df_subset)\n",
    "    if df_size < min_size:\n",
    "        skipped += 1\n",
    "        continue\n",
    "    # Prepare data for the model evaluation\n",
    "    data = preload_data_as_tensor(df_subset, input_columns=model.config['input_columns'], types=model.config['types'], transform=model.transform)\n",
    "    data_np = evaluate_model(model, df_subset, data)\n",
    "\n",
    "    # Get number of dimensions of the latent space\n",
    "    if isinstance(model, SpecVEA):\n",
    "        n_dim = data_np['z'].shape[1]\n",
    "    elif isinstance(model, JointVAE):\n",
    "        n_dim = model.config['latent_spec']['cont']\n",
    "\n",
    "    # Compute metrics per each dimension of the latent space\n",
    "    for dim in range(n_dim):\n",
    "        metrics = compute(df_subset, data_np, target_column, dim)\n",
    "        # Add results\n",
    "        results.append([ionization_mode_id, collision_energy, total_exact_mass, instrument_type_id, target_column, dim, df_size, *metrics])\n",
    "\n",
    "# Create pandas dataframe from the results\n",
    "results_df = pd.DataFrame(\n",
    "    results,\n",
    "    columns=[\n",
    "        'ionization_mode_id', 'collision_energy', 'total_exact_mass',\n",
    "        'instrument_type_id', 'target_column', 'dim', 'size',\n",
    "        'R2', 'RMSE', 'exp_variance', 'pearson_corr_coef', 'pearson_p_value',\n",
    "        'spearman_corr_coef', 'spearman_p_value'\n",
    "    ])\n",
    "print(f\"Skipped: {skipped}\")\n",
    "results_df.to_csv('./correlation-analysis.csv')"
   ]
  },
  {
   "cell_type": "code",
   "execution_count": null,
   "id": "dcf96eb6",
   "metadata": {},
   "outputs": [],
   "source": [
    "import pandas as pd\n",
    "# results_df = pd.read_csv('./correlation-analysis.csv')\n",
    "results_df"
   ]
  },
  {
   "cell_type": "code",
   "execution_count": null,
   "id": "cff31a87",
   "metadata": {},
   "outputs": [],
   "source": [
    "i = 0\n",
    "res_df = results_df[results_df['pearson_corr_coef'] > 0.75]\n",
    "for group in res_df.groupby(['ionization_mode_id', 'collision_energy', 'total_exact_mass', 'instrument_type_id']):\n",
    "    group_df = group[1]\n",
    "    print(len(group_df))\n",
    "    # if len(group_df) == 9:\n",
    "        # max_p = group_df['spearman_p_value'].max()\n",
    "        # print(max_p)\n",
    "        # if max_p <= 0.05:\n",
    "    i += 1\n",
    "\n",
    "print(f\"Groups of size of 9: {i}\")"
   ]
  },
  {
   "cell_type": "code",
   "execution_count": null,
   "id": "9c25bdc4",
   "metadata": {},
   "outputs": [],
   "source": [
    "27822  / 9"
   ]
  },
  {
   "cell_type": "code",
   "execution_count": null,
   "id": "213ff9d8",
   "metadata": {},
   "outputs": [],
   "source": [
    "df = load_data(\"\")\n",
    "# df = df[\n",
    "#     (df['collision_energy'] == 45) & \n",
    "#     (df['total_exact_mass'] <= 800) & \n",
    "#     (df['instrument_type_id'] == metadata['instrument_type_id']['labels'].index('ESI-QFT')) &\n",
    "#     (df['ionization_mode_id'] == 1) & \n",
    "#     (df['precursor_type_id'] == 2)\n",
    "# ]\n",
    "# df = df[\n",
    "#     (df['collision_energy'] <= 100) & \n",
    "#     (df['total_exact_mass'] >= 248.14) & (df['total_exact_mass'] <= 249) & \n",
    "#     (df['instrument_type_id'] == metadata['instrument_type_id']['labels'].index('ESI-QFT')) & \n",
    "#     (df['ionization_mode_id'] == 1) & \n",
    "#     (df['precursor_type_id'] == 2)\n",
    "# ]\n",
    "df = df[\n",
    "    (df['collision_energy'] == 45) & \n",
    "    (df['total_exact_mass'] >= 248.14) & (df['total_exact_mass'] <= 248.20) & \n",
    "    # (df['instrument_type_id'] == metadata['instrument_type_id']['labels'].index('ESI-QFT')) & \n",
    "    (df['ionization_mode_id'] == 1) & \n",
    "    (df['precursor_type_id'] == 2)\n",
    "]\n",
    "\n",
    "display(df.groupby('total_exact_mass')['total_exact_mass'].value_counts())\n",
    "display(df.groupby('collision_energy')['collision_energy'].value_counts())\n",
    "display(df.groupby('instrument_type_id')['instrument_type_id'].value_counts())\n",
    "display(df)"
   ]
  },
  {
   "cell_type": "code",
   "execution_count": null,
   "id": "c012a66b-1a05-4ad8-b11a-b56014ca1ebc",
   "metadata": {
    "execution": {
     "iopub.execute_input": "2021-11-18T14:27:01.826534Z",
     "iopub.status.busy": "2021-11-18T14:27:01.825533Z",
     "iopub.status.idle": "2021-11-18T14:27:18.529010Z",
     "shell.execute_reply": "2021-11-18T14:27:18.529010Z"
    },
    "papermill": {
     "duration": 16.852477,
     "end_time": "2021-11-18T14:27:18.529010",
     "exception": false,
     "start_time": "2021-11-18T14:27:01.676533",
     "status": "completed"
    },
    "tags": []
   },
   "outputs": [],
   "source": [
    "from scipy import stats\n",
    "from specvae.jointvae import JointVAE\n",
    "from specvae.vae import SpecVEA\n",
    "# cc = model.config['cont_capacity']\n",
    "# cols, vals = ['model_name', 'min_capacity', 'max_capacity', 'num_iter', 'gamma_z'], [model_name] + cc\n",
    "\n",
    "from sklearn.metrics import r2_score, mean_squared_error, explained_variance_score\n",
    "from sklearn.linear_model import LinearRegression\n",
    "\n",
    "\n",
    "for model_path in model_dirs:\n",
    "    print(\"-------------------------------------------\")\n",
    "    print(model_path)\n",
    "\n",
    "    model = load_model(model_path, device)\n",
    "    data = preload_data_as_tensor(df, input_columns=model.config['input_columns'], types=model.config['types'], transform=model.transform)\n",
    "    data_np = evaluate_model(model, df, data)\n",
    "\n",
    "    for target_column in labels:\n",
    "        print(target_column)\n",
    "\n",
    "        if isinstance(model, SpecVEA):\n",
    "            n_dim = data_np['z'].shape[1]\n",
    "        elif isinstance(model, JointVAE):\n",
    "            n_dim = model.config['latent_spec']['cont']\n",
    "\n",
    "        def plot_reg(df, ax, data_np, dim=0):\n",
    "            df['z'] = data_np['z'][:,dim]\n",
    "            slope, intercept, r_value, p_value, std_err = stats.linregress(df[target_column], df['z'])\n",
    "\n",
    "            x, y = df[target_column].to_numpy().reshape(-1,1), df['z'].to_numpy().reshape(-1,1)\n",
    "            reg = LinearRegression().fit(x, y)\n",
    "            y_ = reg.predict(x)\n",
    "            r2_value = r2_score(y, y_)\n",
    "            rmse_value = mean_squared_error(y, y_, squared=False)\n",
    "            exp_variance_value = explained_variance_score(y, y_)\n",
    "            pearson_value, pp = stats.pearsonr(df[target_column], df['z'])\n",
    "            spearman_value, sp = stats.spearmanr(df[target_column], df['z'])\n",
    "\n",
    "            print(\"r^2\", r2_value)\n",
    "            print(\"RMSE\", rmse_value)\n",
    "            print(\"explained variance\", exp_variance_value)\n",
    "            print(\"Pearson\", pearson_value, \"p=\", pp)\n",
    "            print(\"Spearman\", spearman_value, \"p=\", sp)\n",
    "            print(\"-----------------\")\n",
    "            \n",
    "            if target_column == 'collision_energy' or target_column == 'instrument_type_id':\n",
    "                sns.boxplot(x=target_column, y='z', data=df, ax=ax)\n",
    "            else:\n",
    "                sns.regplot(x=target_column, y='z',\n",
    "                    data=df, color='blue', scatter_kws={'s': 5}, ax=ax,\n",
    "                    line_kws={'label':\"z[{0}] = {1:.2f} + {2:.3f}*10^-3 * {3}\".format(dim, intercept, slope * 1000., target_column)})\n",
    "                ax.legend(fontsize=16)\n",
    "        \n",
    "        fig, axs = plt.subplots(1, n_dim, figsize=(15 * n_dim, 10))\n",
    "        if n_dim == 1:\n",
    "            plot_reg(df, axs, data_np, 0)\n",
    "        else:\n",
    "            for dim, ax in enumerate(axs):\n",
    "                plot_reg(df, ax, data_np, dim)\n",
    "\n",
    "        sns.despine(right = True)\n",
    "        plt.show()\n",
    "        plt.clf()\n"
   ]
  },
  {
   "cell_type": "code",
   "execution_count": null,
   "id": "bf911466",
   "metadata": {
    "execution": {
     "iopub.execute_input": "2021-11-18T14:27:18.781260Z",
     "iopub.status.busy": "2021-11-18T14:27:18.780266Z",
     "iopub.status.idle": "2021-11-18T14:27:18.783227Z",
     "shell.execute_reply": "2021-11-18T14:27:18.783227Z"
    },
    "papermill": {
     "duration": 0.117,
     "end_time": "2021-11-18T14:27:18.783227",
     "exception": false,
     "start_time": "2021-11-18T14:27:18.666227",
     "status": "completed"
    },
    "tags": []
   },
   "outputs": [],
   "source": [
    "# df2 = pd.DataFrame([vals], columns=cols)\n",
    "# df2"
   ]
  },
  {
   "cell_type": "code",
   "execution_count": null,
   "id": "53269d53-5531-4c3b-887f-9345aa13ef59",
   "metadata": {
    "execution": {
     "iopub.execute_input": "2021-11-18T14:27:19.014228Z",
     "iopub.status.busy": "2021-11-18T14:27:19.013227Z",
     "iopub.status.idle": "2021-11-18T14:27:19.015228Z",
     "shell.execute_reply": "2021-11-18T14:27:19.016260Z"
    },
    "papermill": {
     "duration": 0.113027,
     "end_time": "2021-11-18T14:27:19.016260",
     "exception": false,
     "start_time": "2021-11-18T14:27:18.903233",
     "status": "completed"
    },
    "tags": []
   },
   "outputs": [],
   "source": [
    "# stats_file = \"d:\\\\Workspace\\\\SpecVAE\\\\.model\\\\MoNA\\\\joint_vae_%d_stats.csv\" % n_dim\n",
    "# if os.path.exists(stats_file):\n",
    "#     df = pd.read_csv(stats_file, index_col=0)\n",
    "#     df = pd.concat([df, df2], ignore_index=True)\n",
    "#     df.to_csv(stats_file)\n",
    "# else:\n",
    "#     df2.to_csv(stats_file)"
   ]
  }
 ],
 "metadata": {
  "interpreter": {
   "hash": "e9957a820da34b3fdf0ab088e08cc3a6575a1a2738b733f1638214d41ca97147"
  },
  "kernelspec": {
   "display_name": "Python 3.7.11 ('specvae')",
   "language": "python",
   "name": "python3"
  },
  "language_info": {
   "codemirror_mode": {
    "name": "ipython",
    "version": 3
   },
   "file_extension": ".py",
   "mimetype": "text/x-python",
   "name": "python",
   "nbconvert_exporter": "python",
   "pygments_lexer": "ipython3",
   "version": "3.7.11"
  },
  "papermill": {
   "default_parameters": {},
   "duration": 27.673708,
   "end_time": "2021-11-18T14:27:19.953230",
   "environment_variables": {},
   "exception": null,
   "input_path": "d:\\Workspace\\SpecVAE\\notebook\\specvae-10-vae-strip-analysis.ipynb",
   "output_path": "d:\\Workspace\\SpecVAE\\notebook\\specvae-10-vae-strip-analysis.ipynb",
   "parameters": {
    "dataset": "MoNA",
    "model_dir": "d:\\Workspace\\SpecVAE\\.model\\MoNA\\joint_sigmoid\\joint_vae_30-15-3-15-30 (17-11-2021_22-06-46)",
    "model_name": "joint_vae_30-15-3-15-30 (17-11-2021_22-06-46)"
   },
   "start_time": "2021-11-18T14:26:52.279522",
   "version": "2.3.3"
  }
 },
 "nbformat": 4,
 "nbformat_minor": 5
}
