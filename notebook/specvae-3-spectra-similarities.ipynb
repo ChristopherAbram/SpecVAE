{
 "cells": [
  {
   "cell_type": "markdown",
   "metadata": {},
   "source": [
    "# Compute spectra similarities\n",
    "Given preselected spectra, we compute several similarity scores. Obtained pairwise similarities are saved into file."
   ]
  },
  {
   "cell_type": "code",
   "execution_count": 1,
   "metadata": {},
   "outputs": [],
   "source": [
    "import os\n",
    "import numpy as np\n",
    "import pandas as pd\n",
    "\n",
    "from matchms.filtering import normalize_intensities, add_precursor_mz\n",
    "from matchms import calculate_scores, Spectrum\n",
    "\n",
    "import specvae.utils as utils, specvae.dataset as dt\n",
    "from specvae.dataset import MoNA"
   ]
  },
  {
   "cell_type": "code",
   "execution_count": 2,
   "metadata": {},
   "outputs": [],
   "source": [
    "def parse_spectrum(row, normalize=True):\n",
    "    string = row['spectrum']\n",
    "    m = dt.SplitSpectrum()(string)\n",
    "    mzs, ints = zip(*m)\n",
    "    idx = np.argsort(np.array(mzs))\n",
    "    mzs, ints = np.array(mzs)[idx], np.array(ints)[idx]\n",
    "    pre = mzs.min() if len(mzs) > 0 else 0.01\n",
    "    s = Spectrum(mz=mzs, intensities=ints, \n",
    "            metadata={\n",
    "                'inchi': str(row['InChI']), \n",
    "                'smiles': str(row['SMILES']),\n",
    "                'precursor_mz': pre if pre > 0 else 0.01 # required for ModifiedCosine score\n",
    "            })\n",
    "    if normalize:\n",
    "        s = normalize_intensities(s)\n",
    "    s = add_precursor_mz(s)\n",
    "    return s"
   ]
  },
  {
   "cell_type": "markdown",
   "metadata": {},
   "source": [
    "## Load data"
   ]
  },
  {
   "cell_type": "code",
   "execution_count": 3,
   "metadata": {},
   "outputs": [],
   "source": [
    "dataset = 'MoNA'"
   ]
  },
  {
   "cell_type": "code",
   "execution_count": 4,
   "metadata": {},
   "outputs": [
    {
     "output_type": "stream",
     "name": "stdout",
     "text": [
      "Load and preprocess MoNA data...\n",
      "Wall time: 16.2 s\n"
     ]
    },
    {
     "output_type": "execute_result",
     "data": {
      "text/plain": [
       "0        <matchms.Spectrum.Spectrum object at 0x000001B...\n",
       "1        <matchms.Spectrum.Spectrum object at 0x000001B...\n",
       "2        <matchms.Spectrum.Spectrum object at 0x000001B...\n",
       "3        <matchms.Spectrum.Spectrum object at 0x000001B...\n",
       "4        <matchms.Spectrum.Spectrum object at 0x000001B...\n",
       "                               ...                        \n",
       "12193    <matchms.Spectrum.Spectrum object at 0x000001B...\n",
       "12194    <matchms.Spectrum.Spectrum object at 0x000001B...\n",
       "12195    <matchms.Spectrum.Spectrum object at 0x000001B...\n",
       "12196    <matchms.Spectrum.Spectrum object at 0x000001B...\n",
       "12197    <matchms.Spectrum.Spectrum object at 0x000001B...\n",
       "Length: 12198, dtype: object"
      ]
     },
     "metadata": {},
     "execution_count": 4
    }
   ],
   "source": [
    "%%time\n",
    "print(\"Load and preprocess %s data...\" % dataset)\n",
    "if dataset == 'HMDB':\n",
    "    valid_data_path = utils.get_project_path() / '.data' / 'HMDB' / 'hmdb_cfmid_dataset_valid.csv'\n",
    "    df_valid = pd.read_csv(valid_data_path)\n",
    "\n",
    "elif dataset == 'MoNA':\n",
    "    data_path = utils.get_project_path() / '.data' / 'MoNA' / 'MoNA_score.csv'\n",
    "    df = pd.read_csv(data_path)\n",
    "\n",
    "X = df.apply(lambda row: parse_spectrum(row, True), axis=1)\n",
    "X"
   ]
  },
  {
   "cell_type": "code",
   "execution_count": 5,
   "metadata": {},
   "outputs": [],
   "source": [
    "spectra = X.to_numpy()"
   ]
  },
  {
   "cell_type": "markdown",
   "metadata": {},
   "source": [
    "### VAE similarity score"
   ]
  },
  {
   "cell_type": "code",
   "execution_count": 12,
   "metadata": {},
   "outputs": [
    {
     "output_type": "execute_result",
     "data": {
      "text/plain": [
       "0        <matchms.Spectrum.Spectrum object at 0x0000021...\n",
       "1        <matchms.Spectrum.Spectrum object at 0x0000021...\n",
       "2        <matchms.Spectrum.Spectrum object at 0x0000021...\n",
       "3        <matchms.Spectrum.Spectrum object at 0x0000021...\n",
       "4        <matchms.Spectrum.Spectrum object at 0x0000021...\n",
       "                               ...                        \n",
       "12193    <matchms.Spectrum.Spectrum object at 0x0000021...\n",
       "12194    <matchms.Spectrum.Spectrum object at 0x0000021...\n",
       "12195    <matchms.Spectrum.Spectrum object at 0x0000021...\n",
       "12196    <matchms.Spectrum.Spectrum object at 0x0000021...\n",
       "12197    <matchms.Spectrum.Spectrum object at 0x0000021...\n",
       "Length: 12198, dtype: object"
      ]
     },
     "metadata": {},
     "execution_count": 12
    }
   ],
   "source": [
    "X1 = df.apply(lambda row: parse_spectrum(row, False), axis=1)\n",
    "X1"
   ]
  },
  {
   "cell_type": "code",
   "execution_count": 13,
   "metadata": {},
   "outputs": [],
   "source": [
    "spectra1 = X1.to_numpy()"
   ]
  },
  {
   "cell_type": "code",
   "execution_count": 14,
   "metadata": {},
   "outputs": [
    {
     "output_type": "stream",
     "name": "stdout",
     "text": [
      "Device in use:  cpu\n"
     ]
    }
   ],
   "source": [
    "import torch\n",
    "use_cuda = False\n",
    "cpu_device = torch.device('cpu')\n",
    "if torch.cuda.is_available() and use_cuda:\n",
    "    device = torch.device('cuda:0')\n",
    "    print('GPU device count:', torch.cuda.device_count())\n",
    "else:\n",
    "    device = torch.device('cpu')\n",
    "print('Device in use: ', device)"
   ]
  },
  {
   "cell_type": "code",
   "execution_count": 15,
   "metadata": {},
   "outputs": [
    {
     "output_type": "stream",
     "name": "stdout",
     "text": [
      "Load model: specvae_2500-500-50-500-2500 (20-06-2021_16-39-42)...\n"
     ]
    },
    {
     "output_type": "execute_result",
     "data": {
      "text/plain": [
       "SpecVEA(\n",
       "  (encoder_): Sequential(\n",
       "    (en_lin_1): Linear(in_features=2500, out_features=500, bias=True)\n",
       "    (en_lin_batchnorm_1): BatchNorm1d(500, eps=1e-05, momentum=0.1, affine=True, track_running_stats=True)\n",
       "    (en_act_1): ReLU()\n",
       "  )\n",
       "  (en_mu): Linear(in_features=500, out_features=50, bias=True)\n",
       "  (en_mu_batchnorm): BatchNorm1d(50, eps=1e-05, momentum=0.1, affine=True, track_running_stats=True)\n",
       "  (en_log_var): Linear(in_features=500, out_features=50, bias=True)\n",
       "  (en_log_var_batchnorm): BatchNorm1d(50, eps=1e-05, momentum=0.1, affine=True, track_running_stats=True)\n",
       "  (sample): SampleZ()\n",
       "  (decoder): Sequential(\n",
       "    (de_lin_1): Linear(in_features=50, out_features=500, bias=True)\n",
       "    (de_lin_batchnorm_1): BatchNorm1d(500, eps=1e-05, momentum=0.1, affine=True, track_running_stats=True)\n",
       "    (de_act_1): ReLU()\n",
       "    (de_lin_2): Linear(in_features=500, out_features=2500, bias=True)\n",
       "    (de_act_2): ReLUlimit()\n",
       "  )\n",
       ")"
      ]
     },
     "metadata": {},
     "execution_count": 15
    }
   ],
   "source": [
    "import specvae.vae as vae\n",
    "# Load VAE model\n",
    "model_name = 'specvae_2500-500-50-500-2500 (20-06-2021_16-39-42)'\n",
    "print(\"Load model: %s...\" % model_name)\n",
    "model_path = utils.get_project_path() / '.model' / dataset / model_name / 'model.pth'\n",
    "model = vae.BaseVAE.load(model_path, device)\n",
    "model.eval()"
   ]
  },
  {
   "cell_type": "code",
   "execution_count": 16,
   "metadata": {},
   "outputs": [
    {
     "output_type": "stream",
     "name": "stdout",
     "text": [
      "Wall time: 130 ms\n"
     ]
    }
   ],
   "source": [
    "%%time\n",
    "from specvae.similarity import VAEScore\n",
    "eu_a = [1.0, 0.5, 0.2, 0.1, 0.05]\n",
    "kl_a = 0.0005\n",
    "score = VAEScore(model)"
   ]
  },
  {
   "cell_type": "code",
   "execution_count": 17,
   "metadata": {},
   "outputs": [
    {
     "output_type": "stream",
     "name": "stdout",
     "text": [
      "Wall time: 6min 32s\n"
     ]
    }
   ],
   "source": [
    "%%time \n",
    "d = []\n",
    "for a in eu_a:\n",
    "    d.append(score.euclidean(spectra1, spectra1, relative=True, a=a))"
   ]
  },
  {
   "cell_type": "code",
   "execution_count": 18,
   "metadata": {},
   "outputs": [],
   "source": [
    "# %%time \n",
    "# kl = score.kl_divergence(spectra1, spectra1, relative=True, a=kl_a)"
   ]
  },
  {
   "cell_type": "code",
   "execution_count": 19,
   "metadata": {},
   "outputs": [
    {
     "output_type": "stream",
     "name": "stdout",
     "text": [
      "[array([[1.        , 0.05536823, 0.04458951, ..., 0.04838866, 0.04671478,\n        0.04479793],\n       [0.05536823, 1.        , 0.07783285, ..., 0.05096755, 0.04965293,\n        0.0468361 ],\n       [0.04458951, 0.07783285, 1.        , ..., 0.05036995, 0.04945119,\n        0.04599875],\n       ...,\n       [0.04838866, 0.05096755, 0.05036995, ..., 1.        , 0.16473678,\n        0.11902787],\n       [0.04671478, 0.04965293, 0.04945119, ..., 0.16473678, 1.        ,\n        0.16802372],\n       [0.04479793, 0.0468361 , 0.04599875, ..., 0.11902787, 0.16802372,\n        1.        ]], dtype=float32), array([[1.        , 0.10492684, 0.08537231, ..., 0.09231053, 0.0892598 ,\n        0.08575425],\n       [0.10492684, 1.        , 0.1444247 , ..., 0.09699167, 0.09460828,\n        0.08948126],\n       [0.08537231, 0.1444247 , 1.        , ..., 0.09590898, 0.09424201,\n        0.08795183],\n       ...,\n       [0.09231053, 0.09699167, 0.09590898, ..., 1.        , 0.28287384,\n        0.21273442],\n       [0.0892598 , 0.09460828, 0.09424201, ..., 0.28287384, 1.        ,\n        0.28770602],\n       [0.08575425, 0.08948125, 0.08795183, ..., 0.21273442, 0.28770602,\n        1.        ]], dtype=float32), array([[1.        , 0.22664534, 0.18920188, ..., 0.20270818, 0.19680002,\n        0.18995185],\n       [0.22664534, 1.        , 0.2967703 , ..., 0.21168207, 0.20712684,\n        0.19723049],\n       [0.18920188, 0.2967703 , 1.        , ..., 0.2096163 , 0.20642427,\n        0.19425231],\n       ...,\n       [0.20270818, 0.21168207, 0.2096163 , ..., 1.        , 0.49651   ,\n        0.40318045],\n       [0.19680002, 0.20712684, 0.20642427, ..., 0.49651   , 1.        ,\n        0.5024348 ],\n       [0.18995185, 0.19723047, 0.19425231, ..., 0.40318045, 0.5024348 ,\n        1.        ]], dtype=float32), array([[1.        , 0.36953688, 0.31819975, ..., 0.33708623, 0.32887703,\n        0.31925973],\n       [0.36953688, 1.        , 0.4577068 , ..., 0.34940198, 0.3431733 ,\n        0.3294779 ],\n       [0.31819975, 0.4577068 , 1.        , ..., 0.34658313, 0.34220842,\n        0.32531202],\n       ...,\n       [0.33708623, 0.34940198, 0.34658313, ..., 1.        , 0.66355723,\n        0.57466656],\n       [0.32887703, 0.3431733 , 0.34220842, ..., 0.66355723, 1.        ,\n        0.6688274 ],\n       [0.31925973, 0.32947788, 0.32531202, ..., 0.57466656, 0.6688274 ,\n        1.        ]], dtype=float32), array([[1.        , 0.5396523 , 0.48277923, ..., 0.5042102 , 0.49496982,\n        0.4839983 ],\n       [0.5396523 , 1.        , 0.627982  , ..., 0.51786196, 0.51098883,\n        0.49565008],\n       [0.48277923, 0.627982  , 1.        , ..., 0.51475936, 0.50991845,\n        0.4909214 ],\n       ...,\n       [0.5042102 , 0.51786196, 0.51475936, ..., 1.        , 0.797757  ,\n        0.72988987],\n       [0.49496982, 0.51098883, 0.50991845, ..., 0.797757  , 1.        ,\n        0.80155367],\n       [0.4839983 , 0.49565002, 0.4909214 , ..., 0.72988987, 0.80155367,\n        1.        ]], dtype=float32)]\n"
     ]
    }
   ],
   "source": [
    "print(d)"
   ]
  },
  {
   "cell_type": "code",
   "execution_count": 20,
   "metadata": {},
   "outputs": [],
   "source": [
    "filepath = utils.get_project_path() / '.data' / dataset / ('%s_vaesim_eu' % dataset)\n",
    "np.savez(filepath, vae_eu=d)"
   ]
  },
  {
   "cell_type": "markdown",
   "metadata": {},
   "source": [
    "### Cosine similarity score"
   ]
  },
  {
   "cell_type": "code",
   "execution_count": 15,
   "metadata": {},
   "outputs": [
    {
     "output_type": "stream",
     "name": "stdout",
     "text": [
      "Wall time: 3.01 s\n"
     ]
    }
   ],
   "source": [
    "%%time\n",
    "from matchms.similarity import CosineGreedy\n",
    "sm = CosineGreedy(tolerance=0.005, mz_power=0, intensity_power=1.0)\n",
    "scores = sm.matrix(spectra, spectra, is_symmetric=True)"
   ]
  },
  {
   "cell_type": "code",
   "execution_count": 16,
   "metadata": {},
   "outputs": [
    {
     "output_type": "execute_result",
     "data": {
      "text/plain": [
       "(100, 100)"
      ]
     },
     "metadata": {},
     "execution_count": 16
    }
   ],
   "source": [
    "scores.shape"
   ]
  },
  {
   "cell_type": "code",
   "execution_count": 17,
   "metadata": {},
   "outputs": [
    {
     "output_type": "execute_result",
     "data": {
      "text/plain": [
       "array([[(1.        ,  383), (0.86781405,  183), (0.4104528 ,  107), ...,\n",
       "        (0.01279384,   27), (0.02088227,   32), (0.05963318,  219)],\n",
       "       [(0.86781405,  183), (1.        ,  257), (0.72771441,  116), ...,\n",
       "        (0.01080062,   22), (0.02803177,   32), (0.06915549,  144)],\n",
       "       [(0.4104528 ,  107), (0.72771441,  116), (1.        ,  241), ...,\n",
       "        (0.01956091,   23), (0.07163905,   40), (0.05929435,  126)],\n",
       "       ...,\n",
       "       [(0.01279384,   27), (0.01080062,   22), (0.01956091,   23), ...,\n",
       "        (1.        ,  454), (0.8822523 ,   47), (0.13876879,   79)],\n",
       "       [(0.02088227,   32), (0.02803177,   32), (0.07163905,   40), ...,\n",
       "        (0.8822523 ,   47), (1.        ,  417), (0.16698591,   69)],\n",
       "       [(0.05963318,  219), (0.06915549,  144), (0.05929435,  126), ...,\n",
       "        (0.13876879,   79), (0.16698591,   69), (1.        , 1420)]],\n",
       "      dtype=[('score', '<f8'), ('matches', '<i4')])"
      ]
     },
     "metadata": {},
     "execution_count": 17
    }
   ],
   "source": [
    "scores"
   ]
  },
  {
   "cell_type": "code",
   "execution_count": 18,
   "metadata": {},
   "outputs": [],
   "source": [
    "def extract_index(scores, index=0):\n",
    "    sim_scores = np.zeros(scores.shape)\n",
    "    for i in range(scores.shape[0]):\n",
    "        for j in range(scores.shape[1]):\n",
    "            sim_scores[i, j] = scores[i, j][index]\n",
    "    return sim_scores"
   ]
  },
  {
   "cell_type": "code",
   "execution_count": 19,
   "metadata": {},
   "outputs": [],
   "source": [
    "sim_scores = extract_index(scores, index=0)\n",
    "match_scores = extract_index(scores, index=1)"
   ]
  },
  {
   "cell_type": "code",
   "execution_count": 20,
   "metadata": {},
   "outputs": [
    {
     "output_type": "execute_result",
     "data": {
      "text/plain": [
       "array([[ 383.,  183.,  107., ...,   27.,   32.,  219.],\n",
       "       [ 183.,  257.,  116., ...,   22.,   32.,  144.],\n",
       "       [ 107.,  116.,  241., ...,   23.,   40.,  126.],\n",
       "       ...,\n",
       "       [  27.,   22.,   23., ...,  454.,   47.,   79.],\n",
       "       [  32.,   32.,   40., ...,   47.,  417.,   69.],\n",
       "       [ 219.,  144.,  126., ...,   79.,   69., 1420.]])"
      ]
     },
     "metadata": {},
     "execution_count": 20
    }
   ],
   "source": [
    "match_scores"
   ]
  },
  {
   "cell_type": "code",
   "execution_count": 21,
   "metadata": {},
   "outputs": [],
   "source": [
    "# Save file in specified location\n",
    "filepath = utils.get_project_path() / '.data' / dataset / ('%s_cossim.npy' % dataset)\n",
    "np.savez(filepath, sim=sim_scores, match=match_scores)"
   ]
  },
  {
   "cell_type": "markdown",
   "metadata": {},
   "source": [
    "### Modified cosine similarity score"
   ]
  },
  {
   "cell_type": "code",
   "execution_count": 22,
   "metadata": {},
   "outputs": [
    {
     "output_type": "stream",
     "name": "stdout",
     "text": [
      "Wall time: 904 ms\n"
     ]
    }
   ],
   "source": [
    "%%time\n",
    "from matchms.similarity import ModifiedCosine\n",
    "sm = ModifiedCosine(tolerance=0.005, mz_power=0, intensity_power=1.0)\n",
    "scores = sm.matrix(spectra, spectra, is_symmetric=True)"
   ]
  },
  {
   "cell_type": "code",
   "execution_count": 23,
   "metadata": {},
   "outputs": [
    {
     "output_type": "execute_result",
     "data": {
      "text/plain": [
       "(100, 100)"
      ]
     },
     "metadata": {},
     "execution_count": 23
    }
   ],
   "source": [
    "scores.shape"
   ]
  },
  {
   "cell_type": "code",
   "execution_count": 24,
   "metadata": {},
   "outputs": [
    {
     "output_type": "execute_result",
     "data": {
      "text/plain": [
       "array([[(1.        ,  383), (0.86781851,  184), (0.41054337,  110), ...,\n",
       "        (0.0128058 ,   30), (0.02142101,   40), (0.06393118,  223)],\n",
       "       [(0.86781851,  184), (1.        ,  257), (0.7277428 ,  118), ...,\n",
       "        (0.01107618,   29), (0.02815849,   36), (0.07125633,  150)],\n",
       "       [(0.41054337,  110), (0.7277428 ,  118), (1.        ,  241), ...,\n",
       "        (0.01958546,   27), (0.07171012,   43), (0.05929805,  129)],\n",
       "       ...,\n",
       "       [(0.0128058 ,   30), (0.01107618,   29), (0.01958546,   27), ...,\n",
       "        (1.        ,  454), (0.88225747,   52), (0.13887608,   97)],\n",
       "       [(0.02142101,   40), (0.02815849,   36), (0.07171012,   43), ...,\n",
       "        (0.88225747,   52), (1.        ,  417), (0.16770879,   86)],\n",
       "       [(0.06393118,  223), (0.07125633,  150), (0.05929805,  129), ...,\n",
       "        (0.13887608,   97), (0.16770879,   86), (1.        , 1420)]],\n",
       "      dtype=[('score', '<f8'), ('matches', '<i4')])"
      ]
     },
     "metadata": {},
     "execution_count": 24
    }
   ],
   "source": [
    "scores"
   ]
  },
  {
   "cell_type": "code",
   "execution_count": 25,
   "metadata": {},
   "outputs": [],
   "source": [
    "sim_scores = extract_index(scores, index=0)\n",
    "match_scores = extract_index(scores, index=1)"
   ]
  },
  {
   "cell_type": "code",
   "execution_count": 38,
   "metadata": {},
   "outputs": [],
   "source": [
    "# Save file in specified location\n",
    "filepath = utils.get_project_path() / '.data' / dataset / ('%s_modcossim.npy' % dataset)\n",
    "np.savez(filepath, sim=sim_scores, match=match_scores)"
   ]
  },
  {
   "cell_type": "markdown",
   "metadata": {},
   "source": [
    "### Spec2Vec score"
   ]
  },
  {
   "cell_type": "code",
   "execution_count": 6,
   "metadata": {},
   "outputs": [],
   "source": [
    "import gensim\n",
    "from spec2vec import SpectrumDocument, Spec2Vec\n",
    "\n",
    "# Import pre-trained word2vec model (see code example above)\n",
    "model_file = str(utils.get_project_path() / '.model' / 'spec2vec' / (\"spec2vec_%s.model\" % dataset))\n",
    "model = gensim.models.Word2Vec.load(model_file)\n",
    "\n",
    "# Define similarity_function\n",
    "spec2vec_similarity = Spec2Vec(\n",
    "    model=model, intensity_weighting_power=0.5,\n",
    "    allowed_missing_percentage=5.0)"
   ]
  },
  {
   "cell_type": "code",
   "execution_count": 7,
   "metadata": {},
   "outputs": [
    {
     "output_type": "stream",
     "name": "stdout",
     "text": [
      "Wall time: 1min 38s\n"
     ]
    }
   ],
   "source": [
    "%%time\n",
    "# Select spectrum:\n",
    "refs, quer = spectra, spectra\n",
    "\n",
    "# Calculate scores on all combinations of reference spectrums and queries\n",
    "scores = calculate_scores(refs, quer, spec2vec_similarity)"
   ]
  },
  {
   "cell_type": "code",
   "execution_count": 8,
   "metadata": {},
   "outputs": [
    {
     "output_type": "execute_result",
     "data": {
      "text/plain": [
       "(12198, 12198)"
      ]
     },
     "metadata": {},
     "execution_count": 8
    }
   ],
   "source": [
    "scores.scores.shape"
   ]
  },
  {
   "cell_type": "code",
   "execution_count": 9,
   "metadata": {},
   "outputs": [
    {
     "output_type": "execute_result",
     "data": {
      "text/plain": [
       "array([[1.        , 0.83185001, 0.50568573, ..., 0.0476396 , 0.05109908,\n",
       "        0.04008313],\n",
       "       [0.83185001, 1.        , 0.7694769 , ..., 0.0122301 , 0.03733944,\n",
       "        0.01075595],\n",
       "       [0.50568573, 0.7694769 , 1.        , ..., 0.00651696, 0.03075593,\n",
       "        0.01066027],\n",
       "       ...,\n",
       "       [0.0476396 , 0.0122301 , 0.00651696, ..., 1.        , 0.61333389,\n",
       "        0.56526084],\n",
       "       [0.05109908, 0.03733944, 0.03075593, ..., 0.61333389, 1.        ,\n",
       "        0.94501653],\n",
       "       [0.04008313, 0.01075595, 0.01066027, ..., 0.56526084, 0.94501653,\n",
       "        1.        ]])"
      ]
     },
     "metadata": {},
     "execution_count": 9
    }
   ],
   "source": [
    "scores.scores"
   ]
  },
  {
   "cell_type": "code",
   "execution_count": 10,
   "metadata": {},
   "outputs": [],
   "source": [
    "# Save file in specified location\n",
    "filepath = utils.get_project_path() / '.data' / dataset / ('%s_spec2vec' % dataset)\n",
    "np.savez(filepath, sim=scores.scores)"
   ]
  },
  {
   "cell_type": "code",
   "execution_count": null,
   "metadata": {},
   "outputs": [],
   "source": []
  }
 ],
 "metadata": {
  "interpreter": {
   "hash": "96803faf9eb6966f3c363a404b953bf55b7f0c27ba1921e83c59e074a4f873a1"
  },
  "kernelspec": {
   "name": "python3",
   "display_name": "Python 3.7.9 64-bit ('spectra_vae': conda)"
  },
  "language_info": {
   "codemirror_mode": {
    "name": "ipython",
    "version": 3
   },
   "file_extension": ".py",
   "mimetype": "text/x-python",
   "name": "python",
   "nbconvert_exporter": "python",
   "pygments_lexer": "ipython3",
   "version": "3.7.9"
  }
 },
 "nbformat": 4,
 "nbformat_minor": 2
}