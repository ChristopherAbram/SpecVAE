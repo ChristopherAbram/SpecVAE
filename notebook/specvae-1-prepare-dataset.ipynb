{
 "metadata": {
  "language_info": {
   "codemirror_mode": {
    "name": "ipython",
    "version": 3
   },
   "file_extension": ".py",
   "mimetype": "text/x-python",
   "name": "python",
   "nbconvert_exporter": "python",
   "pygments_lexer": "ipython3",
   "version": "3.7.9"
  },
  "orig_nbformat": 4,
  "kernelspec": {
   "name": "python3",
   "display_name": "Python 3.7.9 64-bit ('spectra_vae': conda)"
  },
  "interpreter": {
   "hash": "96803faf9eb6966f3c363a404b953bf55b7f0c27ba1921e83c59e074a4f873a1"
  }
 },
 "nbformat": 4,
 "nbformat_minor": 2,
 "cells": [
  {
   "source": [
    "# Prepare MS/MS dataset\n",
    "Select n distinct compounds by unique InChIKey from specified dataset and export data to csv file."
   ],
   "cell_type": "markdown",
   "metadata": {}
  },
  {
   "cell_type": "code",
   "execution_count": 3,
   "metadata": {},
   "outputs": [
    {
     "output_type": "error",
     "ename": "ModuleNotFoundError",
     "evalue": "No module named 'specvae'",
     "traceback": [
      "\u001b[1;31m---------------------------------------------------------------------------\u001b[0m",
      "\u001b[1;31mModuleNotFoundError\u001b[0m                       Traceback (most recent call last)",
      "\u001b[1;32m<ipython-input-3-da10718dc14d>\u001b[0m in \u001b[0;36m<module>\u001b[1;34m\u001b[0m\n\u001b[0;32m      6\u001b[0m \u001b[1;32mfrom\u001b[0m \u001b[0mmatchms\u001b[0m \u001b[1;32mimport\u001b[0m \u001b[0mcalculate_scores\u001b[0m\u001b[1;33m,\u001b[0m \u001b[0mSpectrum\u001b[0m\u001b[1;33m\u001b[0m\u001b[1;33m\u001b[0m\u001b[0m\n\u001b[0;32m      7\u001b[0m \u001b[1;33m\u001b[0m\u001b[0m\n\u001b[1;32m----> 8\u001b[1;33m \u001b[1;32mimport\u001b[0m \u001b[0mspecvae\u001b[0m\u001b[1;33m.\u001b[0m\u001b[0mutils\u001b[0m \u001b[1;32mas\u001b[0m \u001b[0mutils\u001b[0m\u001b[1;33m,\u001b[0m \u001b[0mspecvae\u001b[0m\u001b[1;33m.\u001b[0m\u001b[0mdataset\u001b[0m \u001b[1;32mas\u001b[0m \u001b[0mdt\u001b[0m\u001b[1;33m\u001b[0m\u001b[1;33m\u001b[0m\u001b[0m\n\u001b[0m\u001b[0;32m      9\u001b[0m \u001b[1;32mfrom\u001b[0m \u001b[0mspecvae\u001b[0m\u001b[1;33m.\u001b[0m\u001b[0mdatasets\u001b[0m \u001b[1;32mimport\u001b[0m \u001b[0mMoNA\u001b[0m\u001b[1;33m,\u001b[0m \u001b[0mHMDB\u001b[0m\u001b[1;33m\u001b[0m\u001b[1;33m\u001b[0m\u001b[0m\n",
      "\u001b[1;31mModuleNotFoundError\u001b[0m: No module named 'specvae'"
     ]
    }
   ],
   "source": [
    "import os\n",
    "import numpy as np\n",
    "import pandas as pd\n",
    "\n",
    "from matchms.filtering import normalize_intensities, require_minimum_number_of_peaks, select_by_mz, select_by_relative_intensity\n",
    "from matchms import calculate_scores, Spectrum\n",
    "\n",
    "import specvae.utils as utils, specvae.dataset as dt\n",
    "from specvae.dataset import MoNA"
   ]
  },
  {
   "cell_type": "code",
   "execution_count": 2,
   "metadata": {},
   "outputs": [],
   "source": [
    "def spectrum_processing(s):\n",
    "    s = normalize_intensities(s)\n",
    "    s = select_by_mz(s, mz_from=0, mz_to=2500)\n",
    "    s = require_minimum_number_of_peaks(s, n_required=10)\n",
    "    s = select_by_relative_intensity(s, intensity_from=0.01, intensity_to=1.0)\n",
    "    return s"
   ]
  },
  {
   "cell_type": "code",
   "execution_count": 3,
   "metadata": {},
   "outputs": [],
   "source": [
    "def parse_spectrum(row):\n",
    "    string = row['spectrum']\n",
    "    m = dt.SplitSpectrum()(string)\n",
    "    mzs, ints = zip(*m)\n",
    "    idx = np.argsort(np.array(mzs))\n",
    "    s = Spectrum(mz=np.array(mzs)[idx], intensities=np.array(ints)[idx])\n",
    "    s = spectrum_processing(s)\n",
    "    return row if s else None"
   ]
  },
  {
   "source": [
    "## Load and preprocess dataset\n",
    "Apply preprocessing function on selected subset of molecules:\n",
    "- select spectra with peaks within m/z range \\[0, 2500\\],\n",
    "- discard spectra with less than 10 peaks,\n",
    "- discard spectra with intensities below 0.1"
   ],
   "cell_type": "markdown",
   "metadata": {}
  },
  {
   "cell_type": "code",
   "execution_count": 4,
   "metadata": {},
   "outputs": [],
   "source": [
    "dataset = 'MoNA'\n",
    "n_molecules = 1000"
   ]
  },
  {
   "cell_type": "code",
   "execution_count": 5,
   "metadata": {},
   "outputs": [
    {
     "output_type": "stream",
     "name": "stdout",
     "text": [
      "Load and preprocess MoNA validation data...\n",
      "C:\\Users\\krzys\\anaconda3\\envs\\spectra_vae\\lib\\site-packages\\IPython\\core\\interactiveshell.py:3437: DtypeWarning: Columns (17) have mixed types.Specify dtype option on import or set low_memory=False.\n",
      "  exec(code_obj, self.user_global_ns, self.user_ns)\n",
      "Preprocessing done!\n"
     ]
    }
   ],
   "source": [
    "print(\"Load and preprocess %s validation data...\" % dataset)\n",
    "if dataset == 'HMDB':\n",
    "    data_path = utils.get_project_path() / '.data' / 'HMDB' / 'hmdb_cfmid_dataset_train.csv'\n",
    "    df = HMDB.get_n_molecules(n_molecules, filepath=data_path)\n",
    "\n",
    "elif dataset == 'MoNA':\n",
    "    data_path = utils.get_project_path() / '.data' / 'MoNA' / 'MoNA.csv'\n",
    "    df, valid_df, test_df = MoNA.get_by_split(data_path)\n",
    "    df = MoNA.get_unique(n_molecules, df=df)\n",
    "\n",
    "X = df.apply(parse_spectrum, axis=1)\n",
    "print(\"Preprocessing done!\")"
   ]
  },
  {
   "cell_type": "code",
   "execution_count": 6,
   "metadata": {},
   "outputs": [
    {
     "output_type": "execute_result",
     "data": {
      "text/plain": [
       "Index(['spectrum', 'InChI', 'molecular formula', 'total exact mass', 'SMILES',\n",
       "       'InChIKey', 'collision energy', 'ionization mode', 'instrument type',\n",
       "       'instrument', 'precursor m/z', 'precursor type', 'library', 'author',\n",
       "       'publication', 'structural_key', 'CASMI', 'collision_energy_new', 'id'],\n",
       "      dtype='object')"
      ]
     },
     "metadata": {},
     "execution_count": 6
    }
   ],
   "source": [
    "X.columns"
   ]
  },
  {
   "cell_type": "code",
   "execution_count": 7,
   "metadata": {},
   "outputs": [
    {
     "output_type": "execute_result",
     "data": {
      "text/plain": [
       "                                                 spectrum  \\\n",
       "0       52.073152:0.215740 53.039199:0.251984 55.05488...   \n",
       "1       50.179433:0.988081 52.761359:0.667573 53.03928...   \n",
       "2       50.382111:0.657423 52.393542:0.636186 52.67915...   \n",
       "3       51.129190:0.047539 51.138777:0.057363 52.37786...   \n",
       "4       50.399188:0.071114 51.370479:0.060948 51.44307...   \n",
       "...                                                   ...   \n",
       "125067  151.0042:17.148697 178.9990:8.265202 227.0368:...   \n",
       "125102  71.0507:16.496674 85.0291:21.834812 129.0546:8...   \n",
       "125105  73.0298:10.413540 137.0232:3.818349 153.0179:5...   \n",
       "125108  71.0504:16.853244 85.0284:21.963241 121.0277:1...   \n",
       "125122  71.0508:16.614915 85.0292:24.599390 121.0285:2...   \n",
       "\n",
       "                                                    InChI molecular formula  \\\n",
       "0       InChI=1S/C21H24O5/c1-7-20(3,4)15-9-13-8-14-10-...          C21H24O5   \n",
       "1       InChI=1S/C21H24O5/c1-7-20(3,4)15-9-13-8-14-10-...          C21H24O5   \n",
       "2       InChI=1S/C21H24O5/c1-7-20(3,4)15-9-13-8-14-10-...          C21H24O5   \n",
       "3       InChI=1S/C21H24O5/c1-7-20(3,4)15-9-13-8-14-10-...          C21H24O5   \n",
       "4       InChI=1S/C21H24O5/c1-7-20(3,4)15-9-13-8-14-10-...          C21H24O5   \n",
       "...                                                   ...               ...   \n",
       "125067  InChI=1S/C21H20O11/c1-7-15(26)17(28)18(29)21(3...         C21H20O11   \n",
       "125102  InChI=1S/C21H20O12/c1-6-14(26)17(29)18(30)21(3...         C21H20O12   \n",
       "125105  InChI=1S/C20H18O11/c21-8-4-11(24)14-13(5-8)30-...         C20H18O11   \n",
       "125108  InChI=1S/C21H20O11/c1-7-15(26)17(28)18(29)21(3...         C21H20O11   \n",
       "125122  InChI=1S/C21H20O11/c1-7-15(26)17(28)18(29)21(3...         C21H20O11   \n",
       "\n",
       "        total exact mass                                             SMILES  \\\n",
       "0             356.162374  O=C1OC=2C=C3OC(CC3=CC2C=C1C(C=C)(C)C)C(OC(=O)C...   \n",
       "1             356.162374  O=C1OC=2C=C3OC(CC3=CC2C=C1C(C=C)(C)C)C(OC(=O)C...   \n",
       "2             356.162374  O=C1OC=2C=C3OC(CC3=CC2C=C1C(C=C)(C)C)C(OC(=O)C...   \n",
       "3             356.162374  O=C1OC=2C=C3OC(CC3=CC2C=C1C(C=C)(C)C)C(OC(=O)C...   \n",
       "4             356.162374  O=C1OC=2C=C3OC(CC3=CC2C=C1C(C=C)(C)C)C(OC(=O)C...   \n",
       "...                  ...                                                ...   \n",
       "125067        448.100561  C[C@H]1[C@@H]([C@H]([C@H]([C@@H](O1)OC2=C(C3=C...   \n",
       "125102        464.095476  C[C@H]1[C@@H]([C@H]([C@H]([C@@H](O1)OC2=C(C3=C...   \n",
       "125105        434.084911  C1=CC(=C(C=C1C2=C(C(=O)C3=C(C=C(C=C3O)O)O2)O[C...   \n",
       "125108        448.100561  C[C@H]1[C@@H]([C@H]([C@H]([C@@H](O1)OC2=C(C3=C...   \n",
       "125122        448.100561  C[C@H]1[C@@H]([C@H]([C@H]([C@@H](O1)OC2=C(C3=C...   \n",
       "\n",
       "                           InChIKey collision energy ionization mode  \\\n",
       "0       AWMHMGFGCLBSAY-UHFFFAOYSA-N            35HCD        positive   \n",
       "1       AWMHMGFGCLBSAY-UHFFFAOYSA-N            45HCD        positive   \n",
       "2       AWMHMGFGCLBSAY-UHFFFAOYSA-N            65HCD        positive   \n",
       "3       AWMHMGFGCLBSAY-UHFFFAOYSA-N            35HCD        positive   \n",
       "4       AWMHMGFGCLBSAY-UHFFFAOYSA-N            45HCD        positive   \n",
       "...                             ...              ...             ...   \n",
       "125067  OXGUCUVFOIWWQJ-HQBVPOQASA-N      Ramp 5-60 V        negative   \n",
       "125102  DCYOADKBABEMIQ-OWMUPTOHSA-N      Ramp 5-60 V        positive   \n",
       "125105  PZZRDJXEMZMZFD-IEGSVRCHSA-N      Ramp 5-60 V        positive   \n",
       "125108  OXGUCUVFOIWWQJ-HQBVPOQASA-N      Ramp 5-60 V        positive   \n",
       "125122  OXGUCUVFOIWWQJ-HQBVPOQASA-N      Ramp 5-60 V        positive   \n",
       "\n",
       "       instrument type                  instrument  precursor m/z  \\\n",
       "0              ESI-QFT        Thermo Q Exactive HF     395.125519   \n",
       "1              ESI-QFT        Thermo Q Exactive HF     395.125519   \n",
       "2              ESI-QFT        Thermo Q Exactive HF     395.125519   \n",
       "3              ESI-QFT        Thermo Q Exactive HF     374.196198   \n",
       "4              ESI-QFT        Thermo Q Exactive HF     374.196198   \n",
       "...                ...                         ...            ...   \n",
       "125067     LC-ESI-QTOF  UPLC Q-Tof Premier, Waters     447.092740   \n",
       "125102     LC-ESI-QTOF  UPLC Q-Tof Premier, Waters     465.103290   \n",
       "125105     LC-ESI-QTOF  UPLC Q-Tof Premier, Waters     435.092730   \n",
       "125108     LC-ESI-QTOF  UPLC Q-Tof Premier, Waters     449.108380   \n",
       "125122     LC-ESI-QTOF  UPLC Q-Tof Premier, Waters     449.108380   \n",
       "\n",
       "       precursor type                                library  \\\n",
       "0              [M+K]+  Vaniya/Fiehn Natural Products Library   \n",
       "1              [M+K]+  Vaniya/Fiehn Natural Products Library   \n",
       "2              [M+K]+  Vaniya/Fiehn Natural Products Library   \n",
       "3            [M+NH4]+  Vaniya/Fiehn Natural Products Library   \n",
       "4            [M+NH4]+  Vaniya/Fiehn Natural Products Library   \n",
       "...               ...                                    ...   \n",
       "125067         [M-H]-                               MassBank   \n",
       "125102         [M+H]+                               MassBank   \n",
       "125105         [M+H]+                               MassBank   \n",
       "125108         [M+H]+                               MassBank   \n",
       "125122         [M+H]+                               MassBank   \n",
       "\n",
       "                                                   author publication  \\\n",
       "0                                           Arpana Vaniya         NaN   \n",
       "1                                           Arpana Vaniya         NaN   \n",
       "2                                           Arpana Vaniya         NaN   \n",
       "3                                           Arpana Vaniya         NaN   \n",
       "4                                           Arpana Vaniya         NaN   \n",
       "...                                                   ...         ...   \n",
       "125067  Matsuda F, Suzuki M, Sawada Y, Plant Science C...         NaN   \n",
       "125102  Matsuda F, Suzuki M, Sawada Y, Plant Science C...         NaN   \n",
       "125105  Matsuda F, Suzuki M, Sawada Y, Plant Science C...         NaN   \n",
       "125108  Matsuda F, Suzuki M, Sawada Y, Plant Science C...         NaN   \n",
       "125122  Matsuda F, Suzuki M, Sawada Y, Plant Science C...         NaN   \n",
       "\n",
       "        structural_key  CASMI  collision_energy_new  \\\n",
       "0       AWMHMGFGCLBSAY    NaN                  35.0   \n",
       "1       AWMHMGFGCLBSAY    NaN                  45.0   \n",
       "2       AWMHMGFGCLBSAY    NaN                  65.0   \n",
       "3       AWMHMGFGCLBSAY    NaN                  35.0   \n",
       "4       AWMHMGFGCLBSAY    NaN                  45.0   \n",
       "...                ...    ...                   ...   \n",
       "125067  OXGUCUVFOIWWQJ    NaN                   NaN   \n",
       "125102  DCYOADKBABEMIQ    NaN                   NaN   \n",
       "125105  PZZRDJXEMZMZFD    NaN                   NaN   \n",
       "125108  OXGUCUVFOIWWQJ    NaN                   NaN   \n",
       "125122  OXGUCUVFOIWWQJ    NaN                   NaN   \n",
       "\n",
       "                                 id  \n",
       "0       AWMHMGFGCLBSAY-UHFFFAOYSA-N  \n",
       "1       AWMHMGFGCLBSAY-UHFFFAOYSA-N  \n",
       "2       AWMHMGFGCLBSAY-UHFFFAOYSA-N  \n",
       "3       AWMHMGFGCLBSAY-UHFFFAOYSA-N  \n",
       "4       AWMHMGFGCLBSAY-UHFFFAOYSA-N  \n",
       "...                             ...  \n",
       "125067  OXGUCUVFOIWWQJ-HQBVPOQASA-N  \n",
       "125102  DCYOADKBABEMIQ-OWMUPTOHSA-N  \n",
       "125105  PZZRDJXEMZMZFD-IEGSVRCHSA-N  \n",
       "125108  OXGUCUVFOIWWQJ-HQBVPOQASA-N  \n",
       "125122  OXGUCUVFOIWWQJ-HQBVPOQASA-N  \n",
       "\n",
       "[12198 rows x 19 columns]"
      ],
      "text/html": "<div>\n<style scoped>\n    .dataframe tbody tr th:only-of-type {\n        vertical-align: middle;\n    }\n\n    .dataframe tbody tr th {\n        vertical-align: top;\n    }\n\n    .dataframe thead th {\n        text-align: right;\n    }\n</style>\n<table border=\"1\" class=\"dataframe\">\n  <thead>\n    <tr style=\"text-align: right;\">\n      <th></th>\n      <th>spectrum</th>\n      <th>InChI</th>\n      <th>molecular formula</th>\n      <th>total exact mass</th>\n      <th>SMILES</th>\n      <th>InChIKey</th>\n      <th>collision energy</th>\n      <th>ionization mode</th>\n      <th>instrument type</th>\n      <th>instrument</th>\n      <th>precursor m/z</th>\n      <th>precursor type</th>\n      <th>library</th>\n      <th>author</th>\n      <th>publication</th>\n      <th>structural_key</th>\n      <th>CASMI</th>\n      <th>collision_energy_new</th>\n      <th>id</th>\n    </tr>\n  </thead>\n  <tbody>\n    <tr>\n      <th>0</th>\n      <td>52.073152:0.215740 53.039199:0.251984 55.05488...</td>\n      <td>InChI=1S/C21H24O5/c1-7-20(3,4)15-9-13-8-14-10-...</td>\n      <td>C21H24O5</td>\n      <td>356.162374</td>\n      <td>O=C1OC=2C=C3OC(CC3=CC2C=C1C(C=C)(C)C)C(OC(=O)C...</td>\n      <td>AWMHMGFGCLBSAY-UHFFFAOYSA-N</td>\n      <td>35HCD</td>\n      <td>positive</td>\n      <td>ESI-QFT</td>\n      <td>Thermo Q Exactive HF</td>\n      <td>395.125519</td>\n      <td>[M+K]+</td>\n      <td>Vaniya/Fiehn Natural Products Library</td>\n      <td>Arpana Vaniya</td>\n      <td>NaN</td>\n      <td>AWMHMGFGCLBSAY</td>\n      <td>NaN</td>\n      <td>35.0</td>\n      <td>AWMHMGFGCLBSAY-UHFFFAOYSA-N</td>\n    </tr>\n    <tr>\n      <th>1</th>\n      <td>50.179433:0.988081 52.761359:0.667573 53.03928...</td>\n      <td>InChI=1S/C21H24O5/c1-7-20(3,4)15-9-13-8-14-10-...</td>\n      <td>C21H24O5</td>\n      <td>356.162374</td>\n      <td>O=C1OC=2C=C3OC(CC3=CC2C=C1C(C=C)(C)C)C(OC(=O)C...</td>\n      <td>AWMHMGFGCLBSAY-UHFFFAOYSA-N</td>\n      <td>45HCD</td>\n      <td>positive</td>\n      <td>ESI-QFT</td>\n      <td>Thermo Q Exactive HF</td>\n      <td>395.125519</td>\n      <td>[M+K]+</td>\n      <td>Vaniya/Fiehn Natural Products Library</td>\n      <td>Arpana Vaniya</td>\n      <td>NaN</td>\n      <td>AWMHMGFGCLBSAY</td>\n      <td>NaN</td>\n      <td>45.0</td>\n      <td>AWMHMGFGCLBSAY-UHFFFAOYSA-N</td>\n    </tr>\n    <tr>\n      <th>2</th>\n      <td>50.382111:0.657423 52.393542:0.636186 52.67915...</td>\n      <td>InChI=1S/C21H24O5/c1-7-20(3,4)15-9-13-8-14-10-...</td>\n      <td>C21H24O5</td>\n      <td>356.162374</td>\n      <td>O=C1OC=2C=C3OC(CC3=CC2C=C1C(C=C)(C)C)C(OC(=O)C...</td>\n      <td>AWMHMGFGCLBSAY-UHFFFAOYSA-N</td>\n      <td>65HCD</td>\n      <td>positive</td>\n      <td>ESI-QFT</td>\n      <td>Thermo Q Exactive HF</td>\n      <td>395.125519</td>\n      <td>[M+K]+</td>\n      <td>Vaniya/Fiehn Natural Products Library</td>\n      <td>Arpana Vaniya</td>\n      <td>NaN</td>\n      <td>AWMHMGFGCLBSAY</td>\n      <td>NaN</td>\n      <td>65.0</td>\n      <td>AWMHMGFGCLBSAY-UHFFFAOYSA-N</td>\n    </tr>\n    <tr>\n      <th>3</th>\n      <td>51.129190:0.047539 51.138777:0.057363 52.37786...</td>\n      <td>InChI=1S/C21H24O5/c1-7-20(3,4)15-9-13-8-14-10-...</td>\n      <td>C21H24O5</td>\n      <td>356.162374</td>\n      <td>O=C1OC=2C=C3OC(CC3=CC2C=C1C(C=C)(C)C)C(OC(=O)C...</td>\n      <td>AWMHMGFGCLBSAY-UHFFFAOYSA-N</td>\n      <td>35HCD</td>\n      <td>positive</td>\n      <td>ESI-QFT</td>\n      <td>Thermo Q Exactive HF</td>\n      <td>374.196198</td>\n      <td>[M+NH4]+</td>\n      <td>Vaniya/Fiehn Natural Products Library</td>\n      <td>Arpana Vaniya</td>\n      <td>NaN</td>\n      <td>AWMHMGFGCLBSAY</td>\n      <td>NaN</td>\n      <td>35.0</td>\n      <td>AWMHMGFGCLBSAY-UHFFFAOYSA-N</td>\n    </tr>\n    <tr>\n      <th>4</th>\n      <td>50.399188:0.071114 51.370479:0.060948 51.44307...</td>\n      <td>InChI=1S/C21H24O5/c1-7-20(3,4)15-9-13-8-14-10-...</td>\n      <td>C21H24O5</td>\n      <td>356.162374</td>\n      <td>O=C1OC=2C=C3OC(CC3=CC2C=C1C(C=C)(C)C)C(OC(=O)C...</td>\n      <td>AWMHMGFGCLBSAY-UHFFFAOYSA-N</td>\n      <td>45HCD</td>\n      <td>positive</td>\n      <td>ESI-QFT</td>\n      <td>Thermo Q Exactive HF</td>\n      <td>374.196198</td>\n      <td>[M+NH4]+</td>\n      <td>Vaniya/Fiehn Natural Products Library</td>\n      <td>Arpana Vaniya</td>\n      <td>NaN</td>\n      <td>AWMHMGFGCLBSAY</td>\n      <td>NaN</td>\n      <td>45.0</td>\n      <td>AWMHMGFGCLBSAY-UHFFFAOYSA-N</td>\n    </tr>\n    <tr>\n      <th>...</th>\n      <td>...</td>\n      <td>...</td>\n      <td>...</td>\n      <td>...</td>\n      <td>...</td>\n      <td>...</td>\n      <td>...</td>\n      <td>...</td>\n      <td>...</td>\n      <td>...</td>\n      <td>...</td>\n      <td>...</td>\n      <td>...</td>\n      <td>...</td>\n      <td>...</td>\n      <td>...</td>\n      <td>...</td>\n      <td>...</td>\n      <td>...</td>\n    </tr>\n    <tr>\n      <th>125067</th>\n      <td>151.0042:17.148697 178.9990:8.265202 227.0368:...</td>\n      <td>InChI=1S/C21H20O11/c1-7-15(26)17(28)18(29)21(3...</td>\n      <td>C21H20O11</td>\n      <td>448.100561</td>\n      <td>C[C@H]1[C@@H]([C@H]([C@H]([C@@H](O1)OC2=C(C3=C...</td>\n      <td>OXGUCUVFOIWWQJ-HQBVPOQASA-N</td>\n      <td>Ramp 5-60 V</td>\n      <td>negative</td>\n      <td>LC-ESI-QTOF</td>\n      <td>UPLC Q-Tof Premier, Waters</td>\n      <td>447.092740</td>\n      <td>[M-H]-</td>\n      <td>MassBank</td>\n      <td>Matsuda F, Suzuki M, Sawada Y, Plant Science C...</td>\n      <td>NaN</td>\n      <td>OXGUCUVFOIWWQJ</td>\n      <td>NaN</td>\n      <td>NaN</td>\n      <td>OXGUCUVFOIWWQJ-HQBVPOQASA-N</td>\n    </tr>\n    <tr>\n      <th>125102</th>\n      <td>71.0507:16.496674 85.0291:21.834812 129.0546:8...</td>\n      <td>InChI=1S/C21H20O12/c1-6-14(26)17(29)18(30)21(3...</td>\n      <td>C21H20O12</td>\n      <td>464.095476</td>\n      <td>C[C@H]1[C@@H]([C@H]([C@H]([C@@H](O1)OC2=C(C3=C...</td>\n      <td>DCYOADKBABEMIQ-OWMUPTOHSA-N</td>\n      <td>Ramp 5-60 V</td>\n      <td>positive</td>\n      <td>LC-ESI-QTOF</td>\n      <td>UPLC Q-Tof Premier, Waters</td>\n      <td>465.103290</td>\n      <td>[M+H]+</td>\n      <td>MassBank</td>\n      <td>Matsuda F, Suzuki M, Sawada Y, Plant Science C...</td>\n      <td>NaN</td>\n      <td>DCYOADKBABEMIQ</td>\n      <td>NaN</td>\n      <td>NaN</td>\n      <td>DCYOADKBABEMIQ-OWMUPTOHSA-N</td>\n    </tr>\n    <tr>\n      <th>125105</th>\n      <td>73.0298:10.413540 137.0232:3.818349 153.0179:5...</td>\n      <td>InChI=1S/C20H18O11/c21-8-4-11(24)14-13(5-8)30-...</td>\n      <td>C20H18O11</td>\n      <td>434.084911</td>\n      <td>C1=CC(=C(C=C1C2=C(C(=O)C3=C(C=C(C=C3O)O)O2)O[C...</td>\n      <td>PZZRDJXEMZMZFD-IEGSVRCHSA-N</td>\n      <td>Ramp 5-60 V</td>\n      <td>positive</td>\n      <td>LC-ESI-QTOF</td>\n      <td>UPLC Q-Tof Premier, Waters</td>\n      <td>435.092730</td>\n      <td>[M+H]+</td>\n      <td>MassBank</td>\n      <td>Matsuda F, Suzuki M, Sawada Y, Plant Science C...</td>\n      <td>NaN</td>\n      <td>PZZRDJXEMZMZFD</td>\n      <td>NaN</td>\n      <td>NaN</td>\n      <td>PZZRDJXEMZMZFD-IEGSVRCHSA-N</td>\n    </tr>\n    <tr>\n      <th>125108</th>\n      <td>71.0504:16.853244 85.0284:21.963241 121.0277:1...</td>\n      <td>InChI=1S/C21H20O11/c1-7-15(26)17(28)18(29)21(3...</td>\n      <td>C21H20O11</td>\n      <td>448.100561</td>\n      <td>C[C@H]1[C@@H]([C@H]([C@H]([C@@H](O1)OC2=C(C3=C...</td>\n      <td>OXGUCUVFOIWWQJ-HQBVPOQASA-N</td>\n      <td>Ramp 5-60 V</td>\n      <td>positive</td>\n      <td>LC-ESI-QTOF</td>\n      <td>UPLC Q-Tof Premier, Waters</td>\n      <td>449.108380</td>\n      <td>[M+H]+</td>\n      <td>MassBank</td>\n      <td>Matsuda F, Suzuki M, Sawada Y, Plant Science C...</td>\n      <td>NaN</td>\n      <td>OXGUCUVFOIWWQJ</td>\n      <td>NaN</td>\n      <td>NaN</td>\n      <td>OXGUCUVFOIWWQJ-HQBVPOQASA-N</td>\n    </tr>\n    <tr>\n      <th>125122</th>\n      <td>71.0508:16.614915 85.0292:24.599390 121.0285:2...</td>\n      <td>InChI=1S/C21H20O11/c1-7-15(26)17(28)18(29)21(3...</td>\n      <td>C21H20O11</td>\n      <td>448.100561</td>\n      <td>C[C@H]1[C@@H]([C@H]([C@H]([C@@H](O1)OC2=C(C3=C...</td>\n      <td>OXGUCUVFOIWWQJ-HQBVPOQASA-N</td>\n      <td>Ramp 5-60 V</td>\n      <td>positive</td>\n      <td>LC-ESI-QTOF</td>\n      <td>UPLC Q-Tof Premier, Waters</td>\n      <td>449.108380</td>\n      <td>[M+H]+</td>\n      <td>MassBank</td>\n      <td>Matsuda F, Suzuki M, Sawada Y, Plant Science C...</td>\n      <td>NaN</td>\n      <td>OXGUCUVFOIWWQJ</td>\n      <td>NaN</td>\n      <td>NaN</td>\n      <td>OXGUCUVFOIWWQJ-HQBVPOQASA-N</td>\n    </tr>\n  </tbody>\n</table>\n<p>12198 rows × 19 columns</p>\n</div>"
     },
     "metadata": {},
     "execution_count": 7
    }
   ],
   "source": [
    "X = X.dropna(subset=['spectrum'])\n",
    "X"
   ]
  },
  {
   "source": [
    "## Save csv file"
   ],
   "cell_type": "markdown",
   "metadata": {}
  },
  {
   "cell_type": "code",
   "execution_count": 8,
   "metadata": {},
   "outputs": [],
   "source": [
    "# Save file in specified location\n",
    "filepath = utils.get_project_path() / '.data' / dataset / ('%s_score.csv' % dataset)\n",
    "X.to_csv(filepath)"
   ]
  }
 ]
}