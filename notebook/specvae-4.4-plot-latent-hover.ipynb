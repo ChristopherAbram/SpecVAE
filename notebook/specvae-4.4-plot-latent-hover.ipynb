{
 "cells": [
  {
   "attachments": {},
   "cell_type": "markdown",
   "metadata": {},
   "source": [
    "# Plot Latent Space and Expand Data Point Details\n",
    "This notebook allows to plot the latent space of the VAE model in an interactive way. While mouse cursor hovers over the data point, it will pop up the box with spectrum image and associated information."
   ]
  },
  {
   "cell_type": "code",
   "execution_count": null,
   "metadata": {},
   "outputs": [],
   "source": [
    "import numpy as np\n",
    "import torch\n",
    "from torch.utils.data import DataLoader\n",
    "from sklearn.decomposition import PCA\n",
    "from sklearn.manifold import TSNE\n",
    "from umap import UMAP\n",
    "import seaborn as sns\n",
    "import matplotlib.pyplot as plt\n",
    "%matplotlib inline\n",
    "sns.set(style='white', context='notebook', rc={'figure.figsize':(24,20)})\n",
    "\n",
    "import torchvision as tv\n",
    "from specvae.dataset import MoNA\n",
    "import specvae.vae as vae, specvae.utils as utils\n",
    "import specvae.dataset as dt\n",
    "\n",
    "import plotly.express as px\n",
    "import pandas as pd"
   ]
  },
  {
   "cell_type": "code",
   "execution_count": null,
   "metadata": {},
   "outputs": [],
   "source": [
    "use_cuda = False\n",
    "cpu_device = torch.device('cpu')\n",
    "if torch.cuda.is_available() and use_cuda:\n",
    "    device = torch.device('cuda:0')\n",
    "    print('GPU device count:', torch.cuda.device_count())\n",
    "else:\n",
    "    device = torch.device('cpu')\n",
    "print('Device in use: ', device)"
   ]
  },
  {
   "cell_type": "code",
   "execution_count": null,
   "metadata": {},
   "outputs": [],
   "source": [
    "# Processing parameters:\n",
    "dataset = 'MoNA' # HMDB and MoNA\n",
    "model_name = 'alt_specvae_2000-1538-30-1538-2000 (28-06-2021_14-05-29)'\n",
    "datapoints = 10000"
   ]
  },
  {
   "cell_type": "code",
   "execution_count": null,
   "metadata": {},
   "outputs": [],
   "source": [
    "print(\"Load data\")\n",
    "filename = \"%s-%s.npz\" % (dataset, model_name)\n",
    "filepath = utils.get_project_path() / '.data' / 'latent' / filename\n",
    "b = np.load(filepath, allow_pickle=True)\n",
    "X, mode, energy, tax, ids, classes, spectra, images = b['X'], b['mode'], b['energy'], b['tax'], b['ids'], b['classes'], b['spectra'], b['imgs']\n",
    "energy[energy < 0] = 0\n",
    "log_energy = energy # np.log(np.nan_to_num(energy) + 1)"
   ]
  },
  {
   "cell_type": "code",
   "execution_count": null,
   "metadata": {},
   "outputs": [],
   "source": [
    "X.shape"
   ]
  },
  {
   "cell_type": "code",
   "execution_count": null,
   "metadata": {},
   "outputs": [],
   "source": [
    "energy"
   ]
  },
  {
   "cell_type": "code",
   "execution_count": null,
   "metadata": {},
   "outputs": [],
   "source": [
    "if datapoints < X.shape[0]:\n",
    "    X, mode, energy, tax, ids, classes, spectra, images, log_energy = X[:datapoints], mode[:datapoints], energy[:datapoints], \\\n",
    "        tax[:datapoints], ids[:datapoints], classes[:datapoints], spectra[:datapoints], images[:datapoints], log_energy[:datapoints]"
   ]
  },
  {
   "cell_type": "code",
   "execution_count": null,
   "metadata": {},
   "outputs": [],
   "source": [
    "colors = np.array(list(map(lambda x: 'negative' if x==0 else 'positive', mode)))\n",
    "# colors = classes[taxrs"
   ]
  },
  {
   "cell_type": "code",
   "execution_count": null,
   "metadata": {},
   "outputs": [],
   "source": [
    "colors.shape"
   ]
  },
  {
   "cell_type": "code",
   "execution_count": null,
   "metadata": {},
   "outputs": [],
   "source": [
    "from bokeh.plotting import figure, show, output_notebook\n",
    "from bokeh.models import HoverTool, ColumnDataSource, CategoricalColorMapper, LinearColorMapper, ColorBar, TapTool\n",
    "from bokeh.palettes import Spectral10\n",
    "from bokeh.palettes import RdBu3\n",
    "from bokeh.models.callbacks import CustomJS\n",
    "\n",
    "output_notebook()"
   ]
  },
  {
   "cell_type": "code",
   "execution_count": null,
   "metadata": {},
   "outputs": [],
   "source": [
    "def plot_hover(d, title=\"\"):\n",
    "    c1 = RdBu3[2] # red\n",
    "    c2 = RdBu3[0] # blue\n",
    "    ds = {\n",
    "        'x': d[:, 0],\n",
    "        'y': d[:, 1],\n",
    "        'image': images,\n",
    "        'energy': energy,\n",
    "        'log_energy': log_energy,\n",
    "        'mode': mode,\n",
    "        'ids': ids,\n",
    "        'label': colors,\n",
    "        'tax': [str(t) for t in tax],\n",
    "        'color': list(map(lambda x: c1 if x==0 else c2, mode))\n",
    "    }\n",
    "    datasource = ColumnDataSource(ds)\n",
    "#     color_mapping = CategoricalColorMapper(\n",
    "# #         factors=[str(x) for x in range(colors.max())], palette=Spectral10\n",
    "#         factors=[str(x) for x in colors], palette=Spectral10\n",
    "#     )\n",
    "#     color_mapping = LinearColorMapper(\n",
    "#         palette='Turbo256',\n",
    "#         low=log_energy.min(),\n",
    "#         high=log_energy.max()\n",
    "#     )\n",
    "    plot_figure = figure(\n",
    "        title=title,\n",
    "        plot_width=1000,\n",
    "        plot_height=1000)\n",
    "    plot_figure.add_tools(HoverTool(tooltips=\"\"\"\n",
    "    <div>\n",
    "        <div>\n",
    "            <img src='@image' style='float: left; margin: 5px 5px 5px 5px'/>\n",
    "        </div>\n",
    "        <div>\n",
    "            <span style='font-size: 11px; color: #224499'>ID:</span>\n",
    "            <span style='font-size: 11px'>@ids</span>\n",
    "        </div>\n",
    "        <div>\n",
    "            <span style='font-size: 11px; color: #224499'>Mode:</span>\n",
    "            <span style='font-size: 11px'>@mode</span>\n",
    "        </div>\n",
    "        <div>\n",
    "            <span style='font-size: 11px; color: #224499'>Energy:</span>\n",
    "            <span style='font-size: 11px'>@energy</span>\n",
    "        </div>\n",
    "    </div>\n",
    "    \"\"\"))\n",
    "    \n",
    "    cb_click = CustomJS(args=dict(source=datasource), code=\"\"\"\n",
    "        var data = source.data\n",
    "        var selected = source.selected.indices\n",
    "        var select_inds = []\n",
    "        var prop_name = 'ids'\n",
    "        if(selected.length == 1){\n",
    "            // only consider case where one glyph is selected by user\n",
    "            var selected_prop = data[prop_name][selected[0]]\n",
    "            console.log(data)\n",
    "            console.log(selected)\n",
    "            for (var i = 0; i < data['x'].length; ++i){\n",
    "                if(data[prop_name][i] == selected_prop){\n",
    "                    // add all points to selected if their ids coincide with original\n",
    "                    // glyph that was clicked.\n",
    "                    data['color'][i] = '#ff0000'\n",
    "                    select_inds.push(i)\n",
    "                }\n",
    "            }\n",
    "        }\n",
    "        source.selected.indices = select_inds \n",
    "        source.change.emit();\n",
    "    \"\"\")\n",
    "    plot_figure.add_tools(TapTool(callback=cb_click))\n",
    "    \n",
    "    plot_figure.circle(\n",
    "        'x',\n",
    "        'y',\n",
    "        source=datasource,\n",
    "        color='color',\n",
    "#         color=dict(field='label', transform=color_mapping),\n",
    "        legend_group='label',\n",
    "        line_alpha=0.6,\n",
    "        fill_alpha=0.6,\n",
    "        size=6)\n",
    "#     color_bar = ColorBar(color_mapper=color_mapping, label_standoff=12)\n",
    "#     plot_figure.add_layout(color_bar, 'right')\n",
    "    show(plot_figure)\n",
    "    "
   ]
  },
  {
   "cell_type": "code",
   "execution_count": null,
   "metadata": {},
   "outputs": [],
   "source": [
    "pca_comp = 2\n",
    "print(\"Compute PCA for n_components=%d\" % pca_comp)\n",
    "r = PCA(pca_comp)\n",
    "pdata = r.fit_transform(X)\n",
    "\n",
    "print(\"PCA:\")\n",
    "print(\"\\t      explained_variance:\", r.explained_variance_)\n",
    "print(\"\\texplained_variance_ratio:\", r.explained_variance_ratio_)"
   ]
  },
  {
   "cell_type": "code",
   "execution_count": null,
   "metadata": {},
   "outputs": [],
   "source": [
    "plot_hover(pdata)"
   ]
  },
  {
   "cell_type": "code",
   "execution_count": null,
   "metadata": {},
   "outputs": [],
   "source": [
    "pca_comp = 10\n",
    "print(\"Compute PCA for n_components=%d\" % pca_comp)\n",
    "red = PCA(pca_comp)\n",
    "data = red.fit_transform(X)\n",
    "# data = X\n",
    "\n",
    "print(\"PCA:\")\n",
    "print(\"\\t      explained_variance:\", red.explained_variance_)\n",
    "print(\"\\texplained_variance_ratio:\", red.explained_variance_ratio_)"
   ]
  },
  {
   "cell_type": "code",
   "execution_count": null,
   "metadata": {},
   "outputs": [],
   "source": [
    "n_components = 2\n",
    "print(\"Compute tSNE for n_components=%d\" % n_components)\n",
    "r = TSNE(n_components)\n",
    "tdata = r.fit_transform(data)\n",
    "\n",
    "print(\"TSNE:\")\n",
    "print(\"\\t      kl_divergence:\", r.kl_divergence_)"
   ]
  },
  {
   "cell_type": "code",
   "execution_count": null,
   "metadata": {
    "tags": []
   },
   "outputs": [],
   "source": [
    "plot_hover(tdata)"
   ]
  },
  {
   "cell_type": "code",
   "execution_count": null,
   "metadata": {},
   "outputs": [],
   "source": [
    "def draw_umap(n_neighbors=15, min_dist=0.1, n_components=2, metric='euclidean', title=''):\n",
    "    fit = UMAP(\n",
    "        n_neighbors=n_neighbors,\n",
    "        min_dist=min_dist,\n",
    "        n_components=n_components,\n",
    "        metric=metric\n",
    "    )\n",
    "    u = fit.fit_transform(data)\n",
    "    if n_components == 1:\n",
    "        fig = px.scatter(u, x=0, y=1, color=colors, template='plotly_white', hover_data={'ionization mode': mode, 'collision energy': energy, 'InChIKey': ids}, title=title)\n",
    "        fig.show()\n",
    "        # plot_hover(u)\n",
    "    if n_components == 2:\n",
    "        plot_hover(u, title=\"UMAP n={} dist={} metric={}\".format(n_neighbors, min_dist, metric))\n",
    "    if n_components == 3:\n",
    "        fig = px.scatter_3d(u, x=0, y=1, z=2, color=log_energy, template='plotly_white', \n",
    "                            hover_data={'ionization mode': mode, 'collision energy': energy, 'InChIKey': ids}, title=title, \n",
    "                            width=1000, height=1000, color_continuous_scale=px.colors.sequential.Turbo)\n",
    "        fig.show()"
   ]
  },
  {
   "cell_type": "code",
   "execution_count": null,
   "metadata": {},
   "outputs": [],
   "source": [
    "draw_umap(min_dist=0.5, title='min_dist = {}'.format(0.25))"
   ]
  },
  {
   "cell_type": "code",
   "execution_count": null,
   "metadata": {},
   "outputs": [],
   "source": [
    "m = \"correlation\"\n",
    "name = m if type(m) is str else m.__name__\n",
    "draw_umap(n_components=2, metric=m, title='metric = {}'.format(name))"
   ]
  },
  {
   "cell_type": "code",
   "execution_count": null,
   "metadata": {},
   "outputs": [],
   "source": [
    "draw_umap(n_components=3, metric='euclidean', title='metric = euclidean')"
   ]
  },
  {
   "cell_type": "code",
   "execution_count": null,
   "metadata": {},
   "outputs": [],
   "source": []
  }
 ],
 "metadata": {
  "interpreter": {
   "hash": "96803faf9eb6966f3c363a404b953bf55b7f0c27ba1921e83c59e074a4f873a1"
  },
  "kernelspec": {
   "display_name": "Python 3",
   "language": "python",
   "name": "python3"
  },
  "language_info": {
   "codemirror_mode": {
    "name": "ipython",
    "version": 3
   },
   "file_extension": ".py",
   "mimetype": "text/x-python",
   "name": "python",
   "nbconvert_exporter": "python",
   "pygments_lexer": "ipython3",
   "version": "3.7.9"
  }
 },
 "nbformat": 4,
 "nbformat_minor": 4
}
