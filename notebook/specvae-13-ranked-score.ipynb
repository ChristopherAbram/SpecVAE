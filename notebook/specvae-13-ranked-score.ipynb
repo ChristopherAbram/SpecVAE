{
 "cells": [
  {
   "attachments": {},
   "cell_type": "markdown",
   "metadata": {},
   "source": [
    "# Ranked score\n",
    "Compute ranked score using several metrics. The rank is computed as the position of the compound in the matching list constructed by comparing the reconstruction of the spectrum for that compound with N other spectra in the database."
   ]
  },
  {
   "cell_type": "code",
   "execution_count": 1,
   "metadata": {},
   "outputs": [],
   "source": [
    "import os\n",
    "import numpy as np\n",
    "import torch\n",
    "from specvae.model import BaseModel\n",
    "import specvae.dataset as dt\n",
    "import specvae.utils as utils\n",
    "import pandas as pd"
   ]
  },
  {
   "cell_type": "code",
   "execution_count": 2,
   "metadata": {},
   "outputs": [],
   "source": [
    "# Parameters\n",
    "dataset = 'MoNA'\n",
    "modelpath = \"d:\\\\Workspace\\\\SpecVAE\\\\.model\\\\MoNA\\\\betavae_capacity_nextron\\\\betavae_capacity_20-800-200-50-3-50-200-800-20_01 (24-12-2021_01-50-12)\"\n",
    "# model_dirs = [\n",
    "    # \"d:\\\\Workspace\\\\SpecVAE\\\\.model\\\\MoNA\\\\betavae_capacity_nextron\\\\betavae_capacity_20-800-200-50-3-50-200-800-20_01 (24-12-2021_01-50-12)\",\n",
    "    # \"d:\\\\Workspace\\\\SpecVAE\\\\.model\\\\MoNA\\\\betavae_capacity_nextron\\\\betavae_capacity_20-400-100-3-400-20_02 (24-12-2021_03-34-34)\",\n",
    "    # \"d:\\\\Workspace\\\\SpecVAE\\\\.model\\\\MoNA\\\\betavae_capacity_nextron\\\\betavae_capacity_20-1600-3-1600-20_03 (24-12-2021_00-17-31)\",\n",
    "    # \"d:\\\\Workspace\\\\SpecVAE\\\\.model\\\\MoNA\\\\betavae_capacity_nextron\\\\betavae_capacity_20-800-3-800-20_04 (24-12-2021_00-25-10)\",\n",
    "    # \"d:\\\\Workspace\\\\SpecVAE\\\\.model\\\\MoNA\\\\betavae_capacity_nextron\\\\betavae_capacity_20-100-3-90-100-20_05 (24-12-2021_03-01-19)\",\n",
    "    # \"d:\\\\Workspace\\\\SpecVAE\\\\.model\\\\MoNA\\\\betavae_capacity_nextron\\\\betavae_capacity_50-400-3-100-400-50_06 (24-12-2021_06-19-49)\"\n",
    "# ]"
   ]
  },
  {
   "cell_type": "code",
   "execution_count": 3,
   "metadata": {},
   "outputs": [
    {
     "name": "stdout",
     "output_type": "stream",
     "text": [
      "Device in use:  cpu\n"
     ]
    }
   ],
   "source": [
    "device, cpu = utils.device(use_cuda=False)"
   ]
  },
  {
   "cell_type": "code",
   "execution_count": 4,
   "metadata": {},
   "outputs": [],
   "source": [
    "def load_model(path):\n",
    "    model_path = os.path.join(path, 'model.pth')\n",
    "    model = BaseModel.load(model_path, device)\n",
    "    model.eval()\n",
    "    return model"
   ]
  },
  {
   "cell_type": "code",
   "execution_count": 5,
   "metadata": {},
   "outputs": [],
   "source": [
    "base_path = utils.get_project_path() / '.data' / dataset\n",
    "metadata_path = base_path / ('%s_meta.npy' % dataset)\n",
    "\n",
    "metadata = None\n",
    "if os.path.exists(metadata_path):\n",
    "    metadata = np.load(metadata_path, allow_pickle=True).item()\n",
    "\n",
    "df = dt.Spectra.open(base_path / ('%s_full.csv' % dataset))"
   ]
  },
  {
   "cell_type": "code",
   "execution_count": 6,
   "metadata": {},
   "outputs": [],
   "source": [
    "def preload_data_as_tensor(model, df, n=-1):\n",
    "    columns = model.config['input_columns']\n",
    "    types = model.config['types']\n",
    "    data = dt.Spectra.preload_tensor(\n",
    "        device=device, data_frame=df[columns + ['id']], transform=model.transform, limit=n, types=types,   do_print=False)\n",
    "    return data"
   ]
  },
  {
   "cell_type": "code",
   "execution_count": 7,
   "metadata": {},
   "outputs": [],
   "source": [
    "def evaluate_model(model, df, data):\n",
    "    print(\"Encode N=%d instances from %s dataset...\" % (data['id'].shape[0], dataset))\n",
    "    X, ids = data['spectrum'], data['id'] # TODO: handle the case for concatanated input\n",
    "    Xrecon, z, latent_dist = model.forward_(X)\n",
    "    print(z.shape)\n",
    "    data_np = {}\n",
    "    data_np['X'] = X.data.cpu().numpy()\n",
    "    data_np['Xrecon'] = Xrecon.data.cpu().numpy()\n",
    "    data_np['z'] = z.data.cpu().numpy()\n",
    "    data_np['ids'] = ids\n",
    "    data_np['ionization_mode_id'] = df['ionization_mode_id'].to_numpy()\n",
    "    data_np['collision_energy'] = df['collision_energy'].to_numpy()\n",
    "    if 'instrument_type' in df:\n",
    "        data_np['instrument_type'] = df['instrument_type'].to_numpy()\n",
    "    # data_np['images'] = df['images'].to_numpy()\n",
    "    return data_np\n"
   ]
  },
  {
   "cell_type": "code",
   "execution_count": 8,
   "metadata": {},
   "outputs": [
    {
     "name": "stdout",
     "output_type": "stream",
     "text": [
      "Path: d:\\Workspace\\SpecVAE\\.model\\MoNA\\betavae_capacity_nextron\\betavae_capacity_20-800-200-50-3-50-200-800-20_01 (24-12-2021_01-50-12)\n"
     ]
    },
    {
     "data": {
      "text/plain": [
       "SpecVEA(\n",
       "  (encoder): Sequential(\n",
       "    (en_lin_1): Linear(in_features=20, out_features=800, bias=True)\n",
       "    (en_lin_batchnorm_1): BatchNorm1d(800, eps=1e-05, momentum=0.1, affine=True, track_running_stats=True)\n",
       "    (en_act_1): ReLU()\n",
       "    (en_lin_2): Linear(in_features=800, out_features=200, bias=True)\n",
       "    (en_lin_batchnorm_2): BatchNorm1d(200, eps=1e-05, momentum=0.1, affine=True, track_running_stats=True)\n",
       "    (en_act_2): ReLU()\n",
       "    (en_lin_3): Linear(in_features=200, out_features=50, bias=True)\n",
       "    (en_lin_batchnorm_3): BatchNorm1d(50, eps=1e-05, momentum=0.1, affine=True, track_running_stats=True)\n",
       "    (en_act_3): ReLU()\n",
       "  )\n",
       "  (fc_mean): Linear(in_features=50, out_features=3, bias=True)\n",
       "  (mean_batchnorm): BatchNorm1d(3, eps=1e-05, momentum=0.1, affine=True, track_running_stats=True)\n",
       "  (fc_logvar): Linear(in_features=50, out_features=3, bias=True)\n",
       "  (logvar_batchnorm): BatchNorm1d(3, eps=1e-05, momentum=0.1, affine=True, track_running_stats=True)\n",
       "  (sample): SampleZ()\n",
       "  (decoder): Sequential(\n",
       "    (de_lin_1): Linear(in_features=3, out_features=50, bias=True)\n",
       "    (de_lin_batchnorm_1): BatchNorm1d(50, eps=1e-05, momentum=0.1, affine=True, track_running_stats=True)\n",
       "    (de_act_1): ReLU()\n",
       "    (de_lin_2): Linear(in_features=50, out_features=200, bias=True)\n",
       "    (de_lin_batchnorm_2): BatchNorm1d(200, eps=1e-05, momentum=0.1, affine=True, track_running_stats=True)\n",
       "    (de_act_2): ReLU()\n",
       "    (de_lin_3): Linear(in_features=200, out_features=800, bias=True)\n",
       "    (de_lin_batchnorm_3): BatchNorm1d(800, eps=1e-05, momentum=0.1, affine=True, track_running_stats=True)\n",
       "    (de_act_3): ReLU()\n",
       "    (de_lin_4): Linear(in_features=800, out_features=20, bias=True)\n",
       "    (de_act_4): Sigmoid()\n",
       "  )\n",
       "  (loss): VAELoss()\n",
       ")"
      ]
     },
     "execution_count": 8,
     "metadata": {},
     "output_type": "execute_result"
    }
   ],
   "source": [
    "print('Path:', modelpath)\n",
    "model = load_model(modelpath)\n",
    "model"
   ]
  },
  {
   "cell_type": "code",
   "execution_count": 9,
   "metadata": {},
   "outputs": [],
   "source": [
    "data = preload_data_as_tensor(model, df, n=5000)"
   ]
  },
  {
   "cell_type": "code",
   "execution_count": 10,
   "metadata": {},
   "outputs": [
    {
     "name": "stdout",
     "output_type": "stream",
     "text": [
      "Encode N=5002 instances from MoNA dataset...\n",
      "torch.Size([5002, 3])\n"
     ]
    }
   ],
   "source": [
    "data = evaluate_model(model, df, data)"
   ]
  },
  {
   "cell_type": "code",
   "execution_count": 11,
   "metadata": {},
   "outputs": [],
   "source": [
    "from specvae.metrics import cos_sim, eu_dist, per_diff\n",
    "\n",
    "def ranked_score(X, Y, score_fun=cos_sim):\n",
    "    A = score_fun(X, Y, matrix=True)\n",
    "    As = torch.argsort(A, dim=1, descending=True if score_fun == cos_sim else False)\n",
    "    diag = torch.arange(start=0, end=As.shape[0], dtype=int).repeat(As.shape[0], 1).T\n",
    "    x, y = torch.where(As == diag)\n",
    "    y = y.to(float).detach().numpy()\n",
    "    return y"
   ]
  },
  {
   "cell_type": "code",
   "execution_count": 12,
   "metadata": {},
   "outputs": [],
   "source": [
    "X, Xr = torch.from_numpy(data['X']), torch.from_numpy(data['Xrecon'])\n",
    "cs_r = ranked_score(X, Xr, score_fun=cos_sim)\n",
    "eu_r = ranked_score(X, Xr, score_fun=eu_dist)\n",
    "pd_r = ranked_score(X, Xr, score_fun=per_diff)"
   ]
  },
  {
   "cell_type": "code",
   "execution_count": 20,
   "metadata": {},
   "outputs": [
    {
     "data": {
      "text/html": [
       "<div>\n",
       "<style scoped>\n",
       "    .dataframe tbody tr th:only-of-type {\n",
       "        vertical-align: middle;\n",
       "    }\n",
       "\n",
       "    .dataframe tbody tr th {\n",
       "        vertical-align: top;\n",
       "    }\n",
       "\n",
       "    .dataframe thead th {\n",
       "        text-align: right;\n",
       "    }\n",
       "</style>\n",
       "<table border=\"1\" class=\"dataframe\">\n",
       "  <thead>\n",
       "    <tr style=\"text-align: right;\">\n",
       "      <th></th>\n",
       "      <th>cos_sim</th>\n",
       "      <th>eu_dist</th>\n",
       "      <th>per_diff</th>\n",
       "    </tr>\n",
       "  </thead>\n",
       "  <tbody>\n",
       "    <tr>\n",
       "      <th>count</th>\n",
       "      <td>5002.000000</td>\n",
       "      <td>5002.000000</td>\n",
       "      <td>5002.000000</td>\n",
       "    </tr>\n",
       "    <tr>\n",
       "      <th>mean</th>\n",
       "      <td>8.104958</td>\n",
       "      <td>8.104358</td>\n",
       "      <td>95.927629</td>\n",
       "    </tr>\n",
       "    <tr>\n",
       "      <th>std</th>\n",
       "      <td>42.846456</td>\n",
       "      <td>42.846441</td>\n",
       "      <td>208.080287</td>\n",
       "    </tr>\n",
       "    <tr>\n",
       "      <th>min</th>\n",
       "      <td>0.000000</td>\n",
       "      <td>0.000000</td>\n",
       "      <td>0.000000</td>\n",
       "    </tr>\n",
       "    <tr>\n",
       "      <th>25%</th>\n",
       "      <td>0.000000</td>\n",
       "      <td>0.000000</td>\n",
       "      <td>3.000000</td>\n",
       "    </tr>\n",
       "    <tr>\n",
       "      <th>50%</th>\n",
       "      <td>1.000000</td>\n",
       "      <td>1.000000</td>\n",
       "      <td>18.000000</td>\n",
       "    </tr>\n",
       "    <tr>\n",
       "      <th>75%</th>\n",
       "      <td>5.000000</td>\n",
       "      <td>5.000000</td>\n",
       "      <td>87.000000</td>\n",
       "    </tr>\n",
       "    <tr>\n",
       "      <th>max</th>\n",
       "      <td>1255.000000</td>\n",
       "      <td>1255.000000</td>\n",
       "      <td>4046.000000</td>\n",
       "    </tr>\n",
       "  </tbody>\n",
       "</table>\n",
       "</div>"
      ],
      "text/plain": [
       "           cos_sim      eu_dist     per_diff\n",
       "count  5002.000000  5002.000000  5002.000000\n",
       "mean      8.104958     8.104358    95.927629\n",
       "std      42.846456    42.846441   208.080287\n",
       "min       0.000000     0.000000     0.000000\n",
       "25%       0.000000     0.000000     3.000000\n",
       "50%       1.000000     1.000000    18.000000\n",
       "75%       5.000000     5.000000    87.000000\n",
       "max    1255.000000  1255.000000  4046.000000"
      ]
     },
     "execution_count": 20,
     "metadata": {},
     "output_type": "execute_result"
    }
   ],
   "source": [
    "scores = pd.DataFrame({'cos_sim': cs_r, 'eu_dist': eu_r, 'per_diff': pd_r})\n",
    "scores.describe()"
   ]
  },
  {
   "cell_type": "code",
   "execution_count": 21,
   "metadata": {},
   "outputs": [
    {
     "data": {
      "image/png": "[encoded data removed]",
      "text/plain": [
       "<Figure size 1080x720 with 1 Axes>"
      ]
     },
     "metadata": {
      "needs_background": "light"
     },
     "output_type": "display_data"
    }
   ],
   "source": [
    "import seaborn as sns\n",
    "import pandas as pd\n",
    "import matplotlib.pyplot as plt\n",
    "from matplotlib.cm import get_cmap\n",
    "\n",
    "xlim = 20\n",
    "cm = get_cmap('Set2')\n",
    "\n",
    "fig, ax = plt.subplots(figsize=(15, 10))\n",
    "ax = sns.histplot(data=scores, multiple='stack', stat='percent', discrete=True, edgecolor='white', linewidth=1., ax=ax, palette='Set2')\n",
    "ax.set_xlim(-0.5, xlim)\n",
    "\n",
    "t = ax.set_xticks(np.arange(0, xlim, dtype=int))\n",
    "_ = ax.vlines(x=np.median(cs_r), ymin=0, ymax=26, ls=':', colors=cm(0), label='median - cos_sim')\n",
    "_ = ax.vlines(x=np.median(eu_r), ymin=0, ymax=26, ls=':', colors=cm(1), label='median - eu_dist')\n",
    "_ = ax.vlines(x=np.median(pd_r), ymin=0, ymax=26, ls=':', colors=cm(2), label='median - per_diff')\n"
   ]
  },
  {
   "cell_type": "code",
   "execution_count": 22,
   "metadata": {},
   "outputs": [
    {
     "data": {
      "image/png": "[encoded data removed]",
      "text/plain": [
       "<Figure size 216x720 with 1 Axes>"
      ]
     },
     "metadata": {
      "needs_background": "light"
     },
     "output_type": "display_data"
    }
   ],
   "source": [
    "fig, ax = plt.subplots(figsize=(3, 10))\n",
    "ax = sns.boxplot(data=scores, ax=ax, orient='v', palette='Set2')\n",
    "# _ = ax.set_yscale('log')\n",
    "_ = ax.set_ylim(-5, 250)"
   ]
  }
 ],
 "metadata": {
  "interpreter": {
   "hash": "12fad036f12904aeaa28cdcdcde7f08fe9827bf1370c00d971a641f25b8f063a"
  },
  "kernelspec": {
   "display_name": "Python 3.7.11 64-bit ('specvae': conda)",
   "language": "python",
   "name": "python3"
  },
  "language_info": {
   "codemirror_mode": {
    "name": "ipython",
    "version": 3
   },
   "file_extension": ".py",
   "mimetype": "text/x-python",
   "name": "python",
   "nbconvert_exporter": "python",
   "pygments_lexer": "ipython3",
   "version": "3.7.11"
  },
  "orig_nbformat": 4
 },
 "nbformat": 4,
 "nbformat_minor": 2
}
