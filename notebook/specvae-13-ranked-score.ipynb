{
 "cells": [
  {
   "cell_type": "markdown",
   "metadata": {},
   "source": [
    "# Ranked score"
   ]
  },
  {
   "cell_type": "code",
   "execution_count": 1,
   "metadata": {},
   "outputs": [],
   "source": [
    "import os\n",
    "import numpy as np\n",
    "import torch\n",
    "from specvae.model import BaseModel\n",
    "import specvae.dataset as dt\n",
    "import specvae.utils as utils"
   ]
  },
  {
   "cell_type": "code",
   "execution_count": 2,
   "metadata": {},
   "outputs": [],
   "source": [
    "# Parameters\n",
    "dataset = 'MoNA'\n",
    "modelpath = \"d:\\\\Workspace\\\\SpecVAE\\\\.model\\\\MoNA\\\\betavae_capacity_nextron\\\\betavae_capacity_20-800-200-50-3-50-200-800-20_01 (24-12-2021_01-50-12)\"\n",
    "# model_dirs = [\n",
    "    # \"d:\\\\Workspace\\\\SpecVAE\\\\.model\\\\MoNA\\\\betavae_capacity_nextron\\\\betavae_capacity_20-800-200-50-3-50-200-800-20_01 (24-12-2021_01-50-12)\",\n",
    "    # \"d:\\\\Workspace\\\\SpecVAE\\\\.model\\\\MoNA\\\\betavae_capacity_nextron\\\\betavae_capacity_20-400-100-3-400-20_02 (24-12-2021_03-34-34)\",\n",
    "    # \"d:\\\\Workspace\\\\SpecVAE\\\\.model\\\\MoNA\\\\betavae_capacity_nextron\\\\betavae_capacity_20-1600-3-1600-20_03 (24-12-2021_00-17-31)\",\n",
    "    # \"d:\\\\Workspace\\\\SpecVAE\\\\.model\\\\MoNA\\\\betavae_capacity_nextron\\\\betavae_capacity_20-800-3-800-20_04 (24-12-2021_00-25-10)\",\n",
    "    # \"d:\\\\Workspace\\\\SpecVAE\\\\.model\\\\MoNA\\\\betavae_capacity_nextron\\\\betavae_capacity_20-100-3-90-100-20_05 (24-12-2021_03-01-19)\",\n",
    "    # \"d:\\\\Workspace\\\\SpecVAE\\\\.model\\\\MoNA\\\\betavae_capacity_nextron\\\\betavae_capacity_50-400-3-100-400-50_06 (24-12-2021_06-19-49)\"\n",
    "# ]"
   ]
  },
  {
   "cell_type": "code",
   "execution_count": 3,
   "metadata": {},
   "outputs": [
    {
     "name": "stdout",
     "output_type": "stream",
     "text": [
      "Device in use:  cpu\n"
     ]
    }
   ],
   "source": [
    "device, cpu = utils.device(use_cuda=False)"
   ]
  },
  {
   "cell_type": "code",
   "execution_count": 4,
   "metadata": {},
   "outputs": [],
   "source": [
    "def load_model(path):\n",
    "    model_path = os.path.join(path, 'model.pth')\n",
    "    model = BaseModel.load(model_path, device)\n",
    "    model.eval()\n",
    "    return model"
   ]
  },
  {
   "cell_type": "code",
   "execution_count": 5,
   "metadata": {},
   "outputs": [],
   "source": [
    "base_path = utils.get_project_path() / '.data' / dataset\n",
    "metadata_path = base_path / ('%s_meta.npy' % dataset)\n",
    "\n",
    "metadata = None\n",
    "if os.path.exists(metadata_path):\n",
    "    metadata = np.load(metadata_path, allow_pickle=True).item()\n",
    "\n",
    "df = dt.Spectra.open(base_path / ('%s_full.csv' % dataset))"
   ]
  },
  {
   "cell_type": "code",
   "execution_count": 6,
   "metadata": {},
   "outputs": [],
   "source": [
    "def preload_data_as_tensor(model, df, n=-1):\n",
    "    columns = model.config['input_columns']\n",
    "    types = model.config['types']\n",
    "    data = dt.Spectra.preload_tensor(\n",
    "        device=device, data_frame=df[columns + ['id']], transform=model.transform, limit=n, types=types,   do_print=False)\n",
    "    return data"
   ]
  },
  {
   "cell_type": "code",
   "execution_count": 7,
   "metadata": {},
   "outputs": [],
   "source": [
    "def evaluate_model(model, df, data):\n",
    "    print(\"Encode N=%d instances from %s dataset...\" % (data['id'].shape[0], dataset))\n",
    "    X, ids = data['spectrum'], data['id'] # TODO: handle the case for concatanated input\n",
    "    Xrecon, z, latent_dist = model.forward_(X)\n",
    "    print(z.shape)\n",
    "    data_np = {}\n",
    "    data_np['X'] = X.data.cpu().numpy()\n",
    "    data_np['Xrecon'] = Xrecon.data.cpu().numpy()\n",
    "    data_np['z'] = z.data.cpu().numpy()\n",
    "    data_np['ids'] = ids\n",
    "    data_np['ionization_mode_id'] = df['ionization_mode_id'].to_numpy()\n",
    "    data_np['collision_energy'] = df['collision_energy'].to_numpy()\n",
    "    if 'instrument_type' in df:\n",
    "        data_np['instrument_type'] = df['instrument_type'].to_numpy()\n",
    "    # data_np['images'] = df['images'].to_numpy()\n",
    "    return data_np\n"
   ]
  },
  {
   "cell_type": "code",
   "execution_count": 8,
   "metadata": {},
   "outputs": [
    {
     "name": "stdout",
     "output_type": "stream",
     "text": [
      "Path: d:\\Workspace\\SpecVAE\\.model\\MoNA\\betavae_capacity_nextron\\betavae_capacity_20-800-200-50-3-50-200-800-20_01 (24-12-2021_01-50-12)\n"
     ]
    },
    {
     "data": {
      "text/plain": [
       "SpecVEA(\n",
       "  (encoder): Sequential(\n",
       "    (en_lin_1): Linear(in_features=20, out_features=800, bias=True)\n",
       "    (en_lin_batchnorm_1): BatchNorm1d(800, eps=1e-05, momentum=0.1, affine=True, track_running_stats=True)\n",
       "    (en_act_1): ReLU()\n",
       "    (en_lin_2): Linear(in_features=800, out_features=200, bias=True)\n",
       "    (en_lin_batchnorm_2): BatchNorm1d(200, eps=1e-05, momentum=0.1, affine=True, track_running_stats=True)\n",
       "    (en_act_2): ReLU()\n",
       "    (en_lin_3): Linear(in_features=200, out_features=50, bias=True)\n",
       "    (en_lin_batchnorm_3): BatchNorm1d(50, eps=1e-05, momentum=0.1, affine=True, track_running_stats=True)\n",
       "    (en_act_3): ReLU()\n",
       "  )\n",
       "  (fc_mean): Linear(in_features=50, out_features=3, bias=True)\n",
       "  (mean_batchnorm): BatchNorm1d(3, eps=1e-05, momentum=0.1, affine=True, track_running_stats=True)\n",
       "  (fc_logvar): Linear(in_features=50, out_features=3, bias=True)\n",
       "  (logvar_batchnorm): BatchNorm1d(3, eps=1e-05, momentum=0.1, affine=True, track_running_stats=True)\n",
       "  (sample): SampleZ()\n",
       "  (decoder): Sequential(\n",
       "    (de_lin_1): Linear(in_features=3, out_features=50, bias=True)\n",
       "    (de_lin_batchnorm_1): BatchNorm1d(50, eps=1e-05, momentum=0.1, affine=True, track_running_stats=True)\n",
       "    (de_act_1): ReLU()\n",
       "    (de_lin_2): Linear(in_features=50, out_features=200, bias=True)\n",
       "    (de_lin_batchnorm_2): BatchNorm1d(200, eps=1e-05, momentum=0.1, affine=True, track_running_stats=True)\n",
       "    (de_act_2): ReLU()\n",
       "    (de_lin_3): Linear(in_features=200, out_features=800, bias=True)\n",
       "    (de_lin_batchnorm_3): BatchNorm1d(800, eps=1e-05, momentum=0.1, affine=True, track_running_stats=True)\n",
       "    (de_act_3): ReLU()\n",
       "    (de_lin_4): Linear(in_features=800, out_features=20, bias=True)\n",
       "    (de_act_4): Sigmoid()\n",
       "  )\n",
       "  (loss): VAELoss()\n",
       ")"
      ]
     },
     "execution_count": 8,
     "metadata": {},
     "output_type": "execute_result"
    }
   ],
   "source": [
    "print('Path:', modelpath)\n",
    "model = load_model(modelpath)\n",
    "model"
   ]
  },
  {
   "cell_type": "code",
   "execution_count": 9,
   "metadata": {},
   "outputs": [],
   "source": [
    "data = preload_data_as_tensor(model, df, n=5000)"
   ]
  },
  {
   "cell_type": "code",
   "execution_count": 10,
   "metadata": {},
   "outputs": [
    {
     "name": "stdout",
     "output_type": "stream",
     "text": [
      "Encode N=5002 instances from MoNA dataset...\n",
      "torch.Size([5002, 3])\n"
     ]
    }
   ],
   "source": [
    "data = evaluate_model(model, df, data)"
   ]
  },
  {
   "cell_type": "code",
   "execution_count": 11,
   "metadata": {},
   "outputs": [],
   "source": [
    "from specvae.metrics import cos_sim, eu_dist, per_diff\n",
    "\n",
    "def ranked_score(X, Y, score_fun=cos_sim):\n",
    "    A = score_fun(X, Y, matrix=True)\n",
    "    As = torch.argsort(A, dim=1, descending=True if score_fun == cos_sim else False)\n",
    "    diag = torch.arange(start=0, end=As.shape[0], dtype=int).repeat(As.shape[0], 1).T\n",
    "    x, y = torch.where(As == diag)\n",
    "    y = y.to(float).detach().numpy()\n",
    "    return y"
   ]
  },
  {
   "cell_type": "code",
   "execution_count": 12,
   "metadata": {},
   "outputs": [
    {
     "ename": "RuntimeError",
     "evalue": "[enforce fail at ..\\c10\\core\\CPUAllocator.cpp:79] data. DefaultCPUAllocator: not enough memory: you tried to allocate 2001600320 bytes.",
     "output_type": "error",
     "traceback": [
      "\u001b[1;31m---------------------------------------------------------------------------\u001b[0m",
      "\u001b[1;31mRuntimeError\u001b[0m                              Traceback (most recent call last)",
      "\u001b[1;32m~\\AppData\\Local\\Temp/ipykernel_8100/1257082519.py\u001b[0m in \u001b[0;36m<module>\u001b[1;34m\u001b[0m\n\u001b[0;32m      2\u001b[0m \u001b[0mcs_r\u001b[0m \u001b[1;33m=\u001b[0m \u001b[0mranked_score\u001b[0m\u001b[1;33m(\u001b[0m\u001b[0mX\u001b[0m\u001b[1;33m,\u001b[0m \u001b[0mXr\u001b[0m\u001b[1;33m,\u001b[0m \u001b[0mscore_fun\u001b[0m\u001b[1;33m=\u001b[0m\u001b[0mcos_sim\u001b[0m\u001b[1;33m)\u001b[0m\u001b[1;33m\u001b[0m\u001b[1;33m\u001b[0m\u001b[0m\n\u001b[0;32m      3\u001b[0m \u001b[0meu_r\u001b[0m \u001b[1;33m=\u001b[0m \u001b[0mranked_score\u001b[0m\u001b[1;33m(\u001b[0m\u001b[0mX\u001b[0m\u001b[1;33m,\u001b[0m \u001b[0mXr\u001b[0m\u001b[1;33m,\u001b[0m \u001b[0mscore_fun\u001b[0m\u001b[1;33m=\u001b[0m\u001b[0meu_dist\u001b[0m\u001b[1;33m)\u001b[0m\u001b[1;33m\u001b[0m\u001b[1;33m\u001b[0m\u001b[0m\n\u001b[1;32m----> 4\u001b[1;33m \u001b[0mpd_r\u001b[0m \u001b[1;33m=\u001b[0m \u001b[0mranked_score\u001b[0m\u001b[1;33m(\u001b[0m\u001b[0mX\u001b[0m\u001b[1;33m,\u001b[0m \u001b[0mXr\u001b[0m\u001b[1;33m,\u001b[0m \u001b[0mscore_fun\u001b[0m\u001b[1;33m=\u001b[0m\u001b[0mper_diff\u001b[0m\u001b[1;33m)\u001b[0m\u001b[1;33m\u001b[0m\u001b[1;33m\u001b[0m\u001b[0m\n\u001b[0m",
      "\u001b[1;32m~\\AppData\\Local\\Temp/ipykernel_8100/2438308861.py\u001b[0m in \u001b[0;36mranked_score\u001b[1;34m(X, Y, score_fun)\u001b[0m\n\u001b[0;32m      2\u001b[0m \u001b[1;33m\u001b[0m\u001b[0m\n\u001b[0;32m      3\u001b[0m \u001b[1;32mdef\u001b[0m \u001b[0mranked_score\u001b[0m\u001b[1;33m(\u001b[0m\u001b[0mX\u001b[0m\u001b[1;33m,\u001b[0m \u001b[0mY\u001b[0m\u001b[1;33m,\u001b[0m \u001b[0mscore_fun\u001b[0m\u001b[1;33m=\u001b[0m\u001b[0mcos_sim\u001b[0m\u001b[1;33m)\u001b[0m\u001b[1;33m:\u001b[0m\u001b[1;33m\u001b[0m\u001b[1;33m\u001b[0m\u001b[0m\n\u001b[1;32m----> 4\u001b[1;33m     \u001b[0mA\u001b[0m \u001b[1;33m=\u001b[0m \u001b[0mscore_fun\u001b[0m\u001b[1;33m(\u001b[0m\u001b[0mX\u001b[0m\u001b[1;33m,\u001b[0m \u001b[0mY\u001b[0m\u001b[1;33m,\u001b[0m \u001b[0mmatrix\u001b[0m\u001b[1;33m=\u001b[0m\u001b[1;32mTrue\u001b[0m\u001b[1;33m)\u001b[0m\u001b[1;33m\u001b[0m\u001b[1;33m\u001b[0m\u001b[0m\n\u001b[0m\u001b[0;32m      5\u001b[0m     \u001b[0mAs\u001b[0m \u001b[1;33m=\u001b[0m \u001b[0mtorch\u001b[0m\u001b[1;33m.\u001b[0m\u001b[0margsort\u001b[0m\u001b[1;33m(\u001b[0m\u001b[0mA\u001b[0m\u001b[1;33m,\u001b[0m \u001b[0mdim\u001b[0m\u001b[1;33m=\u001b[0m\u001b[1;36m1\u001b[0m\u001b[1;33m,\u001b[0m \u001b[0mdescending\u001b[0m\u001b[1;33m=\u001b[0m\u001b[1;32mTrue\u001b[0m \u001b[1;32mif\u001b[0m \u001b[0mscore_fun\u001b[0m \u001b[1;33m==\u001b[0m \u001b[0mcos_sim\u001b[0m \u001b[1;32melse\u001b[0m \u001b[1;32mFalse\u001b[0m\u001b[1;33m)\u001b[0m\u001b[1;33m\u001b[0m\u001b[1;33m\u001b[0m\u001b[0m\n\u001b[0;32m      6\u001b[0m     \u001b[0mdiag\u001b[0m \u001b[1;33m=\u001b[0m \u001b[0mtorch\u001b[0m\u001b[1;33m.\u001b[0m\u001b[0marange\u001b[0m\u001b[1;33m(\u001b[0m\u001b[0mstart\u001b[0m\u001b[1;33m=\u001b[0m\u001b[1;36m0\u001b[0m\u001b[1;33m,\u001b[0m \u001b[0mend\u001b[0m\u001b[1;33m=\u001b[0m\u001b[0mAs\u001b[0m\u001b[1;33m.\u001b[0m\u001b[0mshape\u001b[0m\u001b[1;33m[\u001b[0m\u001b[1;36m0\u001b[0m\u001b[1;33m]\u001b[0m\u001b[1;33m,\u001b[0m \u001b[0mdtype\u001b[0m\u001b[1;33m=\u001b[0m\u001b[0mint\u001b[0m\u001b[1;33m)\u001b[0m\u001b[1;33m.\u001b[0m\u001b[0mrepeat\u001b[0m\u001b[1;33m(\u001b[0m\u001b[0mAs\u001b[0m\u001b[1;33m.\u001b[0m\u001b[0mshape\u001b[0m\u001b[1;33m[\u001b[0m\u001b[1;36m0\u001b[0m\u001b[1;33m]\u001b[0m\u001b[1;33m,\u001b[0m \u001b[1;36m1\u001b[0m\u001b[1;33m)\u001b[0m\u001b[1;33m.\u001b[0m\u001b[0mT\u001b[0m\u001b[1;33m\u001b[0m\u001b[1;33m\u001b[0m\u001b[0m\n",
      "\u001b[1;32mD:\\Workspace\\SpecVAE\\specvae\\metrics.py\u001b[0m in \u001b[0;36mmean_percentage_difference\u001b[1;34m(y_true, y_pred, eps, matrix)\u001b[0m\n\u001b[0;32m    113\u001b[0m         \u001b[1;32mreturn\u001b[0m \u001b[0mtorch\u001b[0m\u001b[1;33m.\u001b[0m\u001b[0mmean\u001b[0m\u001b[1;33m(\u001b[0m\u001b[0mtorch\u001b[0m\u001b[1;33m.\u001b[0m\u001b[0mnan_to_num\u001b[0m\u001b[1;33m(\u001b[0m\u001b[0mtorch\u001b[0m\u001b[1;33m.\u001b[0m\u001b[0mabs\u001b[0m\u001b[1;33m(\u001b[0m\u001b[0my_true\u001b[0m \u001b[1;33m-\u001b[0m \u001b[0my_pred\u001b[0m\u001b[1;33m)\u001b[0m \u001b[1;33m/\u001b[0m \u001b[1;33m(\u001b[0m\u001b[0my_true\u001b[0m \u001b[1;33m+\u001b[0m \u001b[0my_pred\u001b[0m \u001b[1;33m+\u001b[0m \u001b[0meps\u001b[0m\u001b[1;33m)\u001b[0m \u001b[1;33m*\u001b[0m \u001b[1;36m2.\u001b[0m\u001b[1;33m)\u001b[0m\u001b[1;33m)\u001b[0m\u001b[1;33m\u001b[0m\u001b[1;33m\u001b[0m\u001b[0m\n\u001b[0;32m    114\u001b[0m     \u001b[1;32melse\u001b[0m\u001b[1;33m:\u001b[0m\u001b[1;33m\u001b[0m\u001b[1;33m\u001b[0m\u001b[0m\n\u001b[1;32m--> 115\u001b[1;33m         \u001b[1;32mreturn\u001b[0m \u001b[1;33m(\u001b[0m\u001b[0mtorch\u001b[0m\u001b[1;33m.\u001b[0m\u001b[0mabs\u001b[0m\u001b[1;33m(\u001b[0m\u001b[0my_true\u001b[0m\u001b[1;33m.\u001b[0m\u001b[0munsqueeze\u001b[0m\u001b[1;33m(\u001b[0m\u001b[1;36m1\u001b[0m\u001b[1;33m)\u001b[0m \u001b[1;33m-\u001b[0m \u001b[0my_pred\u001b[0m\u001b[1;33m)\u001b[0m \u001b[1;33m/\u001b[0m \u001b[1;33m(\u001b[0m\u001b[0my_true\u001b[0m\u001b[1;33m.\u001b[0m\u001b[0munsqueeze\u001b[0m\u001b[1;33m(\u001b[0m\u001b[1;36m1\u001b[0m\u001b[1;33m)\u001b[0m \u001b[1;33m+\u001b[0m \u001b[0my_pred\u001b[0m \u001b[1;33m+\u001b[0m \u001b[0meps\u001b[0m\u001b[1;33m)\u001b[0m \u001b[1;33m*\u001b[0m \u001b[1;36m2.\u001b[0m\u001b[1;33m)\u001b[0m\u001b[1;33m.\u001b[0m\u001b[0mmean\u001b[0m\u001b[1;33m(\u001b[0m\u001b[0mdim\u001b[0m\u001b[1;33m=\u001b[0m\u001b[1;36m2\u001b[0m\u001b[1;33m)\u001b[0m\u001b[1;33m\u001b[0m\u001b[1;33m\u001b[0m\u001b[0m\n\u001b[0m\u001b[0;32m    116\u001b[0m \u001b[1;33m\u001b[0m\u001b[0m\n\u001b[0;32m    117\u001b[0m \u001b[0mcos_sim\u001b[0m \u001b[1;33m=\u001b[0m \u001b[0mcosine_similarity\u001b[0m\u001b[1;33m\u001b[0m\u001b[1;33m\u001b[0m\u001b[0m\n",
      "\u001b[1;31mRuntimeError\u001b[0m: [enforce fail at ..\\c10\\core\\CPUAllocator.cpp:79] data. DefaultCPUAllocator: not enough memory: you tried to allocate 2001600320 bytes."
     ]
    }
   ],
   "source": [
    "X, Xr = torch.from_numpy(data['X']), torch.from_numpy(data['Xrecon'])\n",
    "cs_r = ranked_score(X, Xr, score_fun=cos_sim)\n",
    "eu_r = ranked_score(X, Xr, score_fun=eu_dist)\n",
    "pd_r = ranked_score(X, Xr, score_fun=per_diff)"
   ]
  },
  {
   "cell_type": "code",
   "execution_count": null,
   "metadata": {},
   "outputs": [
    {
     "data": {
      "text/plain": [
       "(1.0, 8.10435825669732, 42.84220492912013)"
      ]
     },
     "execution_count": 39,
     "metadata": {},
     "output_type": "execute_result"
    }
   ],
   "source": [
    "np.median(cs_r), cs_r.mean(), cs_r.std()"
   ]
  },
  {
   "cell_type": "code",
   "execution_count": null,
   "metadata": {},
   "outputs": [
    {
     "data": {
      "text/plain": [
       "(1.0, 8.105557776889244, 42.84210866179354)"
      ]
     },
     "execution_count": 40,
     "metadata": {},
     "output_type": "execute_result"
    }
   ],
   "source": [
    "np.median(eu_r), eu_r.mean(), eu_r.std()"
   ]
  },
  {
   "cell_type": "code",
   "execution_count": null,
   "metadata": {},
   "outputs": [
    {
     "data": {
      "text/plain": [
       "(18.0, 95.92782886845262, 208.05947488929175)"
      ]
     },
     "execution_count": 41,
     "metadata": {},
     "output_type": "execute_result"
    }
   ],
   "source": [
    "np.median(pd_r), pd_r.mean(), pd_r.std()"
   ]
  },
  {
   "cell_type": "code",
   "execution_count": null,
   "metadata": {},
   "outputs": [],
   "source": [
    "# n = 20000\n",
    "# cos_sim: 31.8712, 205.5470\n",
    "# eu_dist: 26.4113, 151.3936\n",
    "# per_diff: \n",
    "\n",
    "# n = 10000\n",
    "# cos_sim: 16.3766, 90.6407\n",
    "# eu_dist: 13.9536, 71.2896\n",
    "# per_diff: 149.4847, 402.5069\n",
    "\n",
    "# n = 5000\n",
    "# cos_sim: 8.1050, 42.8465\n",
    "# eu_dist: 7.0372, 34.6735\n",
    "# per_diff: 89.7121, 200.8601\n"
   ]
  },
  {
   "cell_type": "code",
   "execution_count": null,
   "metadata": {},
   "outputs": [
    {
     "data": {
      "image/png": "[encoded data removed]",
      "text/plain": [
       "<Figure size 1080x720 with 1 Axes>"
      ]
     },
     "metadata": {
      "needs_background": "light"
     },
     "output_type": "display_data"
    }
   ],
   "source": [
    "import seaborn as sns\n",
    "import pandas as pd\n",
    "import matplotlib.pyplot as plt\n",
    "from matplotlib.cm import get_cmap\n",
    "\n",
    "xlim = 20\n",
    "cm = get_cmap('Set2')\n",
    "scores = pd.DataFrame(data={'cos_sim': cs_r, 'eu_dist': eu_r, 'per_diff': pd_r})\n",
    "\n",
    "fig, ax = plt.subplots(figsize=(15, 10))\n",
    "ax = sns.histplot(data=scores, multiple='stack', stat='percent', discrete=True, edgecolor='white', linewidth=1., ax=ax, palette='Set2')\n",
    "ax.set_xlim(-0.5, xlim)\n",
    "\n",
    "t = ax.set_xticks(np.arange(0, xlim, dtype=int))\n",
    "_ = ax.vlines(x=np.median(cs_r), ymin=0, ymax=26, ls=':', colors=cm(0), label='median - cos_sim')\n",
    "_ = ax.vlines(x=np.median(eu_r), ymin=0, ymax=26, ls=':', colors=cm(1), label='median - eu_dist')\n",
    "_ = ax.vlines(x=np.median(pd_r), ymin=0, ymax=26, ls=':', colors=cm(2), label='median - per_diff')\n"
   ]
  },
  {
   "cell_type": "code",
   "execution_count": null,
   "metadata": {},
   "outputs": [
    {
     "data": {
      "image/png": "[encoded data removed]",
      "text/plain": [
       "<Figure size 216x720 with 1 Axes>"
      ]
     },
     "metadata": {
      "needs_background": "light"
     },
     "output_type": "display_data"
    }
   ],
   "source": [
    "fig, ax = plt.subplots(figsize=(3, 10))\n",
    "ax = sns.boxplot(data=scores, ax=ax, orient='v', palette='Set2')\n",
    "# _ = ax.set_yscale('log')\n",
    "_ = ax.set_ylim(-5, 250)"
   ]
  }
 ],
 "metadata": {
  "interpreter": {
   "hash": "12fad036f12904aeaa28cdcdcde7f08fe9827bf1370c00d971a641f25b8f063a"
  },
  "kernelspec": {
   "display_name": "Python 3.7.11 64-bit ('specvae': conda)",
   "language": "python",
   "name": "python3"
  },
  "language_info": {
   "codemirror_mode": {
    "name": "ipython",
    "version": 3
   },
   "file_extension": ".py",
   "mimetype": "text/x-python",
   "name": "python",
   "nbconvert_exporter": "python",
   "pygments_lexer": "ipython3",
   "version": "3.7.11"
  },
  "orig_nbformat": 4
 },
 "nbformat": 4,
 "nbformat_minor": 2
}
