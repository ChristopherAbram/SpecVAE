{
 "cells": [
  {
   "cell_type": "markdown",
   "id": "c65c1669-d12d-42b0-b66e-ee81ba7a6bb3",
   "metadata": {},
   "source": [
    "# Generate artificail spectra"
   ]
  },
  {
   "cell_type": "code",
   "execution_count": 1,
   "id": "e276a347-63b7-41c1-ba52-cb09fd497a3a",
   "metadata": {},
   "outputs": [],
   "source": [
    "import numpy as np\n",
    "import sys, os\n",
    "import torch\n",
    "from torch.utils.data import DataLoader\n",
    "import matplotlib.pyplot as plt\n",
    "import pandas as pd\n",
    "\n",
    "import torchvision as tv\n",
    "import specvae.vae as vae, specvae.utils as utils\n",
    "import specvae.dataset as dt"
   ]
  },
  {
   "cell_type": "code",
   "execution_count": 2,
   "id": "80d7eb72-f5fe-4b8d-b675-dd998e63ee60",
   "metadata": {},
   "outputs": [
    {
     "name": "stdout",
     "output_type": "stream",
     "text": [
      "Device in use:  cpu\n"
     ]
    }
   ],
   "source": [
    "use_cuda = False\n",
    "cpu_device = torch.device('cpu')\n",
    "if torch.cuda.is_available() and use_cuda:\n",
    "    device = torch.device('cuda:0')\n",
    "    print('GPU device count:', torch.cuda.device_count())\n",
    "else:\n",
    "    device = torch.device('cpu')\n",
    "print('Device in use: ', device)"
   ]
  },
  {
   "cell_type": "code",
   "execution_count": null,
   "id": "fddc4236-54bc-4fc7-a3a4-438474bcadf0",
   "metadata": {},
   "outputs": [],
   "source": []
  },
  {
   "cell_type": "code",
   "execution_count": 3,
   "id": "a5436887-8647-4cb3-8a37-1760b1f4ea5b",
   "metadata": {},
   "outputs": [],
   "source": [
    "def generate_spectra(mzs_range, ints_range, n=1):\n",
    "    if n == 1:\n",
    "        x = [ints_range if i < n else mzs_range for i in range(2*n)]\n",
    "        X = np.meshgrid(*x)\n",
    "        return np.vstack(tuple([Xi.flatten() for Xi in reversed(X)])).T\n",
    "    else:\n",
    "        x = [mzs_range if i < n else ints_range for i in range(2*n)]\n",
    "        X = np.meshgrid(*x)\n",
    "        return np.vstack(tuple([Xi.flatten() for Xi in X])).T"
   ]
  },
  {
   "cell_type": "code",
   "execution_count": 4,
   "id": "261eb219-d677-4b15-bf8d-fb50f67abc48",
   "metadata": {},
   "outputs": [],
   "source": [
    "def spectra2string(spectra, transform):\n",
    "    db = []\n",
    "    for i, spectrum in enumerate(spectra):\n",
    "        db.append(transform(spectrum))\n",
    "    return np.array(db)"
   ]
  },
  {
   "cell_type": "code",
   "execution_count": 5,
   "id": "66867494-c4fe-402e-9df5-fd328d385830",
   "metadata": {},
   "outputs": [],
   "source": [
    "def spectra2csv(X, filepath, n=1):\n",
    "    # Convert spectra to string format\n",
    "    revtv = tv.transforms.Compose([\n",
    "        dt.ToMZIntDeConcat(max_num_peaks=n),\n",
    "        dt.ToString()\n",
    "    ])\n",
    "    db = spectra2string(X, revtv)\n",
    "    # Save as CSV files\n",
    "    pd.DataFrame({'spectrum': db}).to_csv(filepath, index_label='id')"
   ]
  },
  {
   "cell_type": "markdown",
   "id": "bf7d38d3-dcd7-47b5-92fe-91f95c3c7ce4",
   "metadata": {},
   "source": [
    "## Load model\n",
    "This part of code prepares the VAE model and defines a method to convert input data to the format suitable for the model."
   ]
  },
  {
   "cell_type": "code",
   "execution_count": 6,
   "id": "c9c75c80-5f3a-433d-9307-d5d52368df0f",
   "metadata": {},
   "outputs": [],
   "source": [
    "model_name = 'alt_specvae_2000-1538-30-1538-2000 (28-06-2021_14-05-29)'\n",
    "dataset = 'MoNA'\n",
    "root_dir = utils.get_project_path() / '.data' / 'fake'\n",
    "sroot_dir = utils.get_project_path() / '.data' / 'latent'\n",
    "max_num_peaks = 1000\n",
    "min_intensity = 0.1\n",
    "spec_max_mz = 2500\n",
    "batch_size = 100000\n",
    "generate_imgs = True"
   ]
  },
  {
   "cell_type": "code",
   "execution_count": 7,
   "id": "94287d44-af5a-4a59-8315-24c4b71abb0d",
   "metadata": {},
   "outputs": [
    {
     "name": "stdout",
     "output_type": "stream",
     "text": [
      "Load model: alt_specvae_2000-1538-30-1538-2000 (28-06-2021_14-05-29)...\n"
     ]
    },
    {
     "data": {
      "text/plain": [
       "SpecAltVEA(\n",
       "  (encoder_): Sequential(\n",
       "    (en_lin_1): Linear(in_features=2000, out_features=1538, bias=True)\n",
       "    (en_lin_batchnorm_1): BatchNorm1d(1538, eps=1e-05, momentum=0.1, affine=True, track_running_stats=True)\n",
       "    (en_act_1): ReLU()\n",
       "  )\n",
       "  (en_mu): Linear(in_features=1538, out_features=30, bias=True)\n",
       "  (en_mu_batchnorm): BatchNorm1d(30, eps=1e-05, momentum=0.1, affine=True, track_running_stats=True)\n",
       "  (en_log_var): Linear(in_features=1538, out_features=30, bias=True)\n",
       "  (en_log_var_batchnorm): BatchNorm1d(30, eps=1e-05, momentum=0.1, affine=True, track_running_stats=True)\n",
       "  (sample): SampleZ()\n",
       "  (decoder): Sequential(\n",
       "    (de_lin_1): Linear(in_features=30, out_features=1538, bias=True)\n",
       "    (de_lin_batchnorm_1): BatchNorm1d(1538, eps=1e-05, momentum=0.1, affine=True, track_running_stats=True)\n",
       "    (de_act_1): ReLU()\n",
       "    (de_lin_2): Linear(in_features=1538, out_features=2000, bias=True)\n",
       "    (de_act_2): ReLUlimit()\n",
       "  )\n",
       ")"
      ]
     },
     "execution_count": 7,
     "metadata": {},
     "output_type": "execute_result"
    }
   ],
   "source": [
    "# Load VAE model\n",
    "print(\"Load model: %s...\" % model_name)\n",
    "model_path = utils.get_project_path() / '.model' / dataset / model_name / 'model.pth'\n",
    "model = vae.BaseVAE.load(model_path, device)\n",
    "model.eval()"
   ]
  },
  {
   "cell_type": "code",
   "execution_count": 8,
   "id": "ce551e29-e9ee-4e9e-8a55-3e1994ec2c3e",
   "metadata": {},
   "outputs": [],
   "source": [
    "def vae_encode(filepath, n_samples, device):\n",
    "    # Load and convert data\n",
    "    # Data processing\n",
    "#     n_samples = batch_size # -1 if all\n",
    "    savefig = True\n",
    "    cols = ['spectrum']\n",
    "\n",
    "    transform = tv.transforms.Compose([\n",
    "        dt.SplitSpectrum(),\n",
    "        dt.FilterPeaks(max_mz=spec_max_mz, min_intensity=min_intensity),\n",
    "#         dt.Normalize(intensity=True, mass=True, max_mz=spec_max_mz),\n",
    "        dt.ToMZIntConcatAlt(max_num_peaks=max_num_peaks)\n",
    "    ])\n",
    "    revtv = tv.transforms.Compose([])\n",
    "    \n",
    "    # Load and transform dataset:\n",
    "    print(\"Load data\")\n",
    "    data = dt.Spectra.preload_tensor(\n",
    "        device=device, filepath=filepath,\n",
    "        transform=transform, limit=n_samples)\n",
    "\n",
    "    if data is None:\n",
    "        print(\"No dataset specified, script terminates.\")\n",
    "        \n",
    "    # Set data loaders:\n",
    "    test_loader = DataLoader(\n",
    "        dt.Spectra(data=data, device=device, columns=cols),\n",
    "        batch_size=batch_size, shuffle=False)\n",
    "    \n",
    "    print(\"Encode N=%d spectra from %s dataset...\" % (n_samples, dataset))\n",
    "    spectrum_batch, id_batch = next(iter(test_loader))\n",
    "    mu, logvar = model.encode(spectrum_batch)\n",
    "    latent_batch = mu\n",
    "    X = latent_batch.data.cpu().numpy()\n",
    "    ids = np.array(id_batch)\n",
    "    return X, ids"
   ]
  },
  {
   "cell_type": "markdown",
   "id": "b38ab631-c92b-4588-b597-ef4d3d4027e4",
   "metadata": {},
   "source": [
    "## Generate single peak database\n",
    "This part of code is responsible for generating spectra with a single peak. The peak is distributed uniformely in given m/z range, per each m/z value we have many intensity values as well.\n",
    "- csv file with single peal with m/z values in range [mz_from, mz_to, mz_step] and intensity values in range [ints_from, ints_to, ints_step],"
   ]
  },
  {
   "cell_type": "markdown",
   "id": "36f227de-755c-4775-a3c3-fcdd1f2ae1d5",
   "metadata": {},
   "source": [
    "### Generate spectra and save csv file"
   ]
  },
  {
   "cell_type": "code",
   "execution_count": 9,
   "id": "c7399625-4417-4cc4-b0d0-f4ca8534a8c4",
   "metadata": {},
   "outputs": [],
   "source": [
    "# single peak with m/z values in range [mz_from, mz_to, mz_step] and intensity values in range [ints_from, ints_to, ints_step]\n",
    "spectra_array = generate_spectra(np.arange(10., 2501., 10.), np.arange(10., 101., 10.), n=1)"
   ]
  },
  {
   "cell_type": "code",
   "execution_count": 10,
   "id": "c283a2ae-4ae9-456d-80df-432af86f4473",
   "metadata": {},
   "outputs": [
    {
     "data": {
      "text/plain": [
       "(2500, 2)"
      ]
     },
     "execution_count": 10,
     "metadata": {},
     "output_type": "execute_result"
    }
   ],
   "source": [
    "spectra_array.shape"
   ]
  },
  {
   "cell_type": "code",
   "execution_count": 11,
   "id": "982c1e0f-70b5-4f89-960f-be5884939a9b",
   "metadata": {},
   "outputs": [],
   "source": [
    "# Save as CSV files\n",
    "spectra2csv(spectra_array, root_dir / 'single_peak.csv', n=1)"
   ]
  },
  {
   "cell_type": "markdown",
   "id": "8381569b-5755-4d0e-a7a4-eddd06caf29e",
   "metadata": {},
   "source": [
    "### Find latent representations and save in file"
   ]
  },
  {
   "cell_type": "code",
   "execution_count": 12,
   "id": "5b7956df-953a-44da-aa9d-aeea9c7c7c6e",
   "metadata": {},
   "outputs": [
    {
     "name": "stdout",
     "output_type": "stream",
     "text": [
      "Load data\n",
      "Load and transform...\n",
      "Progress: 5%\n",
      "Progress: 10%\n",
      "Progress: 15%\n",
      "Progress: 20%\n",
      "Progress: 25%\n",
      "Progress: 30%\n",
      "Progress: 35%\n",
      "Progress: 40%\n",
      "Progress: 45%\n",
      "Progress: 50%\n",
      "Progress: 55%\n",
      "Progress: 60%\n",
      "Progress: 65%\n",
      "Progress: 70%\n",
      "Progress: 75%\n",
      "Progress: 80%\n",
      "Progress: 85%\n",
      "Progress: 90%\n",
      "Progress: 95%\n",
      "Convert data to pytorch tensors...\n",
      "Encode N=100000 spectra from MoNA dataset...\n"
     ]
    },
    {
     "data": {
      "text/plain": [
       "((2500, 30), (2500,))"
      ]
     },
     "execution_count": 12,
     "metadata": {},
     "output_type": "execute_result"
    }
   ],
   "source": [
    "X, ids = vae_encode(root_dir / 'single_peak.csv', batch_size, device)\n",
    "X.shape, ids.shape"
   ]
  },
  {
   "cell_type": "code",
   "execution_count": 13,
   "id": "8a4b7a30-3d7d-4025-b406-c81ff6ddda5e",
   "metadata": {},
   "outputs": [
    {
     "name": "stdout",
     "output_type": "stream",
     "text": [
      "Export data\n",
      "Done!\n"
     ]
    }
   ],
   "source": [
    "print(\"Export data\")\n",
    "np.savez(sroot_dir / 'single_peak.npz', X=X, ids=ids)\n",
    "print(\"Done!\")"
   ]
  },
  {
   "cell_type": "markdown",
   "id": "1e47ebb3-05cb-4280-8a5a-86b80e6a4f3b",
   "metadata": {},
   "source": [
    "## Generate two peaks spectra database\n",
    "This part of code is responsible for generating spectra with two peaks. Peaks is distributed uniformely in given m/z range, per each m/z value we have many intensity values as well.\n",
    "- csv file with all combinations of two peaks in descrete space [mz_from, mz_to, mz_step]"
   ]
  },
  {
   "cell_type": "code",
   "execution_count": 27,
   "id": "811508d1-d1c1-4636-a4ac-4dcf91d0e1bd",
   "metadata": {},
   "outputs": [],
   "source": [
    "spectra_array = generate_spectra(np.arange(10., 2501, 50.), np.arange(1., 101., 20.), n=2)"
   ]
  },
  {
   "cell_type": "code",
   "execution_count": 28,
   "id": "478287b4-d6fb-413b-92a0-b8848c49cedf",
   "metadata": {},
   "outputs": [
    {
     "data": {
      "text/plain": [
       "(62500, 4)"
      ]
     },
     "execution_count": 28,
     "metadata": {},
     "output_type": "execute_result"
    }
   ],
   "source": [
    "spectra_array.shape"
   ]
  },
  {
   "cell_type": "code",
   "execution_count": 29,
   "id": "5cebe025-7786-4a01-be59-6dc1b1b113a7",
   "metadata": {},
   "outputs": [],
   "source": [
    "spectra2csv(spectra_array, root_dir / 'two_peaks.csv', n=2)"
   ]
  },
  {
   "cell_type": "code",
   "execution_count": 30,
   "id": "5fa54846-391b-4ebd-a97f-8d0f1605fa1b",
   "metadata": {},
   "outputs": [
    {
     "name": "stdout",
     "output_type": "stream",
     "text": [
      "Load data\n",
      "Load and transform...\n",
      "Progress: 5%\n",
      "Progress: 10%\n",
      "Progress: 15%\n",
      "Progress: 20%\n",
      "Progress: 25%\n",
      "Progress: 30%\n",
      "Progress: 35%\n",
      "Progress: 40%\n",
      "Progress: 45%\n",
      "Progress: 50%\n",
      "Progress: 55%\n",
      "Progress: 60%\n",
      "Progress: 65%\n",
      "Progress: 70%\n",
      "Progress: 75%\n",
      "Progress: 80%\n",
      "Progress: 85%\n",
      "Progress: 90%\n",
      "Progress: 95%\n",
      "Convert data to pytorch tensors...\n",
      "Encode N=100000 spectra from MoNA dataset...\n"
     ]
    },
    {
     "data": {
      "text/plain": [
       "((62500, 30), (62500,))"
      ]
     },
     "execution_count": 30,
     "metadata": {},
     "output_type": "execute_result"
    }
   ],
   "source": [
    "X, ids = vae_encode(root_dir / 'two_peaks.csv', batch_size, device)\n",
    "X.shape, ids.shape"
   ]
  },
  {
   "cell_type": "code",
   "execution_count": 31,
   "id": "9d21620b-163b-4daf-8add-7eeb884805c6",
   "metadata": {},
   "outputs": [
    {
     "name": "stdout",
     "output_type": "stream",
     "text": [
      "Export data\n",
      "Done!\n"
     ]
    }
   ],
   "source": [
    "print(\"Export data\")\n",
    "np.savez(sroot_dir / 'two_peaks.npz', X=X, ids=ids)\n",
    "print(\"Done!\")"
   ]
  },
  {
   "cell_type": "markdown",
   "id": "2fc5916b-9ec0-4805-b8fb-352f8b21da8c",
   "metadata": {},
   "source": [
    "## Generate three peaks spectra database\n",
    "This part of code is responsible for generating spectra with three peaks. Peaks is distributed uniformely in given m/z range, per each m/z value we have many intensity values as well.\n",
    "- csv file with all combinations of three peaks in descrete space [mz_from, mz_to, mz_step]"
   ]
  },
  {
   "cell_type": "code",
   "execution_count": 19,
   "id": "c9913016-3d2d-486c-a5ef-6085fa3c27ad",
   "metadata": {},
   "outputs": [
    {
     "name": "stdout",
     "output_type": "stream",
     "text": [
      "Load data\n",
      "Load and transform...\n",
      "Convert data to pytorch tensors...\n",
      "Encode N=100000 spectra from MoNA dataset...\n"
     ]
    },
    {
     "data": {
      "text/plain": [
       "((100000, 30), (100000,))"
      ]
     },
     "execution_count": 19,
     "metadata": {},
     "output_type": "execute_result"
    }
   ],
   "source": [
    "spectra_array = generate_spectra(np.arange(10., 2501, 100.), np.arange(1., 101., 20.), n=3)\n",
    "spectra2csv(spectra_array, root_dir / 'three_peaks.csv', n=3)\n",
    "X, ids = vae_encode(root_dir / 'three_peaks.csv', batch_size, device)\n",
    "X.shape, ids.shape"
   ]
  },
  {
   "cell_type": "code",
   "execution_count": 20,
   "id": "7ffb571c-0ce0-4305-a46d-315f3eafd279",
   "metadata": {},
   "outputs": [
    {
     "name": "stdout",
     "output_type": "stream",
     "text": [
      "Export data\n",
      "Done!\n"
     ]
    }
   ],
   "source": [
    "print(\"Export data\")\n",
    "np.savez(sroot_dir / 'three_peaks.npz', X=X, ids=ids)\n",
    "print(\"Done!\")"
   ]
  },
  {
   "cell_type": "markdown",
   "id": "ff4be00d-10af-4c99-85c3-4c5ee2fcd76f",
   "metadata": {},
   "source": [
    "## Generate four peaks spectra database\n",
    "This part of code is responsible for generating spectra with four peaks. Peaks is distributed uniformely in given m/z range, per each m/z value we have many intensity values as well.\n",
    "- csv file with all combinations of three peaks in descrete space [mz_from, mz_to, mz_step]"
   ]
  },
  {
   "cell_type": "code",
   "execution_count": 13,
   "id": "f57bfb18-ff17-4d43-9901-2206d6fdf3bf",
   "metadata": {},
   "outputs": [
    {
     "name": "stdout",
     "output_type": "stream",
     "text": [
      "(2560000, 8)\n",
      "Load data\n",
      "Load and transform...\n",
      "Progress: 5%\n",
      "Progress: 10%\n",
      "Progress: 15%\n",
      "Progress: 20%\n",
      "Progress: 25%\n",
      "Progress: 30%\n",
      "Progress: 35%\n",
      "Convert data to pytorch tensors...\n",
      "Encode N=1000000 spectra from MoNA dataset...\n"
     ]
    },
    {
     "data": {
      "text/plain": [
       "((100000, 30), (100000,))"
      ]
     },
     "execution_count": 13,
     "metadata": {},
     "output_type": "execute_result"
    }
   ],
   "source": [
    "spectra_array = generate_spectra(np.arange(10., 1001, 100.), np.arange(10., 101., 30.), n=4)\n",
    "print(spectra_array.shape)\n",
    "spectra2csv(spectra_array, root_dir / 'four_peaks.csv', n=4)\n",
    "X, ids = vae_encode(root_dir / 'four_peaks.csv', 1000000, device)\n",
    "X.shape, ids.shape"
   ]
  },
  {
   "cell_type": "code",
   "execution_count": 14,
   "id": "882fc5f7-adf1-42a5-8c07-76a7d4628280",
   "metadata": {},
   "outputs": [
    {
     "name": "stdout",
     "output_type": "stream",
     "text": [
      "Export data\n",
      "Done!\n"
     ]
    }
   ],
   "source": [
    "print(\"Export data\")\n",
    "np.savez(sroot_dir / 'four_peaks.npz', X=X, ids=ids)\n",
    "print(\"Done!\")"
   ]
  },
  {
   "cell_type": "markdown",
   "id": "e0559f0d-7013-44b5-9adc-54a05ddb97d8",
   "metadata": {},
   "source": [
    "## Generate five peaks spectra database"
   ]
  },
  {
   "cell_type": "code",
   "execution_count": 9,
   "id": "e594e41d-8946-47f8-9de4-95210ad1706a",
   "metadata": {},
   "outputs": [
    {
     "data": {
      "text/plain": [
       "(1889568, 10)"
      ]
     },
     "execution_count": 9,
     "metadata": {},
     "output_type": "execute_result"
    }
   ],
   "source": [
    "spectra_array = generate_spectra(np.arange(10., 2501, 300.), np.arange(10., 101., 50.), n=5)\n",
    "spectra_array.shape"
   ]
  },
  {
   "cell_type": "code",
   "execution_count": 10,
   "id": "cdcf865a-671a-4f16-bbaa-f58509e87fd9",
   "metadata": {},
   "outputs": [
    {
     "name": "stdout",
     "output_type": "stream",
     "text": [
      "Load data\n",
      "Load and transform...\n",
      "Progress: 5%\n",
      "Progress: 10%\n",
      "Progress: 15%\n",
      "Progress: 20%\n",
      "Progress: 25%\n",
      "Progress: 30%\n",
      "Progress: 35%\n",
      "Progress: 40%\n",
      "Progress: 45%\n",
      "Progress: 50%\n",
      "Convert data to pytorch tensors...\n",
      "Encode N=1000000 spectra from MoNA dataset...\n"
     ]
    },
    {
     "data": {
      "text/plain": [
       "((100000, 30), (100000,))"
      ]
     },
     "execution_count": 10,
     "metadata": {},
     "output_type": "execute_result"
    }
   ],
   "source": [
    "spectra2csv(spectra_array, root_dir / 'five_peaks.csv', n=5)\n",
    "X, ids = vae_encode(root_dir / 'five_peaks.csv', 1000000, device)\n",
    "X.shape, ids.shape"
   ]
  },
  {
   "cell_type": "code",
   "execution_count": 12,
   "id": "424284ee-96fc-4a94-ae50-ccca492738f2",
   "metadata": {},
   "outputs": [
    {
     "name": "stdout",
     "output_type": "stream",
     "text": [
      "Export data\n",
      "Done!\n"
     ]
    }
   ],
   "source": [
    "print(\"Export data\")\n",
    "np.savez(sroot_dir / 'five_peaks.npz', X=X, ids=ids)\n",
    "print(\"Done!\")"
   ]
  },
  {
   "cell_type": "markdown",
   "id": "de8b214a-9c54-4a76-bfcf-201d5c18ac5d",
   "metadata": {},
   "source": [
    "## Generate six peaks spectra database"
   ]
  },
  {
   "cell_type": "code",
   "execution_count": 9,
   "id": "0f04b395-0276-4e8c-a686-e1c575cd4256",
   "metadata": {},
   "outputs": [
    {
     "data": {
      "text/plain": [
       "(7529536, 12)"
      ]
     },
     "execution_count": 9,
     "metadata": {},
     "output_type": "execute_result"
    }
   ],
   "source": [
    "spectra_array = generate_spectra(np.arange(10., 2501, 400.), np.arange(10., 101., 50.), n=6)\n",
    "spectra_array.shape"
   ]
  },
  {
   "cell_type": "code",
   "execution_count": 11,
   "id": "3fe9859b-4a0d-4021-96c7-2a18de42e56a",
   "metadata": {},
   "outputs": [
    {
     "name": "stdout",
     "output_type": "stream",
     "text": [
      "Load data\n",
      "Load and transform...\n",
      "Progress: 5%\n",
      "Progress: 10%\n",
      "Convert data to pytorch tensors...\n",
      "Encode N=1000000 spectra from MoNA dataset...\n"
     ]
    },
    {
     "data": {
      "text/plain": [
       "((100000, 30), (100000,))"
      ]
     },
     "execution_count": 11,
     "metadata": {},
     "output_type": "execute_result"
    }
   ],
   "source": [
    "spectra2csv(spectra_array, root_dir / 'six_peaks.csv', n=6)\n",
    "X, ids = vae_encode(root_dir / 'six_peaks.csv', 1000000, device)\n",
    "X.shape, ids.shape"
   ]
  },
  {
   "cell_type": "code",
   "execution_count": 12,
   "id": "03d10b2f-4122-4c2a-a29b-05936615c14d",
   "metadata": {},
   "outputs": [
    {
     "name": "stdout",
     "output_type": "stream",
     "text": [
      "Export data\n",
      "Done!\n"
     ]
    }
   ],
   "source": [
    "print(\"Export data\")\n",
    "np.savez(sroot_dir / 'six_peaks.npz', X=X, ids=ids)\n",
    "print(\"Done!\")"
   ]
  },
  {
   "cell_type": "code",
   "execution_count": null,
   "id": "07e9503a-6120-4adc-8967-2792e329f703",
   "metadata": {},
   "outputs": [],
   "source": []
  }
 ],
 "metadata": {
  "kernelspec": {
   "display_name": "Python 3",
   "language": "python",
   "name": "python3"
  },
  "language_info": {
   "codemirror_mode": {
    "name": "ipython",
    "version": 3
   },
   "file_extension": ".py",
   "mimetype": "text/x-python",
   "name": "python",
   "nbconvert_exporter": "python",
   "pygments_lexer": "ipython3",
   "version": "3.7.9"
  }
 },
 "nbformat": 4,
 "nbformat_minor": 5
}
