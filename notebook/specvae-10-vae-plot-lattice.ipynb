{
 "cells": [
  {
   "cell_type": "markdown",
   "id": "5d77a08b",
   "metadata": {
    "papermill": {
     "duration": 0.015966,
     "end_time": "2021-11-18T14:27:25.515140",
     "exception": false,
     "start_time": "2021-11-18T14:27:25.499174",
     "status": "completed"
    },
    "tags": []
   },
   "source": [
    "# Plot lattice"
   ]
  },
  {
   "cell_type": "code",
   "execution_count": null,
   "id": "cf31948c",
   "metadata": {
    "execution": {
     "iopub.execute_input": "2021-11-18T14:27:25.557142Z",
     "iopub.status.busy": "2021-11-18T14:27:25.556142Z",
     "iopub.status.idle": "2021-11-18T14:27:28.040728Z",
     "shell.execute_reply": "2021-11-18T14:27:28.039729Z"
    },
    "papermill": {
     "duration": 2.507586,
     "end_time": "2021-11-18T14:27:28.040728",
     "exception": false,
     "start_time": "2021-11-18T14:27:25.533142",
     "status": "completed"
    },
    "tags": []
   },
   "outputs": [],
   "source": [
    "import os\n",
    "import numpy as np\n",
    "from specvae.model import BaseModel\n",
    "import specvae.dataset as dt\n",
    "import specvae.utils as utils"
   ]
  },
  {
   "cell_type": "code",
   "execution_count": null,
   "id": "b7f27156",
   "metadata": {
    "execution": {
     "iopub.execute_input": "2021-11-18T14:27:28.121015Z",
     "iopub.status.busy": "2021-11-18T14:27:28.120017Z",
     "iopub.status.idle": "2021-11-18T14:27:28.124034Z",
     "shell.execute_reply": "2021-11-18T14:27:28.124034Z"
    },
    "papermill": {
     "duration": 0.022019,
     "end_time": "2021-11-18T14:27:28.124034",
     "exception": false,
     "start_time": "2021-11-18T14:27:28.102015",
     "status": "completed"
    },
    "tags": [
     "injected-parameters"
    ]
   },
   "outputs": [],
   "source": [
    "# Parameters\n",
    "model_dirs = [\n",
    "    # \"d:\\\\Workspace\\\\SpecVAE\\\\.model\\\\HMDB\\\\betavae_capacity_nextron\\\\betavae_capacity_20-400-200-50-2-50-200-400-20_01 (24-12-2021_19-40-39)\",\n",
    "    # \"d:\\\\Workspace\\\\SpecVAE\\\\.model\\\\HMDB\\\\betavae_capacity_nextron\\\\betavae_capacity_20-1600-2-1600-20_02 (24-12-2021_18-27-38)\",\n",
    "    # \"d:\\\\Workspace\\\\SpecVAE\\\\.model\\\\HMDB\\\\betavae_capacity_nextron\\\\betavae_capacity_20-100-2-90-100-20_03 (24-12-2021_20-30-13)\",\n",
    "    # \"d:\\\\Workspace\\\\SpecVAE\\\\.model\\\\HMDB\\\\betavae_capacity_nextron\\\\betavae_capacity_20-100-90-2-90-100-20_04 (24-12-2021_19-24-07)\",\n",
    "    # \"d:\\\\Workspace\\\\SpecVAE\\\\.model\\\\HMDB\\\\betavae_capacity_nextron\\\\betavae_capacity_20-400-100-2-100-400-20_05 (24-12-2021_19-09-29)\",\n",
    "    # \"d:\\\\Workspace\\\\SpecVAE\\\\.model\\\\HMDB\\\\betavae_capacity_nextron\\\\betavae_capacity_20-100-90-2-100-20_06 (24-12-2021_20-58-10)\",\n",
    "\n",
    "    # \"d:\\\\Workspace\\\\SpecVAE\\\\.model\\\\MoNA\\\\betavae_capacity_nextron\\\\betavae_capacity_20-800-200-50-3-50-200-800-20_01 (24-12-2021_01-50-12)\",\n",
    "    # \"d:\\\\Workspace\\\\SpecVAE\\\\.model\\\\MoNA\\\\betavae_capacity_nextron\\\\betavae_capacity_20-400-100-3-400-20_02 (24-12-2021_03-34-34)\",\n",
    "    \"d:\\\\Workspace\\\\SpecVAE\\\\.model\\\\MoNA\\\\betavae_capacity_nextron\\\\best\\\\betavae_capacity_20-1600-3-1600-20_03 (24-12-2021_00-17-31)\",\n",
    "    # \"d:\\\\Workspace\\\\SpecVAE\\\\.model\\\\MoNA\\\\betavae_capacity_nextron\\\\betavae_capacity_20-800-3-800-20_04 (24-12-2021_00-25-10)\",\n",
    "    # \"d:\\\\Workspace\\\\SpecVAE\\\\.model\\\\MoNA\\\\betavae_capacity_nextron\\\\betavae_capacity_20-100-3-90-100-20_05 (24-12-2021_03-01-19)\",\n",
    "    # \"d:\\\\Workspace\\\\SpecVAE\\\\.model\\\\MoNA\\\\betavae_capacity_nextron\\\\betavae_capacity_50-400-3-100-400-50_06 (24-12-2021_06-19-49)\"\n",
    "]\n"
   ]
  },
  {
   "cell_type": "code",
   "execution_count": null,
   "id": "0c8a9dc2",
   "metadata": {},
   "outputs": [],
   "source": [
    "def load_model(path):\n",
    "    device, cpu = utils.device(use_cuda=False)\n",
    "    model_path = os.path.join(path, 'model.pth')\n",
    "    model = BaseModel.load(model_path, device)\n",
    "    model.eval()\n",
    "    return model"
   ]
  },
  {
   "cell_type": "code",
   "execution_count": null,
   "id": "ae53e82e",
   "metadata": {},
   "outputs": [],
   "source": [
    "import torch\n",
    "def lattice(model, grid=(8, 8), zrange=(-3, 3), dim1=0, dim2=1, rdim_value=0.):\n",
    "    with torch.no_grad():\n",
    "        z = torch.zeros(1, model.latent_dim)\n",
    "        z = z.repeat(grid[0] * grid[1], 1)\n",
    "        x = torch.linspace(zrange[0], zrange[1], grid[0])\n",
    "        y = torch.linspace(zrange[0], zrange[1], grid[1])\n",
    "        x_grid, y_grid = torch.meshgrid(x, y)\n",
    "        z[:, dim1] = x_grid.flatten()\n",
    "        z[:, dim2] = y_grid.flatten()\n",
    "        if model.latent_dim > 2:\n",
    "            rdiml = list(range(model.latent_dim))\n",
    "            rdiml.remove(dim1)\n",
    "            rdiml.remove(dim2)\n",
    "            rdim = rdiml[0]\n",
    "            z[:, rdim] = rdim_value\n",
    "        z = z.to(model.device)\n",
    "        return model.decode(z)\n"
   ]
  },
  {
   "cell_type": "code",
   "execution_count": null,
   "id": "8fa00eea",
   "metadata": {},
   "outputs": [],
   "source": [
    "import specvae.visualize as vis\n",
    "import torchvision as tv\n",
    "import itertools as it\n",
    "\n",
    "resolution = 0.5\n",
    "grid = (32, 32)\n",
    "zrange = (-5., 5.)"
   ]
  },
  {
   "cell_type": "code",
   "execution_count": null,
   "metadata": {},
   "outputs": [],
   "source": [
    "for model_path in model_dirs:\n",
    "    model = load_model(model_path)\n",
    "    revtrans = tv.transforms.Compose([\n",
    "        dt.ToMZIntDeConcatAlt(max_num_peaks=model.config['max_num_peaks']),\n",
    "        dt.Denormalize(intensity=model.config['normalize_intensity'], mass=model.config['normalize_mass'], max_mz=model.config['max_mz']),\n",
    "        dt.ToDenseSpectrum(resolution=resolution, max_mz=model.config['max_mz'])\n",
    "    ])\n",
    "    print(model_path)\n",
    "    if model.config['dataset'] == 'MoNA':\n",
    "        for dim1, dim2 in it.combinations([0,1,2], 2):\n",
    "            for rvalue in np.linspace(-5., 5., num=11):\n",
    "                print('dim1=%d, dim2=%d, rvalue=%f' % (dim1, dim2, rvalue))\n",
    "                spectra = lattice(model, grid=grid, zrange=zrange, dim1=dim1, dim2=dim2, rdim_value=rvalue)\n",
    "                fig, axs = vis.plot_spectra_(spectra, grid=grid, figsize=(68, 36), resolution=resolution, max_mz=model.config['max_mz'], transform=revtrans, dpi=300)\n",
    "                fig.savefig(f'../.img/lattice/lattice-dim{dim1}-dim{dim2}-rvalue{rvalue}.svg')\n",
    "                fig.savefig(f'../.img/lattice/lattice-dim{dim1}-dim{dim2}-rvalue{rvalue}.png')\n",
    "    elif model.config['dataset'] == 'HMDB':\n",
    "        dim1, dim2 = 0, 1\n",
    "        print('dim1=%d, dim2=%d' % (dim1, dim2))\n",
    "        spectra = lattice(model, grid=grid, zrange=zrange, dim1=dim1, dim2=dim2, rdim_value=0.)\n",
    "        vis.plot_spectra_(spectra, grid=grid, figsize=(68, 36), resolution=resolution, max_mz=model.config['max_mz'], transform=revtrans)"
   ]
  }
 ],
 "metadata": {
  "interpreter": {
   "hash": "12fad036f12904aeaa28cdcdcde7f08fe9827bf1370c00d971a641f25b8f063a"
  },
  "kernelspec": {
   "display_name": "Python 3 (ipykernel)",
   "language": "python",
   "name": "python3"
  },
  "language_info": {
   "codemirror_mode": {
    "name": "ipython",
    "version": 3
   },
   "file_extension": ".py",
   "mimetype": "text/x-python",
   "name": "python",
   "nbconvert_exporter": "python",
   "pygments_lexer": "ipython3",
   "version": "3.7.11"
  },
  "papermill": {
   "default_parameters": {},
   "duration": 81.737321,
   "end_time": "2021-11-18T14:28:45.431300",
   "environment_variables": {},
   "exception": null,
   "input_path": "d:\\Workspace\\SpecVAE\\notebook\\specvae-10-vae-plot-latent-pca.ipynb",
   "output_path": "d:\\Workspace\\SpecVAE\\notebook\\specvae-10-vae-plot-latent-pca.ipynb",
   "parameters": {
    "dataset": "MoNA",
    "model_dir": "d:\\Workspace\\SpecVAE\\.model\\MoNA\\joint_sigmoid\\joint_vae_30-15-3-15-30 (17-11-2021_22-06-46)",
    "model_name": "joint_vae_30-15-3-15-30 (17-11-2021_22-06-46)"
   },
   "start_time": "2021-11-18T14:27:23.693979",
   "version": "2.3.3"
  }
 },
 "nbformat": 4,
 "nbformat_minor": 5
}
