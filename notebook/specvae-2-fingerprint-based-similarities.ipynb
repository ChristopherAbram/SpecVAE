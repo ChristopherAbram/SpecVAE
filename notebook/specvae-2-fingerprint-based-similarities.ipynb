{
 "metadata": {
  "language_info": {
   "codemirror_mode": {
    "name": "ipython",
    "version": 3
   },
   "file_extension": ".py",
   "mimetype": "text/x-python",
   "name": "python",
   "nbconvert_exporter": "python",
   "pygments_lexer": "ipython3",
   "version": "3.7.9"
  },
  "orig_nbformat": 4,
  "kernelspec": {
   "name": "python3",
   "display_name": "Python 3.7.9 64-bit ('spectra_vae': conda)"
  },
  "interpreter": {
   "hash": "96803faf9eb6966f3c363a404b953bf55b7f0c27ba1921e83c59e074a4f873a1"
  }
 },
 "nbformat": 4,
 "nbformat_minor": 2,
 "cells": [
  {
   "source": [
    "# Compute fingerprint based similarities\n",
    "Given preprocessed spectra, we derive molecular fingerprints and compute pairwise similarity with Jaccard metric."
   ],
   "cell_type": "markdown",
   "metadata": {}
  },
  {
   "cell_type": "code",
   "execution_count": 1,
   "metadata": {},
   "outputs": [],
   "source": [
    "import os\n",
    "import numpy as np\n",
    "import pandas as pd\n",
    "import gensim\n",
    "\n",
    "from matchms.filtering import normalize_intensities, reduce_to_number_of_peaks, require_minimum_number_of_peaks\n",
    "from spec2vec import SpectrumDocument, Spec2Vec\n",
    "from spec2vec.model_building import train_new_word2vec_model\n",
    "from matchms import calculate_scores, Spectrum\n",
    "\n",
    "import specvae.utils, specvae.dataset as dt\n",
    "from specvae.dataset import MoNA"
   ]
  },
  {
   "cell_type": "code",
   "execution_count": 2,
   "metadata": {},
   "outputs": [],
   "source": [
    "def spectrum_processing(s):\n",
    "    s = normalize_intensities(s)\n",
    "    return s"
   ]
  },
  {
   "cell_type": "code",
   "execution_count": 3,
   "metadata": {},
   "outputs": [],
   "source": [
    "def parse_spectrum(row):\n",
    "    string = row['spectrum']\n",
    "    m = dt.SplitSpectrum()(string)\n",
    "    mzs, ints = zip(*m)\n",
    "    idx = np.argsort(np.array(mzs))\n",
    "    s = Spectrum(mz=np.array(mzs)[idx], intensities=np.array(ints)[idx], \n",
    "            metadata={\n",
    "                'inchi': str(row['InChI']), \n",
    "                'smiles': str(row['SMILES'])\n",
    "            })\n",
    "    s = spectrum_processing(s)\n",
    "    return s"
   ]
  },
  {
   "source": [
    "## Load data"
   ],
   "cell_type": "markdown",
   "metadata": {}
  },
  {
   "cell_type": "code",
   "execution_count": 4,
   "metadata": {},
   "outputs": [],
   "source": [
    "dataset = 'MoNA'"
   ]
  },
  {
   "cell_type": "code",
   "execution_count": 5,
   "metadata": {},
   "outputs": [
    {
     "output_type": "stream",
     "name": "stdout",
     "text": [
      "Load and preprocess MoNA validation data...\n"
     ]
    },
    {
     "output_type": "execute_result",
     "data": {
      "text/plain": [
       "0        <matchms.Spectrum.Spectrum object at 0x0000020...\n",
       "1        <matchms.Spectrum.Spectrum object at 0x0000020...\n",
       "2        <matchms.Spectrum.Spectrum object at 0x0000020...\n",
       "3        <matchms.Spectrum.Spectrum object at 0x0000020...\n",
       "4        <matchms.Spectrum.Spectrum object at 0x0000020...\n",
       "                               ...                        \n",
       "12193    <matchms.Spectrum.Spectrum object at 0x0000020...\n",
       "12194    <matchms.Spectrum.Spectrum object at 0x0000020...\n",
       "12195    <matchms.Spectrum.Spectrum object at 0x0000020...\n",
       "12196    <matchms.Spectrum.Spectrum object at 0x0000020...\n",
       "12197    <matchms.Spectrum.Spectrum object at 0x0000020...\n",
       "Length: 12198, dtype: object"
      ]
     },
     "metadata": {},
     "execution_count": 5
    }
   ],
   "source": [
    "print(\"Load and preprocess %s data...\" % dataset)\n",
    "if dataset == 'HMDB':\n",
    "    valid_data_path = utils.get_project_path() / '.data' / 'HMDB' / 'hmdb_cfmid_dataset_valid.csv'\n",
    "    df_valid = pd.read_csv(valid_data_path)\n",
    "\n",
    "elif dataset == 'MoNA':\n",
    "    data_path = utils.get_project_path() / '.data' / 'MoNA' / 'MoNA_score.csv'\n",
    "    df = pd.read_csv(data_path)\n",
    "\n",
    "X = df.apply(parse_spectrum, axis=1)\n",
    "X"
   ]
  },
  {
   "source": [
    "## Add molecular fingerprints\n"
   ],
   "cell_type": "markdown",
   "metadata": {}
  },
  {
   "cell_type": "code",
   "execution_count": 6,
   "metadata": {},
   "outputs": [],
   "source": [
    "from matchms.filtering.add_fingerprint import add_fingerprint\n",
    "spectra = [add_fingerprint(s, fingerprint_type=\"daylight\", nbits=2048) for s in X]"
   ]
  },
  {
   "cell_type": "code",
   "execution_count": 10,
   "metadata": {
    "tags": []
   },
   "outputs": [
    {
     "output_type": "stream",
     "name": "stdout",
     "text": [
      "No fingerprint: 172\nWeird: 0\n"
     ]
    }
   ],
   "source": [
    "no_f, w_f = 0, 0\n",
    "for i, spec in enumerate(spectra):\n",
    "    if spec.get(\"fingerprint\") is None:\n",
    "        no_f += 1\n",
    "    elif spec.get(\"fingerprint\").sum() < 1:\n",
    "        w_f += 1\n",
    "print(\"No fingerprint:\", no_f)\n",
    "print(\"Weird:\", w_f)"
   ]
  },
  {
   "source": [
    "## Compute similarity score"
   ],
   "cell_type": "markdown",
   "metadata": {}
  },
  {
   "cell_type": "code",
   "execution_count": 11,
   "metadata": {},
   "outputs": [],
   "source": [
    "from matchms.similarity import FingerprintSimilarity\n",
    "sm = FingerprintSimilarity(similarity_measure=\"jaccard\")\n",
    "scores = sm.matrix(spectra, spectra)"
   ]
  },
  {
   "cell_type": "code",
   "execution_count": 12,
   "metadata": {},
   "outputs": [
    {
     "output_type": "execute_result",
     "data": {
      "text/plain": [
       "array([[1.        , 1.        , 1.        , ..., 0.45114213, 0.45363409,\n",
       "        0.45363409],\n",
       "       [1.        , 1.        , 1.        , ..., 0.45114213, 0.45363409,\n",
       "        0.45363409],\n",
       "       [1.        , 1.        , 1.        , ..., 0.45114213, 0.45363409,\n",
       "        0.45363409],\n",
       "       ...,\n",
       "       [0.45114213, 0.45114213, 0.45114213, ..., 1.        , 0.97419859,\n",
       "        0.97419859],\n",
       "       [0.45363409, 0.45363409, 0.45363409, ..., 0.97419859, 1.        ,\n",
       "        1.        ],\n",
       "       [0.45363409, 0.45363409, 0.45363409, ..., 0.97419859, 1.        ,\n",
       "        1.        ]])"
      ]
     },
     "metadata": {},
     "execution_count": 12
    }
   ],
   "source": [
    "scores"
   ]
  },
  {
   "cell_type": "code",
   "execution_count": 13,
   "metadata": {},
   "outputs": [],
   "source": [
    "# Save file in specified location\n",
    "filepath = utils.get_project_path() / '.data' / dataset / ('%s_sim_jaccard.npy' % dataset)\n",
    "np.save(filepath, scores)"
   ]
  }
 ]
}